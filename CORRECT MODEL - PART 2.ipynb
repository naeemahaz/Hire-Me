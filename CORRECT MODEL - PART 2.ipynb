{
 "cells": [
  {
   "cell_type": "markdown",
   "metadata": {},
   "source": [
    "# HIRING PART 2 - MODEL"
   ]
  },
  {
   "cell_type": "markdown",
   "metadata": {},
   "source": [
    "Hiring Model ipums@umn.edu Thu, Nov 28, 12:31 PM (2 days ago) to me Your Higher Ed extract is ready. To retrieve your data, codebook, and command files, go to the link below. Account: naeemahaz@gmail.com Extract: 2 Link: https://highered.ipums.org/highered-action/extract_requests/download Publications and research reports based on the Higher Ed database must cite it appropriately. The citation should include the following: Minnesota Population Center. IPUMS Higher Ed: Version 1.0 [dataset]. Minneapolis, MN: University of Minnesota, 2016. https://doi.org/10.18128/D100.V1.0 For policy briefs or articles in the popular press that use the Higher Ed database, we recommend that you cite the use of Higher Ed data as follows: Higher Ed, University of Minnesota, www.ipums.org Thank you for your support. Sincerely, The Higher Ed Team"
   ]
  },
  {
   "cell_type": "code",
   "execution_count": 1,
   "metadata": {},
   "outputs": [
    {
     "name": "stderr",
     "output_type": "stream",
     "text": [
      "C:\\Users\\Naeemah\\Anaconda3\\lib\\site-packages\\sklearn\\externals\\six.py:31: DeprecationWarning: The module is deprecated in version 0.21 and will be removed in version 0.23 since we've dropped support for Python 2.7. Please rely on the official version of six (https://pypi.org/project/six/).\n",
      "  \"(https://pypi.org/project/six/).\", DeprecationWarning)\n"
     ]
    },
    {
     "data": {
      "application/vnd.jupyter.widget-view+json": {
       "model_id": "350bce2717ac4cc3a6a678563faca0b6",
       "version_major": 2,
       "version_minor": 0
      },
      "text/plain": [
       "HBox(children=(IntProgress(value=0, max=50), HTML(value='')))"
      ]
     },
     "metadata": {},
     "output_type": "display_data"
    },
    {
     "name": "stdout",
     "output_type": "stream",
     "text": [
      "\n"
     ]
    }
   ],
   "source": [
    "import pandas as pd\n",
    "import numpy as np\n",
    "import csv\n",
    "from sklearn.tree import DecisionTreeClassifier # Import Decision Tree Classifier\n",
    "from sklearn.model_selection import train_test_split # Import train_test_split function\n",
    "from sklearn import metrics #Import scikit-learn metrics module for accuracy calculation\n",
    "import matplotlib.pyplot as plt\n",
    "import pydotplus\n",
    "import os\n",
    "from sklearn import tree\n",
    "from sklearn.preprocessing import StandardScaler\n",
    "import seaborn as sns\n",
    "from sklearn.preprocessing import LabelEncoder\n",
    "enc = LabelEncoder()\n",
    "from sklearn import preprocessing \n",
    "from sklearn.tree import export_graphviz\n",
    "from sklearn.externals.six import StringIO  \n",
    "from IPython.display import Image  \n",
    "import pydotplus\n",
    "import graphviz \n",
    "pd.set_option('display.width', 2000)\n",
    "pd.set_option('display.max_columns', 2000)\n",
    "import os\n",
    "from tqdm import tqdm_notebook as tqdm\n",
    "import time \n",
    "for i in tqdm(range(50)):\n",
    "    time.sleep(0.1)"
   ]
  },
  {
   "cell_type": "code",
   "execution_count": 2,
   "metadata": {},
   "outputs": [
    {
     "name": "stderr",
     "output_type": "stream",
     "text": [
      "C:\\Users\\Naeemah\\Anaconda3\\lib\\site-packages\\IPython\\core\\interactiveshell.py:3057: DtypeWarning: Columns (0) have mixed types. Specify dtype option on import or set low_memory=False.\n",
      "  interactivity=interactivity, compiler=compiler, result=result)\n"
     ]
    },
    {
     "data": {
      "application/vnd.jupyter.widget-view+json": {
       "model_id": "5be5ee3928f04170b32b9dd3f4ed3f45",
       "version_major": 2,
       "version_minor": 0
      },
      "text/plain": [
       "HBox(children=(IntProgress(value=0, max=50), HTML(value='')))"
      ]
     },
     "metadata": {},
     "output_type": "display_data"
    },
    {
     "name": "stdout",
     "output_type": "stream",
     "text": [
      "\n"
     ]
    }
   ],
   "source": [
    "data = pd.read_csv('alldata.csv')\n",
    "for i in tqdm(range(50)):\n",
    "    time.sleep(0.1)\n"
   ]
  },
  {
   "cell_type": "code",
   "execution_count": 3,
   "metadata": {},
   "outputs": [
    {
     "data": {
      "application/vnd.jupyter.widget-view+json": {
       "model_id": "75ca9a303d404d2dbdc68db6252affb5",
       "version_major": 2,
       "version_minor": 0
      },
      "text/plain": [
       "HBox(children=(IntProgress(value=0, max=50), HTML(value='')))"
      ]
     },
     "metadata": {},
     "output_type": "display_data"
    },
    {
     "name": "stdout",
     "output_type": "stream",
     "text": [
      "\n"
     ]
    }
   ],
   "source": [
    "dataset = data\n",
    "for i in tqdm(range(50)):\n",
    "    time.sleep(0.1)"
   ]
  },
  {
   "cell_type": "code",
   "execution_count": 4,
   "metadata": {},
   "outputs": [
    {
     "data": {
      "application/vnd.jupyter.widget-view+json": {
       "model_id": "ef1dc662e9654828bafefd4847c7aa74",
       "version_major": 2,
       "version_minor": 0
      },
      "text/plain": [
       "HBox(children=(IntProgress(value=0, max=50), HTML(value='')))"
      ]
     },
     "metadata": {},
     "output_type": "display_data"
    },
    {
     "name": "stdout",
     "output_type": "stream",
     "text": [
      "\n"
     ]
    }
   ],
   "source": [
    "dataset['FIELD_MAJOR_RECENT_DEGREE'].fillna('None', inplace=True)\n",
    "for i in tqdm(range(50)):\n",
    "    time.sleep(0.1)"
   ]
  },
  {
   "cell_type": "code",
   "execution_count": 5,
   "metadata": {},
   "outputs": [
    {
     "data": {
      "application/vnd.jupyter.widget-view+json": {
       "model_id": "196a2de77eff41209306ba8e56d39bc9",
       "version_major": 2,
       "version_minor": 0
      },
      "text/plain": [
       "HBox(children=(IntProgress(value=0, max=50), HTML(value='')))"
      ]
     },
     "metadata": {},
     "output_type": "display_data"
    },
    {
     "name": "stdout",
     "output_type": "stream",
     "text": [
      "\n"
     ]
    }
   ],
   "source": [
    "dataset['AGE'] = pd.to_numeric(data['AGE'])\n",
    "for i in tqdm(range(50)):\n",
    "    time.sleep(0.1)"
   ]
  },
  {
   "cell_type": "code",
   "execution_count": 6,
   "metadata": {},
   "outputs": [
    {
     "data": {
      "application/vnd.jupyter.widget-view+json": {
       "model_id": "e067d5c870d94eb2bb23a4ecf829cb11",
       "version_major": 2,
       "version_minor": 0
      },
      "text/plain": [
       "HBox(children=(IntProgress(value=0, max=50), HTML(value='')))"
      ]
     },
     "metadata": {},
     "output_type": "display_data"
    },
    {
     "name": "stdout",
     "output_type": "stream",
     "text": [
      "\n"
     ]
    }
   ],
   "source": [
    "bins = [20, 30,  40,  50,  60,  70,  80]\n",
    "dataset['AGE_BINS'] = pd.cut(dataset['AGE'], bins)\n",
    "for i in tqdm(range(50)):\n",
    "    time.sleep(0.1)"
   ]
  },
  {
   "cell_type": "code",
   "execution_count": 7,
   "metadata": {},
   "outputs": [
    {
     "data": {
      "application/vnd.jupyter.widget-view+json": {
       "model_id": "3a5438c0554c49dc9998ec74c12a4358",
       "version_major": 2,
       "version_minor": 0
      },
      "text/plain": [
       "HBox(children=(IntProgress(value=0, max=50), HTML(value='')))"
      ]
     },
     "metadata": {},
     "output_type": "display_data"
    },
    {
     "name": "stdout",
     "output_type": "stream",
     "text": [
      "\n"
     ]
    }
   ],
   "source": [
    "dataset['SALARY_NEW'] = dataset[' SALARY '].str.replace('$', '')\n",
    "for i in tqdm(range(50)):\n",
    "    time.sleep(0.1)"
   ]
  },
  {
   "cell_type": "code",
   "execution_count": 8,
   "metadata": {},
   "outputs": [
    {
     "data": {
      "application/vnd.jupyter.widget-view+json": {
       "model_id": "adb112ce4bec4f6faaba2cce8fc251ee",
       "version_major": 2,
       "version_minor": 0
      },
      "text/plain": [
       "HBox(children=(IntProgress(value=0, max=50), HTML(value='')))"
      ]
     },
     "metadata": {},
     "output_type": "display_data"
    },
    {
     "name": "stdout",
     "output_type": "stream",
     "text": [
      "\n"
     ]
    }
   ],
   "source": [
    "dataset['SALARY_NEW'] = dataset['SALARY_NEW'].str.replace(',', '')\n",
    "for i in tqdm(range(50)):\n",
    "    time.sleep(0.1)"
   ]
  },
  {
   "cell_type": "code",
   "execution_count": 9,
   "metadata": {},
   "outputs": [
    {
     "data": {
      "application/vnd.jupyter.widget-view+json": {
       "model_id": "d9d585a2adf34e768970e077cc15d66b",
       "version_major": 2,
       "version_minor": 0
      },
      "text/plain": [
       "HBox(children=(IntProgress(value=0, max=50), HTML(value='')))"
      ]
     },
     "metadata": {},
     "output_type": "display_data"
    },
    {
     "name": "stdout",
     "output_type": "stream",
     "text": [
      "\n"
     ]
    }
   ],
   "source": [
    "dataset['SALARY'] = dataset['SALARY_NEW'].str.replace(' -   ', '')\n",
    "for i in tqdm(range(50)):\n",
    "    time.sleep(0.1)"
   ]
  },
  {
   "cell_type": "code",
   "execution_count": 10,
   "metadata": {},
   "outputs": [
    {
     "data": {
      "application/vnd.jupyter.widget-view+json": {
       "model_id": "fac1f1187ae6425ea4e10a1ac5846b2e",
       "version_major": 2,
       "version_minor": 0
      },
      "text/plain": [
       "HBox(children=(IntProgress(value=0, max=50), HTML(value='')))"
      ]
     },
     "metadata": {},
     "output_type": "display_data"
    },
    {
     "name": "stdout",
     "output_type": "stream",
     "text": [
      "\n"
     ]
    }
   ],
   "source": [
    "dataset = dataset.drop('SALARY_NEW', axis=1)\n",
    "for i in tqdm(range(50)):\n",
    "    time.sleep(0.1)"
   ]
  },
  {
   "cell_type": "code",
   "execution_count": 11,
   "metadata": {},
   "outputs": [
    {
     "data": {
      "application/vnd.jupyter.widget-view+json": {
       "model_id": "72a9ef3f7e0f4234b602bca805671898",
       "version_major": 2,
       "version_minor": 0
      },
      "text/plain": [
       "HBox(children=(IntProgress(value=0, max=50), HTML(value='')))"
      ]
     },
     "metadata": {},
     "output_type": "display_data"
    },
    {
     "name": "stdout",
     "output_type": "stream",
     "text": [
      "\n"
     ]
    }
   ],
   "source": [
    "dataset['SALARY'] = pd.to_numeric(dataset['SALARY'], errors='coerce')\n",
    "for i in tqdm(range(50)):\n",
    "    time.sleep(0.1)"
   ]
  },
  {
   "cell_type": "code",
   "execution_count": 12,
   "metadata": {},
   "outputs": [
    {
     "data": {
      "application/vnd.jupyter.widget-view+json": {
       "model_id": "b1cb2cf89c8f402f8d093b7318fdb6f2",
       "version_major": 2,
       "version_minor": 0
      },
      "text/plain": [
       "HBox(children=(IntProgress(value=0, max=50), HTML(value='')))"
      ]
     },
     "metadata": {},
     "output_type": "display_data"
    },
    {
     "name": "stdout",
     "output_type": "stream",
     "text": [
      "\n"
     ]
    }
   ],
   "source": [
    "bins = [0, 5000, 10000, 20000,  30000,  40000,  50000,  60000,  70000,  80000, 90000, 100000, 200000]\n",
    "dataset['SALARY_BINS'] = pd.cut(dataset['SALARY'], bins)\n",
    "for i in tqdm(range(50)):\n",
    "    time.sleep(0.1)"
   ]
  },
  {
   "cell_type": "code",
   "execution_count": 13,
   "metadata": {},
   "outputs": [
    {
     "data": {
      "application/vnd.jupyter.widget-view+json": {
       "model_id": "60280ab4cc11454c8fd52c28d9acad0b",
       "version_major": 2,
       "version_minor": 0
      },
      "text/plain": [
       "HBox(children=(IntProgress(value=0, max=50), HTML(value='')))"
      ]
     },
     "metadata": {},
     "output_type": "display_data"
    },
    {
     "name": "stdout",
     "output_type": "stream",
     "text": [
      "\n"
     ]
    }
   ],
   "source": [
    "dataset = dataset.drop('SALARY', axis=1)\n",
    "for i in tqdm(range(50)):\n",
    "    time.sleep(0.1)"
   ]
  },
  {
   "cell_type": "code",
   "execution_count": 14,
   "metadata": {},
   "outputs": [
    {
     "data": {
      "application/vnd.jupyter.widget-view+json": {
       "model_id": "43d80e18b2354f289d7a241a296e8ca7",
       "version_major": 2,
       "version_minor": 0
      },
      "text/plain": [
       "HBox(children=(IntProgress(value=0, max=50), HTML(value='')))"
      ]
     },
     "metadata": {},
     "output_type": "display_data"
    },
    {
     "name": "stdout",
     "output_type": "stream",
     "text": [
      "\n"
     ]
    }
   ],
   "source": [
    "datasetbackup = dataset\n",
    "for i in tqdm(range(50)):\n",
    "    time.sleep(0.1)"
   ]
  },
  {
   "cell_type": "code",
   "execution_count": 15,
   "metadata": {},
   "outputs": [],
   "source": [
    "modelme = dataset"
   ]
  },
  {
   "cell_type": "code",
   "execution_count": 16,
   "metadata": {},
   "outputs": [],
   "source": [
    "modelme = modelme.drop('REFID', axis=1)\n",
    "modelme = modelme.drop('AGE', axis=1)"
   ]
  },
  {
   "cell_type": "code",
   "execution_count": 17,
   "metadata": {},
   "outputs": [],
   "source": [
    "modelme = modelme.drop('SALARY_BINS', axis=1)"
   ]
  },
  {
   "cell_type": "code",
   "execution_count": 18,
   "metadata": {},
   "outputs": [],
   "source": [
    "modelme = modelme.drop('AGE_BINS', axis=1)"
   ]
  },
  {
   "cell_type": "code",
   "execution_count": 19,
   "metadata": {},
   "outputs": [],
   "source": [
    "modelme = modelme.drop(' SALARY ', axis=1)"
   ]
  },
  {
   "cell_type": "code",
   "execution_count": 20,
   "metadata": {},
   "outputs": [],
   "source": [
    "X = modelme.drop('SATISFACTION_JOB', axis=1)"
   ]
  },
  {
   "cell_type": "code",
   "execution_count": 21,
   "metadata": {},
   "outputs": [],
   "source": [
    "y = modelme['SATISFACTION_JOB']"
   ]
  },
  {
   "cell_type": "code",
   "execution_count": 22,
   "metadata": {},
   "outputs": [],
   "source": [
    "X = pd.get_dummies(X, prefix_sep='_', drop_first=False)"
   ]
  },
  {
   "cell_type": "code",
   "execution_count": 23,
   "metadata": {},
   "outputs": [],
   "source": [
    "y = pd.get_dummies(y, prefix_sep='_', drop_first=False)"
   ]
  },
  {
   "cell_type": "code",
   "execution_count": 24,
   "metadata": {},
   "outputs": [
    {
     "data": {
      "text/plain": [
       "(62373, 315)"
      ]
     },
     "execution_count": 24,
     "metadata": {},
     "output_type": "execute_result"
    }
   ],
   "source": [
    "X.shape"
   ]
  },
  {
   "cell_type": "code",
   "execution_count": 25,
   "metadata": {},
   "outputs": [
    {
     "data": {
      "text/plain": [
       "(62373, 4)"
      ]
     },
     "execution_count": 25,
     "metadata": {},
     "output_type": "execute_result"
    }
   ],
   "source": [
    "y.shape"
   ]
  },
  {
   "cell_type": "code",
   "execution_count": 26,
   "metadata": {},
   "outputs": [
    {
     "name": "stderr",
     "output_type": "stream",
     "text": [
      "C:\\Users\\Naeemah\\Anaconda3\\lib\\site-packages\\sklearn\\ensemble\\forest.py:245: FutureWarning: The default value of n_estimators will change from 10 in version 0.20 to 100 in 0.22.\n",
      "  \"10 in version 0.20 to 100 in 0.22.\", FutureWarning)\n"
     ]
    },
    {
     "name": "stdout",
     "output_type": "stream",
     "text": [
      "[0.00409525 0.00436204 0.0029838  0.0028865  0.00284375 0.00281083\n",
      " 0.00397915 0.00264709 0.00272611 0.00158768 0.00178682 0.00068962\n",
      " 0.0026041  0.00227593 0.00165148 0.00458801 0.00363119 0.00389122\n",
      " 0.00190622 0.00228417 0.00467507 0.0043422  0.00233376 0.00232243\n",
      " 0.00331971 0.00323631 0.00351515 0.00383009 0.00240995 0.00252763\n",
      " 0.00364796 0.00143905 0.00358603 0.00107391 0.00051982 0.0006598\n",
      " 0.00093791 0.00182071 0.00027162 0.00129074 0.00212228 0.00107109\n",
      " 0.00107168 0.0028392  0.00151768 0.00068935 0.00188004 0.00062642\n",
      " 0.00060428 0.00026557 0.00016524 0.00039285 0.00028147 0.0002541\n",
      " 0.00043636 0.00070051 0.00210739 0.0015079  0.00120477 0.00131303\n",
      " 0.00201553 0.00223115 0.0031572  0.00119406 0.00313174 0.001187\n",
      " 0.00204104 0.00184914 0.00352277 0.00270557 0.00015822 0.00229266\n",
      " 0.00335157 0.00332911 0.00174524 0.00267169 0.00350251 0.00236088\n",
      " 0.00349792 0.00152515 0.00108242 0.00167927 0.00132106 0.00137487\n",
      " 0.00159525 0.00072812 0.00229471 0.00149959 0.00136858 0.00243468\n",
      " 0.00114717 0.00189498 0.00153087 0.00152777 0.00289973 0.00278057\n",
      " 0.00253872 0.00151531 0.00162858 0.00132853 0.00190462 0.00181064\n",
      " 0.00111    0.0015109  0.00117963 0.00295183 0.00287091 0.0011156\n",
      " 0.00131669 0.00136757 0.00147622 0.00174425 0.00127955 0.0011381\n",
      " 0.00345168 0.00282894 0.00216683 0.00255469 0.00129455 0.00166605\n",
      " 0.00179888 0.00237594 0.00221824 0.00329362 0.00318696 0.00221195\n",
      " 0.00221052 0.0023795  0.00264089 0.00228885 0.00207116 0.00187708\n",
      " 0.0018005  0.00343181 0.00330061 0.00305357 0.00296266 0.00324983\n",
      " 0.00315332 0.00390306 0.00351297 0.00251677 0.00252681 0.0029553\n",
      " 0.00294729 0.00345152 0.00354771 0.0033845  0.00321694 0.00311855\n",
      " 0.00309037 0.00295239 0.00305998 0.00324522 0.0031358  0.00340974\n",
      " 0.00335544 0.00317286 0.00314822 0.00276309 0.00277658 0.00360651\n",
      " 0.00352452 0.00398233 0.00283545 0.0017557  0.00134318 0.00417513\n",
      " 0.00387768 0.0038201  0.00070055 0.00059202 0.00105928 0.00040577\n",
      " 0.00186195 0.00049946 0.00091555 0.00052398 0.00049194 0.00037509\n",
      " 0.00043417 0.00073287 0.00139876 0.00106254 0.00011355 0.000949\n",
      " 0.0007438  0.00105679 0.00116831 0.00113222 0.001185   0.00085346\n",
      " 0.00074438 0.00109682 0.00118877 0.0013192  0.00140938 0.00063688\n",
      " 0.00051856 0.00130077 0.00122071 0.01062805 0.00710639 0.00959871\n",
      " 0.01351005 0.00453201 0.00611424 0.00369197 0.01626571 0.01244943\n",
      " 0.00979513 0.01180812 0.04626032 0.0037881  0.0156446  0.00399503\n",
      " 0.01101734 0.00340091 0.0048727  0.00241817 0.01031443 0.00606348\n",
      " 0.02888963 0.00457919 0.04937226 0.01001463 0.01107927 0.01028561\n",
      " 0.0299684  0.00563486 0.00726189 0.00466284 0.00941089 0.00446761\n",
      " 0.00978608 0.00394769 0.02819454 0.00269324 0.00252116 0.00235398\n",
      " 0.00262624 0.00019429 0.00046637 0.00138474 0.00367106 0.00055715\n",
      " 0.00258174 0.00151712 0.00148054 0.00346103 0.00333336 0.00311766\n",
      " 0.00323962 0.00311083 0.00317864 0.00039107 0.00037084 0.00272575\n",
      " 0.00276634 0.00303168 0.00266336 0.00328499 0.00330082 0.00351758\n",
      " 0.00359851 0.0030698  0.00309509 0.00425372 0.00117823 0.00419044\n",
      " 0.00102622 0.00157216 0.00185669 0.00071371 0.00094083 0.00117662\n",
      " 0.00225503 0.00127616 0.00141941 0.00220605 0.00169048 0.00160988\n",
      " 0.00071597 0.00105792 0.00200589 0.00242668 0.00157089 0.00098245\n",
      " 0.00074484 0.00143991 0.00199266 0.0014254  0.00228086 0.001974\n",
      " 0.0027251  0.00294536 0.00144961 0.00294318 0.00289362 0.00150632\n",
      " 0.00138964 0.00120951 0.00119546 0.00099013 0.00099735 0.00108569\n",
      " 0.00110812 0.00084927 0.00086884 0.00109455 0.00113932 0.0014251\n",
      " 0.00134421 0.00101093 0.00097943]\n"
     ]
    },
    {
     "data": {
      "image/png": "[encoded data removed]",
      "text/plain": [
       "<Figure size 432x288 with 1 Axes>"
      ]
     },
     "metadata": {
      "needs_background": "light"
     },
     "output_type": "display_data"
    },
    {
     "data": {
      "application/vnd.jupyter.widget-view+json": {
       "model_id": "ed7fae39afb74b2d9b8c1335ee87f558",
       "version_major": 2,
       "version_minor": 0
      },
      "text/plain": [
       "HBox(children=(IntProgress(value=0, max=50), HTML(value='')))"
      ]
     },
     "metadata": {},
     "output_type": "display_data"
    },
    {
     "name": "stdout",
     "output_type": "stream",
     "text": [
      "\n"
     ]
    }
   ],
   "source": [
    "from sklearn.ensemble import ExtraTreesClassifier\n",
    "import matplotlib.pyplot as plt\n",
    "model = ExtraTreesClassifier()\n",
    "model.fit(X,y)\n",
    "print(model.feature_importances_) #use inbuilt class feature_importances of tree based classifiers\n",
    "#plot graph of feature importances for better visualization\n",
    "feat_importances = pd.Series(model.feature_importances_, index=X.columns)\n",
    "feat_importances.nlargest(20).plot(kind='barh')\n",
    "plt.show()\n",
    "for i in tqdm(range(50)):\n",
    "    time.sleep(0.1)"
   ]
  },
  {
   "cell_type": "raw",
   "metadata": {},
   "source": [
    "'SATISFACTION_JOB_ADVANCE_Somewhat dissatisfied',\n",
    "'SATISFACTION_JOB_ADVANCE_Very dissatisfied',\n",
    "'SATISFACTION_JOB_ADVANCE_Very satisfied',\n",
    "'SATISFACTION_JOB_BENEFITS_Very satisfied',\n",
    "'SATISFACTION_JOB_CHALLENGE_Somewhat dissatisfied',\n",
    "'SATISFACTION_JOB_CHALLENGE_Somewhat satisfied',\n",
    "'SATISFACTION_JOB_CHALLENGE_Very dissatisfied',\n",
    "'SATISFACTION_JOB_CHALLENGE_Very satisfied',\n",
    "'SATISFACTION_JOB_INDEP_Somewhat satisfied',\n",
    "'SATISFACTION_JOB_INDEP_Very satisfied',\n",
    "'SATISFACTION_JOB_LOC_Very satisfied',\n",
    "'SATISFACTION_JOB_RESP_Somewhat satisfied',\n",
    "'SATISFACTION_JOB_RESP_Very satisfied',\n",
    "'SATISFACTION_JOB_SALARY_Somewhat dissatisfied',\n",
    "'SATISFACTION_JOB_SALARY_Somewhat satisfied',\n",
    "'SATISFACTION_JOB_SALARY_Very dissatisfied',\n",
    "'SATISFACTION_JOB_SALARY_Very satisfied',\n",
    "'SATISFACTION_JOB_SECURITY_Very satisfied',\n",
    "'SATISFACTION_JOB_CONTRIB_SOCIETY_Somewhat satisfied',\n",
    "'SATISFACTION_JOB_CONTRIB_SOCIETY_Very satisfied'"
   ]
  },
  {
   "cell_type": "code",
   "execution_count": 27,
   "metadata": {},
   "outputs": [],
   "source": [
    "Xnew = X[['SATISFACTION_JOB_ADVANCE_Somewhat dissatisfied',\n",
    "'SATISFACTION_JOB_ADVANCE_Very dissatisfied',\n",
    "'SATISFACTION_JOB_ADVANCE_Very satisfied',\n",
    "'SATISFACTION_JOB_BENEFITS_Very satisfied',\n",
    "'SATISFACTION_JOB_CHALLENGE_Somewhat dissatisfied',\n",
    "'SATISFACTION_JOB_CHALLENGE_Somewhat satisfied',\n",
    "'SATISFACTION_JOB_CHALLENGE_Very dissatisfied',\n",
    "'SATISFACTION_JOB_CHALLENGE_Very satisfied',\n",
    "'SATISFACTION_JOB_INDEP_Somewhat satisfied',\n",
    "'SATISFACTION_JOB_INDEP_Very satisfied',\n",
    "'SATISFACTION_JOB_LOC_Very satisfied',\n",
    "'SATISFACTION_JOB_RESP_Somewhat satisfied',\n",
    "'SATISFACTION_JOB_RESP_Very satisfied',\n",
    "'SATISFACTION_JOB_SALARY_Somewhat dissatisfied',\n",
    "'SATISFACTION_JOB_SALARY_Somewhat satisfied',\n",
    "'SATISFACTION_JOB_SALARY_Very dissatisfied',\n",
    "'SATISFACTION_JOB_SALARY_Very satisfied',\n",
    "'SATISFACTION_JOB_SECURITY_Very satisfied',\n",
    "'SATISFACTION_JOB_CONTRIB_SOCIETY_Somewhat satisfied',\n",
    "'SATISFACTION_JOB_CONTRIB_SOCIETY_Very satisfied']]"
   ]
  },
  {
   "cell_type": "code",
   "execution_count": 28,
   "metadata": {},
   "outputs": [],
   "source": [
    "X_train, X_test, y_train, y_test = train_test_split(Xnew, y, test_size = 0.2)"
   ]
  },
  {
   "cell_type": "code",
   "execution_count": 29,
   "metadata": {},
   "outputs": [],
   "source": [
    "dtree_score1 =[];dtree_score2 =[];dtree_score3 =[];dtree_score4 =[]"
   ]
  },
  {
   "cell_type": "code",
   "execution_count": 30,
   "metadata": {},
   "outputs": [],
   "source": [
    "dtree = DecisionTreeClassifier(random_state = 1111, max_depth = 4);dtree.fit(X_train, y_train)\n",
    "dtree_score1.append(dtree.score(X_test, y_test))"
   ]
  },
  {
   "cell_type": "code",
   "execution_count": 31,
   "metadata": {},
   "outputs": [],
   "source": [
    "dtree = DecisionTreeClassifier(random_state = 1111, max_depth = 8);dtree.fit(X_train, y_train)\n",
    "dtree_score2.append(dtree.score(X_test, y_test))"
   ]
  },
  {
   "cell_type": "code",
   "execution_count": 32,
   "metadata": {},
   "outputs": [],
   "source": [
    "dtree = DecisionTreeClassifier(random_state = 1111, max_depth = 12);dtree.fit(X_train, y_train)\n",
    "dtree_score3.append(dtree.score(X_test, y_test))"
   ]
  },
  {
   "cell_type": "code",
   "execution_count": 33,
   "metadata": {},
   "outputs": [],
   "source": [
    "dtree = DecisionTreeClassifier(random_state = 1111, max_depth = 16);dtree.fit(X_train, y_train)\n",
    "dtree_score4.append(dtree.score(X_test, y_test))"
   ]
  },
  {
   "cell_type": "code",
   "execution_count": 34,
   "metadata": {},
   "outputs": [
    {
     "data": {
      "application/vnd.jupyter.widget-view+json": {
       "model_id": "d82824a31640426b8e2b453955571155",
       "version_major": 2,
       "version_minor": 0
      },
      "text/plain": [
       "HBox(children=(IntProgress(value=0, max=50), HTML(value='')))"
      ]
     },
     "metadata": {},
     "output_type": "display_data"
    },
    {
     "name": "stdout",
     "output_type": "stream",
     "text": [
      "\n"
     ]
    },
    {
     "data": {
      "image/png": "[encoded data removed]",
      "text/plain": [
       "<Figure size 432x288 with 1 Axes>"
      ]
     },
     "metadata": {
      "needs_background": "light"
     },
     "output_type": "display_data"
    }
   ],
   "source": [
    "sns.barplot(data=[dtree_score1, dtree_score2, dtree_score3, dtree_score4])\n",
    "plt.xticks([0,1,2,3], ['Very satisfied', 'Somewhat satisfied', 'Somewhat dissatisfied', 'Very dissatisfied'])\n",
    "plt.ylabel('Test Accuracy')\n",
    "for i in tqdm(range(50)):\n",
    "    time.sleep(0.1)"
   ]
  },
  {
   "cell_type": "code",
   "execution_count": 35,
   "metadata": {},
   "outputs": [
    {
     "data": {
      "text/plain": [
       "Text(0, 0.5, 'Test Accuracy')"
      ]
     },
     "execution_count": 35,
     "metadata": {},
     "output_type": "execute_result"
    },
    {
     "data": {
      "image/png": "[encoded data removed]",
      "text/plain": [
       "<Figure size 432x288 with 1 Axes>"
      ]
     },
     "metadata": {
      "needs_background": "light"
     },
     "output_type": "display_data"
    }
   ],
   "source": [
    "sns.boxplot(data=[dtree_score1, dtree_score2, dtree_score3, dtree_score4])\n",
    "plt.xticks([0,1,2,3], ['Very satisfied', 'Somewhat satisfied', 'Somewhat dissatisfied', 'Very dissatisfied'])\n",
    "plt.ylabel('Test Accuracy')"
   ]
  },
  {
   "cell_type": "code",
   "execution_count": 36,
   "metadata": {},
   "outputs": [
    {
     "data": {
      "text/plain": [
       "Text(0, 0.5, 'Test Accuracy')"
      ]
     },
     "execution_count": 36,
     "metadata": {},
     "output_type": "execute_result"
    },
    {
     "data": {
      "image/png": "[encoded data removed]",
      "text/plain": [
       "<Figure size 432x288 with 1 Axes>"
      ]
     },
     "metadata": {
      "needs_background": "light"
     },
     "output_type": "display_data"
    }
   ],
   "source": [
    "sns.stripplot(data=[dtree_score1, dtree_score2, dtree_score3, dtree_score4])\n",
    "plt.xticks([0,1,2,3], ['Very satisfied', 'Somewhat satisfied', 'Somewhat dissatisfied', 'Very dissatisfied'])\n",
    "plt.ylabel('Test Accuracy')"
   ]
  },
  {
   "cell_type": "code",
   "execution_count": 37,
   "metadata": {},
   "outputs": [],
   "source": [
    "Xnew_col = Xnew.columns"
   ]
  },
  {
   "cell_type": "code",
   "execution_count": 38,
   "metadata": {},
   "outputs": [
    {
     "name": "stdout",
     "output_type": "stream",
     "text": [
      "\n",
      "<class 'pandas.core.frame.DataFrame'>\n",
      "RangeIndex: 62373 entries, 0 to 62372\n",
      "Data columns (total 20 columns):\n",
      "SATISFACTION_JOB_ADVANCE_Somewhat dissatisfied         62373 non-null uint8\n",
      "SATISFACTION_JOB_ADVANCE_Very dissatisfied             62373 non-null uint8\n",
      "SATISFACTION_JOB_ADVANCE_Very satisfied                62373 non-null uint8\n",
      "SATISFACTION_JOB_BENEFITS_Very satisfied               62373 non-null uint8\n",
      "SATISFACTION_JOB_CHALLENGE_Somewhat dissatisfied       62373 non-null uint8\n",
      "SATISFACTION_JOB_CHALLENGE_Somewhat satisfied          62373 non-null uint8\n",
      "SATISFACTION_JOB_CHALLENGE_Very dissatisfied           62373 non-null uint8\n",
      "SATISFACTION_JOB_CHALLENGE_Very satisfied              62373 non-null uint8\n",
      "SATISFACTION_JOB_INDEP_Somewhat satisfied              62373 non-null uint8\n",
      "SATISFACTION_JOB_INDEP_Very satisfied                  62373 non-null uint8\n",
      "SATISFACTION_JOB_LOC_Very satisfied                    62373 non-null uint8\n",
      "SATISFACTION_JOB_RESP_Somewhat satisfied               62373 non-null uint8\n",
      "SATISFACTION_JOB_RESP_Very satisfied                   62373 non-null uint8\n",
      "SATISFACTION_JOB_SALARY_Somewhat dissatisfied          62373 non-null uint8\n",
      "SATISFACTION_JOB_SALARY_Somewhat satisfied             62373 non-null uint8\n",
      "SATISFACTION_JOB_SALARY_Very dissatisfied              62373 non-null uint8\n",
      "SATISFACTION_JOB_SALARY_Very satisfied                 62373 non-null uint8\n",
      "SATISFACTION_JOB_SECURITY_Very satisfied               62373 non-null uint8\n",
      "SATISFACTION_JOB_CONTRIB_SOCIETY_Somewhat satisfied    62373 non-null uint8\n",
      "SATISFACTION_JOB_CONTRIB_SOCIETY_Very satisfied        62373 non-null uint8\n",
      "dtypes: uint8(20)\n",
      "memory usage: 1.2 MB\n",
      "None\n"
     ]
    }
   ],
   "source": [
    "print(); print(Xnew[Xnew_col].info())"
   ]
  },
  {
   "cell_type": "code",
   "execution_count": 39,
   "metadata": {},
   "outputs": [
    {
     "data": {
      "text/html": [
       "<div>\n",
       "<style scoped>\n",
       "    .dataframe tbody tr th:only-of-type {\n",
       "        vertical-align: middle;\n",
       "    }\n",
       "\n",
       "    .dataframe tbody tr th {\n",
       "        vertical-align: top;\n",
       "    }\n",
       "\n",
       "    .dataframe thead th {\n",
       "        text-align: right;\n",
       "    }\n",
       "</style>\n",
       "<table border=\"1\" class=\"dataframe\">\n",
       "  <thead>\n",
       "    <tr style=\"text-align: right;\">\n",
       "      <th></th>\n",
       "      <th>SATISFACTION_JOB_ADVANCE_Somewhat dissatisfied</th>\n",
       "      <th>SATISFACTION_JOB_ADVANCE_Very dissatisfied</th>\n",
       "      <th>SATISFACTION_JOB_ADVANCE_Very satisfied</th>\n",
       "      <th>SATISFACTION_JOB_BENEFITS_Very satisfied</th>\n",
       "      <th>SATISFACTION_JOB_CHALLENGE_Somewhat dissatisfied</th>\n",
       "      <th>SATISFACTION_JOB_CHALLENGE_Somewhat satisfied</th>\n",
       "      <th>SATISFACTION_JOB_CHALLENGE_Very dissatisfied</th>\n",
       "      <th>SATISFACTION_JOB_CHALLENGE_Very satisfied</th>\n",
       "      <th>SATISFACTION_JOB_INDEP_Somewhat satisfied</th>\n",
       "      <th>SATISFACTION_JOB_INDEP_Very satisfied</th>\n",
       "      <th>SATISFACTION_JOB_LOC_Very satisfied</th>\n",
       "      <th>SATISFACTION_JOB_RESP_Somewhat satisfied</th>\n",
       "      <th>SATISFACTION_JOB_RESP_Very satisfied</th>\n",
       "      <th>SATISFACTION_JOB_SALARY_Somewhat dissatisfied</th>\n",
       "      <th>SATISFACTION_JOB_SALARY_Somewhat satisfied</th>\n",
       "      <th>SATISFACTION_JOB_SALARY_Very dissatisfied</th>\n",
       "      <th>SATISFACTION_JOB_SALARY_Very satisfied</th>\n",
       "      <th>SATISFACTION_JOB_SECURITY_Very satisfied</th>\n",
       "      <th>SATISFACTION_JOB_CONTRIB_SOCIETY_Somewhat satisfied</th>\n",
       "      <th>SATISFACTION_JOB_CONTRIB_SOCIETY_Very satisfied</th>\n",
       "    </tr>\n",
       "  </thead>\n",
       "  <tbody>\n",
       "    <tr>\n",
       "      <th>count</th>\n",
       "      <td>62373.000000</td>\n",
       "      <td>62373.000000</td>\n",
       "      <td>62373.000000</td>\n",
       "      <td>62373.000000</td>\n",
       "      <td>62373.000000</td>\n",
       "      <td>62373.000000</td>\n",
       "      <td>62373.000000</td>\n",
       "      <td>62373.000000</td>\n",
       "      <td>62373.000000</td>\n",
       "      <td>62373.000000</td>\n",
       "      <td>62373.000000</td>\n",
       "      <td>62373.000000</td>\n",
       "      <td>62373.000000</td>\n",
       "      <td>62373.000000</td>\n",
       "      <td>62373.000000</td>\n",
       "      <td>62373.000000</td>\n",
       "      <td>62373.000000</td>\n",
       "      <td>62373.000000</td>\n",
       "      <td>62373.000000</td>\n",
       "      <td>62373.000000</td>\n",
       "    </tr>\n",
       "    <tr>\n",
       "      <th>mean</th>\n",
       "      <td>0.220753</td>\n",
       "      <td>0.103426</td>\n",
       "      <td>0.242733</td>\n",
       "      <td>0.369423</td>\n",
       "      <td>0.117487</td>\n",
       "      <td>0.391483</td>\n",
       "      <td>0.051208</td>\n",
       "      <td>0.439822</td>\n",
       "      <td>0.327866</td>\n",
       "      <td>0.580331</td>\n",
       "      <td>0.556795</td>\n",
       "      <td>0.415148</td>\n",
       "      <td>0.466195</td>\n",
       "      <td>0.154169</td>\n",
       "      <td>0.494188</td>\n",
       "      <td>0.074888</td>\n",
       "      <td>0.276754</td>\n",
       "      <td>0.440367</td>\n",
       "      <td>0.376942</td>\n",
       "      <td>0.486012</td>\n",
       "    </tr>\n",
       "    <tr>\n",
       "      <th>std</th>\n",
       "      <td>0.414757</td>\n",
       "      <td>0.304517</td>\n",
       "      <td>0.428739</td>\n",
       "      <td>0.482652</td>\n",
       "      <td>0.322002</td>\n",
       "      <td>0.488086</td>\n",
       "      <td>0.220424</td>\n",
       "      <td>0.496369</td>\n",
       "      <td>0.469440</td>\n",
       "      <td>0.493509</td>\n",
       "      <td>0.496768</td>\n",
       "      <td>0.492751</td>\n",
       "      <td>0.498860</td>\n",
       "      <td>0.361114</td>\n",
       "      <td>0.499970</td>\n",
       "      <td>0.263213</td>\n",
       "      <td>0.447398</td>\n",
       "      <td>0.496435</td>\n",
       "      <td>0.484624</td>\n",
       "      <td>0.499808</td>\n",
       "    </tr>\n",
       "    <tr>\n",
       "      <th>min</th>\n",
       "      <td>0.000000</td>\n",
       "      <td>0.000000</td>\n",
       "      <td>0.000000</td>\n",
       "      <td>0.000000</td>\n",
       "      <td>0.000000</td>\n",
       "      <td>0.000000</td>\n",
       "      <td>0.000000</td>\n",
       "      <td>0.000000</td>\n",
       "      <td>0.000000</td>\n",
       "      <td>0.000000</td>\n",
       "      <td>0.000000</td>\n",
       "      <td>0.000000</td>\n",
       "      <td>0.000000</td>\n",
       "      <td>0.000000</td>\n",
       "      <td>0.000000</td>\n",
       "      <td>0.000000</td>\n",
       "      <td>0.000000</td>\n",
       "      <td>0.000000</td>\n",
       "      <td>0.000000</td>\n",
       "      <td>0.000000</td>\n",
       "    </tr>\n",
       "    <tr>\n",
       "      <th>25%</th>\n",
       "      <td>0.000000</td>\n",
       "      <td>0.000000</td>\n",
       "      <td>0.000000</td>\n",
       "      <td>0.000000</td>\n",
       "      <td>0.000000</td>\n",
       "      <td>0.000000</td>\n",
       "      <td>0.000000</td>\n",
       "      <td>0.000000</td>\n",
       "      <td>0.000000</td>\n",
       "      <td>0.000000</td>\n",
       "      <td>0.000000</td>\n",
       "      <td>0.000000</td>\n",
       "      <td>0.000000</td>\n",
       "      <td>0.000000</td>\n",
       "      <td>0.000000</td>\n",
       "      <td>0.000000</td>\n",
       "      <td>0.000000</td>\n",
       "      <td>0.000000</td>\n",
       "      <td>0.000000</td>\n",
       "      <td>0.000000</td>\n",
       "    </tr>\n",
       "    <tr>\n",
       "      <th>50%</th>\n",
       "      <td>0.000000</td>\n",
       "      <td>0.000000</td>\n",
       "      <td>0.000000</td>\n",
       "      <td>0.000000</td>\n",
       "      <td>0.000000</td>\n",
       "      <td>0.000000</td>\n",
       "      <td>0.000000</td>\n",
       "      <td>0.000000</td>\n",
       "      <td>0.000000</td>\n",
       "      <td>1.000000</td>\n",
       "      <td>1.000000</td>\n",
       "      <td>0.000000</td>\n",
       "      <td>0.000000</td>\n",
       "      <td>0.000000</td>\n",
       "      <td>0.000000</td>\n",
       "      <td>0.000000</td>\n",
       "      <td>0.000000</td>\n",
       "      <td>0.000000</td>\n",
       "      <td>0.000000</td>\n",
       "      <td>0.000000</td>\n",
       "    </tr>\n",
       "    <tr>\n",
       "      <th>75%</th>\n",
       "      <td>0.000000</td>\n",
       "      <td>0.000000</td>\n",
       "      <td>0.000000</td>\n",
       "      <td>1.000000</td>\n",
       "      <td>0.000000</td>\n",
       "      <td>1.000000</td>\n",
       "      <td>0.000000</td>\n",
       "      <td>1.000000</td>\n",
       "      <td>1.000000</td>\n",
       "      <td>1.000000</td>\n",
       "      <td>1.000000</td>\n",
       "      <td>1.000000</td>\n",
       "      <td>1.000000</td>\n",
       "      <td>0.000000</td>\n",
       "      <td>1.000000</td>\n",
       "      <td>0.000000</td>\n",
       "      <td>1.000000</td>\n",
       "      <td>1.000000</td>\n",
       "      <td>1.000000</td>\n",
       "      <td>1.000000</td>\n",
       "    </tr>\n",
       "    <tr>\n",
       "      <th>max</th>\n",
       "      <td>1.000000</td>\n",
       "      <td>1.000000</td>\n",
       "      <td>1.000000</td>\n",
       "      <td>1.000000</td>\n",
       "      <td>1.000000</td>\n",
       "      <td>1.000000</td>\n",
       "      <td>1.000000</td>\n",
       "      <td>1.000000</td>\n",
       "      <td>1.000000</td>\n",
       "      <td>1.000000</td>\n",
       "      <td>1.000000</td>\n",
       "      <td>1.000000</td>\n",
       "      <td>1.000000</td>\n",
       "      <td>1.000000</td>\n",
       "      <td>1.000000</td>\n",
       "      <td>1.000000</td>\n",
       "      <td>1.000000</td>\n",
       "      <td>1.000000</td>\n",
       "      <td>1.000000</td>\n",
       "      <td>1.000000</td>\n",
       "    </tr>\n",
       "  </tbody>\n",
       "</table>\n",
       "</div>"
      ],
      "text/plain": [
       "       SATISFACTION_JOB_ADVANCE_Somewhat dissatisfied  SATISFACTION_JOB_ADVANCE_Very dissatisfied  SATISFACTION_JOB_ADVANCE_Very satisfied  SATISFACTION_JOB_BENEFITS_Very satisfied  SATISFACTION_JOB_CHALLENGE_Somewhat dissatisfied  SATISFACTION_JOB_CHALLENGE_Somewhat satisfied  SATISFACTION_JOB_CHALLENGE_Very dissatisfied  SATISFACTION_JOB_CHALLENGE_Very satisfied  SATISFACTION_JOB_INDEP_Somewhat satisfied  SATISFACTION_JOB_INDEP_Very satisfied  SATISFACTION_JOB_LOC_Very satisfied  SATISFACTION_JOB_RESP_Somewhat satisfied  SATISFACTION_JOB_RESP_Very satisfied  SATISFACTION_JOB_SALARY_Somewhat dissatisfied  SATISFACTION_JOB_SALARY_Somewhat satisfied  SATISFACTION_JOB_SALARY_Very dissatisfied  SATISFACTION_JOB_SALARY_Very satisfied  SATISFACTION_JOB_SECURITY_Very satisfied  SATISFACTION_JOB_CONTRIB_SOCIETY_Somewhat satisfied  SATISFACTION_JOB_CONTRIB_SOCIETY_Very satisfied\n",
       "count                                    62373.000000                                62373.000000                             62373.000000                              62373.000000                                      62373.000000                                   62373.000000                                  62373.000000                               62373.000000                               62373.000000                           62373.000000                         62373.000000                              62373.000000                          62373.000000                                   62373.000000                                62373.000000                               62373.000000                            62373.000000                              62373.000000                                       62373.000000                                       62373.000000\n",
       "mean                                         0.220753                                    0.103426                                 0.242733                                  0.369423                                          0.117487                                       0.391483                                      0.051208                                   0.439822                                   0.327866                               0.580331                             0.556795                                  0.415148                              0.466195                                       0.154169                                    0.494188                                   0.074888                                0.276754                                  0.440367                                           0.376942                                           0.486012\n",
       "std                                          0.414757                                    0.304517                                 0.428739                                  0.482652                                          0.322002                                       0.488086                                      0.220424                                   0.496369                                   0.469440                               0.493509                             0.496768                                  0.492751                              0.498860                                       0.361114                                    0.499970                                   0.263213                                0.447398                                  0.496435                                           0.484624                                           0.499808\n",
       "min                                          0.000000                                    0.000000                                 0.000000                                  0.000000                                          0.000000                                       0.000000                                      0.000000                                   0.000000                                   0.000000                               0.000000                             0.000000                                  0.000000                              0.000000                                       0.000000                                    0.000000                                   0.000000                                0.000000                                  0.000000                                           0.000000                                           0.000000\n",
       "25%                                          0.000000                                    0.000000                                 0.000000                                  0.000000                                          0.000000                                       0.000000                                      0.000000                                   0.000000                                   0.000000                               0.000000                             0.000000                                  0.000000                              0.000000                                       0.000000                                    0.000000                                   0.000000                                0.000000                                  0.000000                                           0.000000                                           0.000000\n",
       "50%                                          0.000000                                    0.000000                                 0.000000                                  0.000000                                          0.000000                                       0.000000                                      0.000000                                   0.000000                                   0.000000                               1.000000                             1.000000                                  0.000000                              0.000000                                       0.000000                                    0.000000                                   0.000000                                0.000000                                  0.000000                                           0.000000                                           0.000000\n",
       "75%                                          0.000000                                    0.000000                                 0.000000                                  1.000000                                          0.000000                                       1.000000                                      0.000000                                   1.000000                                   1.000000                               1.000000                             1.000000                                  1.000000                              1.000000                                       0.000000                                    1.000000                                   0.000000                                1.000000                                  1.000000                                           1.000000                                           1.000000\n",
       "max                                          1.000000                                    1.000000                                 1.000000                                  1.000000                                          1.000000                                       1.000000                                      1.000000                                   1.000000                                   1.000000                               1.000000                             1.000000                                  1.000000                              1.000000                                       1.000000                                    1.000000                                   1.000000                                1.000000                                  1.000000                                           1.000000                                           1.000000"
      ]
     },
     "execution_count": 39,
     "metadata": {},
     "output_type": "execute_result"
    }
   ],
   "source": [
    "Xnew[Xnew_col].describe()"
   ]
  },
  {
   "cell_type": "code",
   "execution_count": 40,
   "metadata": {},
   "outputs": [
    {
     "data": {
      "text/plain": [
       "(62373, 20)"
      ]
     },
     "execution_count": 40,
     "metadata": {},
     "output_type": "execute_result"
    }
   ],
   "source": [
    "Xnew.shape"
   ]
  },
  {
   "cell_type": "code",
   "execution_count": 41,
   "metadata": {},
   "outputs": [
    {
     "data": {
      "text/plain": [
       "(62373, 4)"
      ]
     },
     "execution_count": 41,
     "metadata": {},
     "output_type": "execute_result"
    }
   ],
   "source": [
    "y.shape"
   ]
  },
  {
   "cell_type": "code",
   "execution_count": 42,
   "metadata": {},
   "outputs": [],
   "source": [
    "y_predict = dtree.predict(X_test)"
   ]
  },
  {
   "cell_type": "code",
   "execution_count": 43,
   "metadata": {},
   "outputs": [
    {
     "data": {
      "text/plain": [
       "array([[0, 0, 0, 0],\n",
       "       [0, 0, 0, 1],\n",
       "       [0, 0, 1, 0],\n",
       "       ...,\n",
       "       [0, 0, 0, 0],\n",
       "       [0, 0, 0, 1],\n",
       "       [0, 0, 0, 1]], dtype=uint8)"
      ]
     },
     "execution_count": 43,
     "metadata": {},
     "output_type": "execute_result"
    }
   ],
   "source": [
    "y_predict"
   ]
  },
  {
   "cell_type": "code",
   "execution_count": 44,
   "metadata": {},
   "outputs": [],
   "source": [
    "y_trainpredict = dtree.predict(X_train)"
   ]
  },
  {
   "cell_type": "code",
   "execution_count": 45,
   "metadata": {},
   "outputs": [
    {
     "data": {
      "text/plain": [
       "array([[0, 0, 0, 1],\n",
       "       [0, 0, 0, 0],\n",
       "       [0, 0, 0, 1],\n",
       "       ...,\n",
       "       [0, 0, 0, 0],\n",
       "       [0, 0, 0, 1],\n",
       "       [0, 1, 0, 0]], dtype=uint8)"
      ]
     },
     "execution_count": 45,
     "metadata": {},
     "output_type": "execute_result"
    }
   ],
   "source": [
    "y_trainpredict"
   ]
  },
  {
   "cell_type": "code",
   "execution_count": 46,
   "metadata": {},
   "outputs": [
    {
     "data": {
      "text/plain": [
       "[array([[0.5       , 0.5       ],\n",
       "        [0.99858907, 0.00141093],\n",
       "        [1.        , 0.        ],\n",
       "        ...,\n",
       "        [1.        , 0.        ],\n",
       "        [1.        , 0.        ],\n",
       "        [0.98333333, 0.01666667]]), array([[0.625     , 0.375     ],\n",
       "        [0.98236332, 0.01763668],\n",
       "        [1.        , 0.        ],\n",
       "        ...,\n",
       "        [0.5       , 0.5       ],\n",
       "        [0.88235294, 0.11764706],\n",
       "        [0.8       , 0.2       ]]), array([[1.        , 0.        ],\n",
       "        [0.99858907, 0.00141093],\n",
       "        [0.        , 1.        ],\n",
       "        ...,\n",
       "        [0.5       , 0.5       ],\n",
       "        [1.        , 0.        ],\n",
       "        [1.        , 0.        ]]), array([[0.875     , 0.125     ],\n",
       "        [0.02045855, 0.97954145],\n",
       "        [1.        , 0.        ],\n",
       "        ...,\n",
       "        [1.        , 0.        ],\n",
       "        [0.11764706, 0.88235294],\n",
       "        [0.21666667, 0.78333333]])]"
      ]
     },
     "execution_count": 46,
     "metadata": {},
     "output_type": "execute_result"
    }
   ],
   "source": [
    "dtree.predict_proba(X_test)"
   ]
  },
  {
   "cell_type": "code",
   "execution_count": 47,
   "metadata": {},
   "outputs": [
    {
     "data": {
      "text/plain": [
       "{'class_weight': None,\n",
       " 'criterion': 'gini',\n",
       " 'max_depth': 16,\n",
       " 'max_features': None,\n",
       " 'max_leaf_nodes': None,\n",
       " 'min_impurity_decrease': 0.0,\n",
       " 'min_impurity_split': None,\n",
       " 'min_samples_leaf': 1,\n",
       " 'min_samples_split': 2,\n",
       " 'min_weight_fraction_leaf': 0.0,\n",
       " 'presort': False,\n",
       " 'random_state': 1111,\n",
       " 'splitter': 'best'}"
      ]
     },
     "execution_count": 47,
     "metadata": {},
     "output_type": "execute_result"
    }
   ],
   "source": [
    "dtree.get_params()"
   ]
  },
  {
   "cell_type": "raw",
   "metadata": {},
   "source": [
    "from sklearn.metrics import accuracy_score, precision_score, recall_score\n",
    "accuracy_score(y_train, y_predict)"
   ]
  },
  {
   "cell_type": "raw",
   "metadata": {},
   "source": [
    "precision_score(y_train, y_predict,  average=None)"
   ]
  },
  {
   "cell_type": "raw",
   "metadata": {},
   "source": [
    "recall_score(y_train, y_predict,  average=None)"
   ]
  },
  {
   "cell_type": "raw",
   "metadata": {},
   "source": [
    "print(\"Training: {0:.2f}\".format(accuracy_score(y_train, y_trainpredict)))"
   ]
  },
  {
   "cell_type": "raw",
   "metadata": {},
   "source": [
    "print(\"Testing: {0:.2f}\".format(accuracy_score(y_test, y_predict)))"
   ]
  },
  {
   "cell_type": "raw",
   "metadata": {},
   "source": [
    "dtree.score(X_test, y_test)"
   ]
  },
  {
   "cell_type": "code",
   "execution_count": 48,
   "metadata": {},
   "outputs": [],
   "source": [
    "X1_train, X1_test, y1_train, y1_test = train_test_split(Xnew, y, test_size = 0.2, random_state=1111)"
   ]
  },
  {
   "cell_type": "code",
   "execution_count": 49,
   "metadata": {},
   "outputs": [],
   "source": [
    "from sklearn.preprocessing import StandardScaler\n",
    "from sklearn.ensemble import RandomForestClassifier\n",
    "from sklearn.metrics import confusion_matrix\n"
   ]
  },
  {
   "cell_type": "code",
   "execution_count": 50,
   "metadata": {},
   "outputs": [],
   "source": [
    "scaler = StandardScaler()\n",
    "X1_train = scaler.fit_transform(X1_train)\n",
    "X1_test = scaler.transform(X1_test)"
   ]
  },
  {
   "cell_type": "code",
   "execution_count": 51,
   "metadata": {},
   "outputs": [
    {
     "name": "stderr",
     "output_type": "stream",
     "text": [
      "C:\\Users\\Naeemah\\Anaconda3\\lib\\site-packages\\sklearn\\ensemble\\forest.py:245: FutureWarning: The default value of n_estimators will change from 10 in version 0.20 to 100 in 0.22.\n",
      "  \"10 in version 0.20 to 100 in 0.22.\", FutureWarning)\n"
     ]
    },
    {
     "data": {
      "text/plain": [
       "RandomForestClassifier(bootstrap=True, class_weight=None, criterion='gini',\n",
       "                       max_depth=None, max_features='auto', max_leaf_nodes=None,\n",
       "                       min_impurity_decrease=0.0, min_impurity_split=None,\n",
       "                       min_samples_leaf=1, min_samples_split=2,\n",
       "                       min_weight_fraction_leaf=0.0, n_estimators=10,\n",
       "                       n_jobs=None, oob_score=False, random_state=1111,\n",
       "                       verbose=0, warm_start=False)"
      ]
     },
     "execution_count": 51,
     "metadata": {},
     "output_type": "execute_result"
    }
   ],
   "source": [
    "classifier = RandomForestClassifier(random_state = 1111, )\n",
    "classifier.fit(X1_train, y1_train)"
   ]
  },
  {
   "cell_type": "code",
   "execution_count": 52,
   "metadata": {},
   "outputs": [
    {
     "data": {
      "application/vnd.jupyter.widget-view+json": {
       "model_id": "104919abe0ac4a86bb0a2acc8feb6fe6",
       "version_major": 2,
       "version_minor": 0
      },
      "text/plain": [
       "HBox(children=(IntProgress(value=0, max=50), HTML(value='')))"
      ]
     },
     "metadata": {},
     "output_type": "display_data"
    },
    {
     "name": "stdout",
     "output_type": "stream",
     "text": [
      "\n"
     ]
    }
   ],
   "source": [
    "classifier.score(X1_test, y1_test)\n",
    "for i in tqdm(range(50)):\n",
    "    time.sleep(0.1)"
   ]
  },
  {
   "cell_type": "code",
   "execution_count": 53,
   "metadata": {},
   "outputs": [
    {
     "data": {
      "application/vnd.jupyter.widget-view+json": {
       "model_id": "108c6a711d354f8d9802c5ca681cc70f",
       "version_major": 2,
       "version_minor": 0
      },
      "text/plain": [
       "HBox(children=(IntProgress(value=0, max=50), HTML(value='')))"
      ]
     },
     "metadata": {},
     "output_type": "display_data"
    },
    {
     "name": "stdout",
     "output_type": "stream",
     "text": [
      "\n"
     ]
    }
   ],
   "source": [
    "y1_pred = classifier.predict(X1_test)\n",
    "for i in tqdm(range(50)):\n",
    "    time.sleep(0.1)"
   ]
  },
  {
   "cell_type": "code",
   "execution_count": 54,
   "metadata": {},
   "outputs": [
    {
     "name": "stdout",
     "output_type": "stream",
     "text": [
      "Accuracy: 0.7064529058116232\n"
     ]
    },
    {
     "data": {
      "application/vnd.jupyter.widget-view+json": {
       "model_id": "b91a307bc37144119008b6d173dc29f1",
       "version_major": 2,
       "version_minor": 0
      },
      "text/plain": [
       "HBox(children=(IntProgress(value=0, max=50), HTML(value='')))"
      ]
     },
     "metadata": {},
     "output_type": "display_data"
    },
    {
     "name": "stdout",
     "output_type": "stream",
     "text": [
      "\n"
     ]
    }
   ],
   "source": [
    "from sklearn import metrics\n",
    "print(\"Accuracy:\",metrics.accuracy_score(y1_test, y1_pred))\n",
    "for i in tqdm(range(50)):\n",
    "    time.sleep(0.1)"
   ]
  },
  {
   "cell_type": "code",
   "execution_count": 55,
   "metadata": {},
   "outputs": [
    {
     "data": {
      "application/vnd.jupyter.widget-view+json": {
       "model_id": "ecb9fd84de4849668bbe54a843b609fe",
       "version_major": 2,
       "version_minor": 0
      },
      "text/plain": [
       "HBox(children=(IntProgress(value=0, max=50), HTML(value='')))"
      ]
     },
     "metadata": {},
     "output_type": "display_data"
    },
    {
     "name": "stdout",
     "output_type": "stream",
     "text": [
      "\n"
     ]
    }
   ],
   "source": [
    "from sklearn.model_selection import RandomizedSearchCV\n",
    "# Number of trees in random forest\n",
    "n_estimators = [int(x) for x in np.linspace(start = 200, stop = 2000, num = 10)]\n",
    "# Number of features to consider at every split\n",
    "max_features = ['auto', 'sqrt']\n",
    "# Maximum number of levels in tree\n",
    "max_depth = [int(x) for x in np.linspace(10, 110, num = 11)]\n",
    "max_depth.append(None)\n",
    "# Minimum number of samples required to split a node\n",
    "min_samples_split = [2, 5, 10]\n",
    "# Minimum number of samples required at each leaf node\n",
    "min_samples_leaf = [1, 2, 4]\n",
    "# Method of selecting samples for training each tree\n",
    "bootstrap = [True, False]\n",
    "for i in tqdm(range(50)):\n",
    "    time.sleep(0.1)"
   ]
  },
  {
   "cell_type": "code",
   "execution_count": 56,
   "metadata": {},
   "outputs": [
    {
     "data": {
      "application/vnd.jupyter.widget-view+json": {
       "model_id": "1c6aa9054efc47ef8180cf767a64c7dc",
       "version_major": 2,
       "version_minor": 0
      },
      "text/plain": [
       "HBox(children=(IntProgress(value=0, max=50), HTML(value='')))"
      ]
     },
     "metadata": {},
     "output_type": "display_data"
    },
    {
     "name": "stdout",
     "output_type": "stream",
     "text": [
      "\n"
     ]
    }
   ],
   "source": [
    "# Create the random grid\n",
    "random_grid = {'n_estimators': n_estimators,\n",
    "               'max_features': max_features,\n",
    "               'max_depth': max_depth,\n",
    "               'min_samples_split': min_samples_split,\n",
    "               'min_samples_leaf': min_samples_leaf,\n",
    "               'bootstrap': bootstrap}\n",
    "for i in tqdm(range(50)):\n",
    "    time.sleep(0.1)"
   ]
  },
  {
   "cell_type": "code",
   "execution_count": 57,
   "metadata": {},
   "outputs": [
    {
     "name": "stdout",
     "output_type": "stream",
     "text": [
      "{'n_estimators': [200, 400, 600, 800, 1000, 1200, 1400, 1600, 1800, 2000], 'max_features': ['auto', 'sqrt'], 'max_depth': [10, 20, 30, 40, 50, 60, 70, 80, 90, 100, 110, None], 'min_samples_split': [2, 5, 10], 'min_samples_leaf': [1, 2, 4], 'bootstrap': [True, False]}\n"
     ]
    },
    {
     "data": {
      "application/vnd.jupyter.widget-view+json": {
       "model_id": "c1c53d6299ec45e78da2b01948ea43fa",
       "version_major": 2,
       "version_minor": 0
      },
      "text/plain": [
       "HBox(children=(IntProgress(value=0, max=50), HTML(value='')))"
      ]
     },
     "metadata": {},
     "output_type": "display_data"
    },
    {
     "name": "stdout",
     "output_type": "stream",
     "text": [
      "\n"
     ]
    }
   ],
   "source": [
    "print(random_grid)\n",
    "for i in tqdm(range(50)):\n",
    "    time.sleep(0.1)"
   ]
  },
  {
   "cell_type": "code",
   "execution_count": null,
   "metadata": {},
   "outputs": [
    {
     "name": "stdout",
     "output_type": "stream",
     "text": [
      "Fitting 3 folds for each of 100 candidates, totalling 300 fits\n"
     ]
    },
    {
     "name": "stderr",
     "output_type": "stream",
     "text": [
      "[Parallel(n_jobs=-1)]: Using backend LokyBackend with 4 concurrent workers.\n",
      "[Parallel(n_jobs=-1)]: Done  33 tasks      | elapsed: 26.8min\n"
     ]
    }
   ],
   "source": [
    "# Use the random grid to search for best hyperparameters\n",
    "# First create the base model to tune\n",
    "rf = RandomForestClassifier()\n",
    "# Random search of parameters, using 3 fold cross validation, \n",
    "# search across 100 different combinations, and use all available cores\n",
    "rf_random = RandomizedSearchCV(estimator = rf, param_distributions = random_grid, n_iter = 100, cv = 3, verbose=2, random_state=42, n_jobs = -1)\n",
    "# Fit the random search model\n",
    "rf_random.fit(X1_train, y1_train)\n",
    "for i in tqdm(range(50)):\n",
    "    time.sleep(0.1)"
   ]
  },
  {
   "cell_type": "code",
   "execution_count": null,
   "metadata": {},
   "outputs": [],
   "source": [
    "rf_random.best_params_\n",
    "for i in tqdm(range(50)):\n",
    "    time.sleep(0.1)"
   ]
  },
  {
   "cell_type": "code",
   "execution_count": null,
   "metadata": {},
   "outputs": [],
   "source": [
    "rf_random.best_params_\n",
    "for i in tqdm(range(50)):\n",
    "    time.sleep(0.1)"
   ]
  },
  {
   "cell_type": "code",
   "execution_count": null,
   "metadata": {},
   "outputs": [],
   "source": [
    "print(rf_random.best_params_)"
   ]
  },
  {
   "cell_type": "raw",
   "metadata": {},
   "source": [
    "#To determine if random search yielded a better model, we compare the base model with the best random search model.\n",
    "\n",
    "\n",
    "def evaluate(model, test_features, test_labels):\n",
    "    predictions = model.predict(test_features)\n",
    "    errors = abs(predictions - test_labels)\n",
    "    mape = 100 * np.mean(errors / test_labels)\n",
    "    accuracy = 100 - mape\n",
    "    print('Model Performance')\n",
    "    print('Average Error: {:0.4f} degrees.'.format(np.mean(errors)))\n",
    "    print('Accuracy = {:0.2f}%.'.format(accuracy))\n",
    "    \n",
    "    return accuracy\n",
    "base_model = RandomForestRegressor(n_estimators = 10, random_state = 42)\n",
    "base_model.fit(train_features, train_labels)\n",
    "base_accuracy = evaluate(base_model, test_features, test_labels"
   ]
  },
  {
   "cell_type": "raw",
   "metadata": {},
   "source": [
    "best_random = rf_random.best_estimator_\n",
    "random_accuracy = evaluate(best_random, test_features, test_labels)"
   ]
  },
  {
   "cell_type": "raw",
   "metadata": {},
   "source": [
    "print('Improvement of {:0.2f}%.'.format( 100 * (random_accuracy - base_accuracy) / base_accuracy))"
   ]
  },
  {
   "cell_type": "markdown",
   "metadata": {},
   "source": [
    "https://towardsdatascience.com/hyperparameter-tuning-the-random-forest-in-python-using-scikit-learn-28d2aa77dd74"
   ]
  },
  {
   "cell_type": "code",
   "execution_count": null,
   "metadata": {},
   "outputs": [],
   "source": []
  }
 ],
 "metadata": {
  "kernelspec": {
   "display_name": "Python 3",
   "language": "python",
   "name": "python3"
  },
  "language_info": {
   "codemirror_mode": {
    "name": "ipython",
    "version": 3
   },
   "file_extension": ".py",
   "mimetype": "text/x-python",
   "name": "python",
   "nbconvert_exporter": "python",
   "pygments_lexer": "ipython3",
   "version": "3.7.3"
  }
 },
 "nbformat": 4,
 "nbformat_minor": 2
}
