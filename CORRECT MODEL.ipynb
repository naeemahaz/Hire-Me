{
 "cells": [
  {
   "cell_type": "code",
   "execution_count": 1,
   "metadata": {},
   "outputs": [
    {
     "name": "stderr",
     "output_type": "stream",
     "text": [
      "C:\\Users\\Naeemah\\Anaconda3\\lib\\site-packages\\sklearn\\externals\\six.py:31: DeprecationWarning: The module is deprecated in version 0.21 and will be removed in version 0.23 since we've dropped support for Python 2.7. Please rely on the official version of six (https://pypi.org/project/six/).\n",
      "  \"(https://pypi.org/project/six/).\", DeprecationWarning)\n"
     ]
    }
   ],
   "source": [
    "import pandas as pd\n",
    "import numpy as np\n",
    "import csv\n",
    "from sklearn.tree import DecisionTreeClassifier # Import Decision Tree Classifier\n",
    "from sklearn.model_selection import train_test_split # Import train_test_split function\n",
    "from sklearn import metrics #Import scikit-learn metrics module for accuracy calculation\n",
    "import matplotlib.pyplot as plt\n",
    "import pydotplus\n",
    "import os\n",
    "from sklearn import tree\n",
    "from sklearn.preprocessing import StandardScaler\n",
    "import seaborn as sns\n",
    "from sklearn.preprocessing import LabelEncoder\n",
    "enc = LabelEncoder()\n",
    "from sklearn import preprocessing \n",
    "from sklearn.tree import export_graphviz\n",
    "from sklearn.externals.six import StringIO  \n",
    "from IPython.display import Image  \n",
    "import pydotplus\n",
    "import graphviz \n",
    "pd.set_option('display.width', 2000)\n",
    "pd.set_option('display.max_columns', 2000)"
   ]
  },
  {
   "cell_type": "code",
   "execution_count": 2,
   "metadata": {},
   "outputs": [
    {
     "name": "stderr",
     "output_type": "stream",
     "text": [
      "C:\\Users\\Naeemah\\Anaconda3\\lib\\site-packages\\IPython\\core\\interactiveshell.py:3057: DtypeWarning: Columns (0) have mixed types. Specify dtype option on import or set low_memory=False.\n",
      "  interactivity=interactivity, compiler=compiler, result=result)\n"
     ]
    }
   ],
   "source": [
    "data = pd.read_csv('alldata.csv')"
   ]
  },
  {
   "cell_type": "code",
   "execution_count": 3,
   "metadata": {},
   "outputs": [],
   "source": [
    "dataset = data"
   ]
  },
  {
   "cell_type": "code",
   "execution_count": 4,
   "metadata": {},
   "outputs": [],
   "source": [
    "dataset['FIELD_MAJOR_RECENT_DEGREE'].fillna('None', inplace=True)"
   ]
  },
  {
   "cell_type": "code",
   "execution_count": 5,
   "metadata": {},
   "outputs": [],
   "source": [
    "dataset['AGE'] = pd.to_numeric(data['AGE'])"
   ]
  },
  {
   "cell_type": "code",
   "execution_count": 6,
   "metadata": {},
   "outputs": [],
   "source": [
    "bins = [20, 30,  40,  50,  60,  70,  80]\n",
    "dataset['AGE_BINS'] = pd.cut(dataset['AGE'], bins)"
   ]
  },
  {
   "cell_type": "code",
   "execution_count": 7,
   "metadata": {},
   "outputs": [],
   "source": [
    "dataset['SALARY_NEW'] = dataset[' SALARY '].str.replace('$', '')"
   ]
  },
  {
   "cell_type": "code",
   "execution_count": 8,
   "metadata": {},
   "outputs": [],
   "source": [
    "dataset['SALARY_NEW'] = dataset['SALARY_NEW'].str.replace(',', '')"
   ]
  },
  {
   "cell_type": "code",
   "execution_count": 9,
   "metadata": {},
   "outputs": [],
   "source": [
    "dataset['SALARY'] = dataset['SALARY_NEW'].str.replace(' -   ', '')"
   ]
  },
  {
   "cell_type": "code",
   "execution_count": 10,
   "metadata": {},
   "outputs": [],
   "source": [
    "dataset = dataset.drop('SALARY_NEW', axis=1)"
   ]
  },
  {
   "cell_type": "code",
   "execution_count": 11,
   "metadata": {},
   "outputs": [],
   "source": [
    "dataset['SALARY'] = pd.to_numeric(dataset['SALARY'], errors='coerce')"
   ]
  },
  {
   "cell_type": "code",
   "execution_count": 12,
   "metadata": {},
   "outputs": [],
   "source": [
    "bins = [0, 5000, 10000, 20000,  30000,  40000,  50000,  60000,  70000,  80000, 90000, 100000, 200000]\n",
    "dataset['SALARY_BINS'] = pd.cut(dataset['SALARY'], bins)"
   ]
  },
  {
   "cell_type": "code",
   "execution_count": 13,
   "metadata": {},
   "outputs": [],
   "source": [
    "dataset = dataset.drop('SALARY', axis=1)"
   ]
  },
  {
   "cell_type": "code",
   "execution_count": 14,
   "metadata": {},
   "outputs": [],
   "source": [
    "datasetbackup = dataset"
   ]
  },
  {
   "cell_type": "code",
   "execution_count": 15,
   "metadata": {},
   "outputs": [],
   "source": [
    "modelme = dataset"
   ]
  },
  {
   "cell_type": "code",
   "execution_count": 16,
   "metadata": {},
   "outputs": [],
   "source": [
    "modelme = modelme.drop('REFID', axis=1)\n",
    "modelme = modelme.drop('AGE', axis=1)"
   ]
  },
  {
   "cell_type": "code",
   "execution_count": 17,
   "metadata": {},
   "outputs": [],
   "source": [
    "modelme = modelme.drop('SALARY_BINS', axis=1)"
   ]
  },
  {
   "cell_type": "code",
   "execution_count": 18,
   "metadata": {},
   "outputs": [],
   "source": [
    "modelme = modelme.drop('AGE_BINS', axis=1)"
   ]
  },
  {
   "cell_type": "code",
   "execution_count": 19,
   "metadata": {},
   "outputs": [],
   "source": [
    "modelme = modelme.drop(' SALARY ', axis=1)"
   ]
  },
  {
   "cell_type": "code",
   "execution_count": 20,
   "metadata": {},
   "outputs": [],
   "source": [
    "X = modelme.drop('SATISFACTION_JOB', axis=1)"
   ]
  },
  {
   "cell_type": "code",
   "execution_count": 21,
   "metadata": {},
   "outputs": [],
   "source": [
    "y = modelme['SATISFACTION_JOB']"
   ]
  },
  {
   "cell_type": "code",
   "execution_count": 22,
   "metadata": {},
   "outputs": [],
   "source": [
    "X = pd.get_dummies(X, prefix_sep='_', drop_first=False)"
   ]
  },
  {
   "cell_type": "code",
   "execution_count": 23,
   "metadata": {},
   "outputs": [],
   "source": [
    "y = pd.get_dummies(y, prefix_sep='_', drop_first=False)"
   ]
  },
  {
   "cell_type": "code",
   "execution_count": 24,
   "metadata": {},
   "outputs": [
    {
     "data": {
      "text/plain": [
       "(62373, 315)"
      ]
     },
     "execution_count": 24,
     "metadata": {},
     "output_type": "execute_result"
    }
   ],
   "source": [
    "X.shape"
   ]
  },
  {
   "cell_type": "code",
   "execution_count": 25,
   "metadata": {},
   "outputs": [
    {
     "data": {
      "text/plain": [
       "(62373, 4)"
      ]
     },
     "execution_count": 25,
     "metadata": {},
     "output_type": "execute_result"
    }
   ],
   "source": [
    "y.shape"
   ]
  },
  {
   "cell_type": "code",
   "execution_count": 26,
   "metadata": {},
   "outputs": [
    {
     "name": "stderr",
     "output_type": "stream",
     "text": [
      "C:\\Users\\Naeemah\\Anaconda3\\lib\\site-packages\\sklearn\\ensemble\\forest.py:245: FutureWarning: The default value of n_estimators will change from 10 in version 0.20 to 100 in 0.22.\n",
      "  \"10 in version 0.20 to 100 in 0.22.\", FutureWarning)\n"
     ]
    },
    {
     "name": "stdout",
     "output_type": "stream",
     "text": [
      "[0.00408628 0.00403682 0.0030917  0.00307658 0.00268468 0.00300602\n",
      " 0.00391511 0.00253837 0.00260548 0.00171224 0.00170986 0.00066472\n",
      " 0.00271562 0.00232705 0.00172886 0.00462208 0.00353017 0.00374594\n",
      " 0.00204464 0.00229752 0.00441978 0.00424882 0.00250876 0.00245925\n",
      " 0.00327324 0.00335358 0.00337852 0.00366972 0.00244435 0.00248324\n",
      " 0.00382568 0.00154612 0.00333488 0.00096668 0.00054278 0.00062077\n",
      " 0.00083722 0.00204254 0.00029281 0.0012374  0.00221036 0.0010899\n",
      " 0.00107878 0.0026861  0.00157278 0.00073775 0.002056   0.00069186\n",
      " 0.0006229  0.00025838 0.0001683  0.00031802 0.00026733 0.00023524\n",
      " 0.00039455 0.00054548 0.00188186 0.00139846 0.00099548 0.00129674\n",
      " 0.00205931 0.00221902 0.00308049 0.0012295  0.00293892 0.00110695\n",
      " 0.00181928 0.00201058 0.00347631 0.00265143 0.00018058 0.0021294\n",
      " 0.0034518  0.00322252 0.00169397 0.00286317 0.00375652 0.00255842\n",
      " 0.00338853 0.0014377  0.00108181 0.00174913 0.00133149 0.00141508\n",
      " 0.00150177 0.00069885 0.00244862 0.00144628 0.00135289 0.00244469\n",
      " 0.00107387 0.00171744 0.00150875 0.00122569 0.00291865 0.00294174\n",
      " 0.00219932 0.00168306 0.00147112 0.00152544 0.00175596 0.0017769\n",
      " 0.0011847  0.00168813 0.00120417 0.00297413 0.00289804 0.001137\n",
      " 0.00109268 0.00129185 0.00156009 0.00181254 0.00137123 0.00105335\n",
      " 0.00339555 0.00270531 0.00257467 0.00249654 0.00147394 0.00189321\n",
      " 0.00158435 0.0022283  0.00221039 0.00284296 0.00323855 0.00240332\n",
      " 0.00240466 0.00257501 0.00240367 0.00226252 0.00218328 0.00183821\n",
      " 0.00193423 0.00355925 0.00341493 0.00311154 0.00302423 0.00323654\n",
      " 0.00303472 0.00359407 0.00381774 0.00267561 0.00245513 0.00304941\n",
      " 0.00297592 0.00331459 0.0034001  0.00328477 0.00338187 0.00319679\n",
      " 0.00323131 0.00289882 0.00301254 0.00325177 0.00317961 0.00331628\n",
      " 0.00337563 0.00321025 0.00301529 0.00300299 0.00260165 0.00354838\n",
      " 0.00338388 0.00371443 0.00305503 0.00186694 0.0013538  0.00420638\n",
      " 0.00376386 0.00387888 0.00081766 0.00052954 0.00159038 0.00044853\n",
      " 0.00126087 0.00044623 0.0008838  0.00054892 0.00051318 0.00040005\n",
      " 0.00041523 0.00070353 0.00129041 0.00122006 0.00012747 0.00090213\n",
      " 0.00072456 0.00111817 0.00109361 0.00129619 0.00118089 0.00079401\n",
      " 0.00090161 0.0012215  0.00121569 0.00133564 0.00177526 0.00057802\n",
      " 0.00059402 0.00130136 0.00118847 0.01017673 0.00621924 0.01295561\n",
      " 0.01570092 0.00370572 0.00808554 0.00415033 0.0137091  0.00802398\n",
      " 0.01318172 0.00699355 0.04164076 0.00392091 0.01587725 0.00572827\n",
      " 0.03542744 0.00321537 0.00464045 0.00251204 0.00889356 0.00852168\n",
      " 0.02089359 0.00328807 0.03386237 0.01375288 0.01191355 0.00874317\n",
      " 0.03093781 0.00574924 0.00643643 0.00491378 0.0201015  0.00522945\n",
      " 0.00726342 0.00399806 0.01989904 0.00267718 0.00279524 0.0023641\n",
      " 0.00275872 0.00018514 0.00044463 0.00125422 0.00385126 0.00058689\n",
      " 0.00276957 0.00167788 0.0015993  0.00334117 0.00365359 0.00327549\n",
      " 0.00296943 0.00351355 0.00308224 0.00040684 0.0003613  0.00276285\n",
      " 0.00272496 0.00300722 0.00309365 0.00302031 0.00315859 0.00342897\n",
      " 0.00346203 0.00320447 0.0032322  0.00421278 0.00101925 0.00417893\n",
      " 0.00093259 0.00142571 0.00188792 0.0008003  0.0008887  0.00116108\n",
      " 0.00212784 0.00141475 0.0015145  0.00224541 0.00157147 0.00161281\n",
      " 0.00064208 0.00112402 0.00197678 0.00231159 0.00163915 0.00107335\n",
      " 0.00068103 0.00125466 0.00191352 0.00133414 0.00218003 0.00200866\n",
      " 0.00294591 0.00297373 0.00153396 0.00284963 0.00293588 0.00143416\n",
      " 0.00146081 0.00133642 0.0012908  0.001006   0.00108108 0.00097513\n",
      " 0.0010307  0.00088619 0.00076491 0.00115526 0.00104602 0.00139166\n",
      " 0.00135351 0.0010671  0.001019  ]\n"
     ]
    },
    {
     "data": {
      "image/png": "[encoded data removed]",
      "text/plain": [
       "<Figure size 432x288 with 1 Axes>"
      ]
     },
     "metadata": {
      "needs_background": "light"
     },
     "output_type": "display_data"
    }
   ],
   "source": [
    "from sklearn.ensemble import ExtraTreesClassifier\n",
    "import matplotlib.pyplot as plt\n",
    "model = ExtraTreesClassifier()\n",
    "model.fit(X,y)\n",
    "print(model.feature_importances_) #use inbuilt class feature_importances of tree based classifiers\n",
    "#plot graph of feature importances for better visualization\n",
    "feat_importances = pd.Series(model.feature_importances_, index=X.columns)\n",
    "feat_importances.nlargest(20).plot(kind='barh')\n",
    "plt.show()\n"
   ]
  },
  {
   "cell_type": "raw",
   "metadata": {},
   "source": [
    "'SATISFACTION_JOB_ADVANCE_Somewhat dissatisfied',\n",
    "'SATISFACTION_JOB_ADVANCE_Very dissatisfied',\n",
    "'SATISFACTION_JOB_ADVANCE_Very satisfied',\n",
    "'SATISFACTION_JOB_BENEFITS_Very satisfied',\n",
    "'SATISFACTION_JOB_CHALLENGE_Somewhat dissatisfied',\n",
    "'SATISFACTION_JOB_CHALLENGE_Somewhat satisfied',\n",
    "'SATISFACTION_JOB_CHALLENGE_Very dissatisfied',\n",
    "'SATISFACTION_JOB_CHALLENGE_Very satisfied',\n",
    "'SATISFACTION_JOB_INDEP_Somewhat satisfied',\n",
    "'SATISFACTION_JOB_INDEP_Very satisfied',\n",
    "'SATISFACTION_JOB_LOC_Very satisfied',\n",
    "'SATISFACTION_JOB_RESP_Somewhat satisfied',\n",
    "'SATISFACTION_JOB_RESP_Very satisfied',\n",
    "'SATISFACTION_JOB_SALARY_Somewhat dissatisfied',\n",
    "'SATISFACTION_JOB_SALARY_Somewhat satisfied',\n",
    "'SATISFACTION_JOB_SALARY_Very dissatisfied',\n",
    "'SATISFACTION_JOB_SALARY_Very satisfied',\n",
    "'SATISFACTION_JOB_SECURITY_Very satisfied',\n",
    "'SATISFACTION_JOB_CONTRIB_SOCIETY_Somewhat satisfied',\n",
    "'SATISFACTION_JOB_CONTRIB_SOCIETY_Very satisfied'"
   ]
  },
  {
   "cell_type": "code",
   "execution_count": 27,
   "metadata": {},
   "outputs": [],
   "source": [
    "Xnew = X[['SATISFACTION_JOB_ADVANCE_Somewhat dissatisfied',\n",
    "'SATISFACTION_JOB_ADVANCE_Very dissatisfied',\n",
    "'SATISFACTION_JOB_ADVANCE_Very satisfied',\n",
    "'SATISFACTION_JOB_BENEFITS_Very satisfied',\n",
    "'SATISFACTION_JOB_CHALLENGE_Somewhat dissatisfied',\n",
    "'SATISFACTION_JOB_CHALLENGE_Somewhat satisfied',\n",
    "'SATISFACTION_JOB_CHALLENGE_Very dissatisfied',\n",
    "'SATISFACTION_JOB_CHALLENGE_Very satisfied',\n",
    "'SATISFACTION_JOB_INDEP_Somewhat satisfied',\n",
    "'SATISFACTION_JOB_INDEP_Very satisfied',\n",
    "'SATISFACTION_JOB_LOC_Very satisfied',\n",
    "'SATISFACTION_JOB_RESP_Somewhat satisfied',\n",
    "'SATISFACTION_JOB_RESP_Very satisfied',\n",
    "'SATISFACTION_JOB_SALARY_Somewhat dissatisfied',\n",
    "'SATISFACTION_JOB_SALARY_Somewhat satisfied',\n",
    "'SATISFACTION_JOB_SALARY_Very dissatisfied',\n",
    "'SATISFACTION_JOB_SALARY_Very satisfied',\n",
    "'SATISFACTION_JOB_SECURITY_Very satisfied',\n",
    "'SATISFACTION_JOB_CONTRIB_SOCIETY_Somewhat satisfied',\n",
    "'SATISFACTION_JOB_CONTRIB_SOCIETY_Very satisfied']]"
   ]
  },
  {
   "cell_type": "code",
   "execution_count": 28,
   "metadata": {},
   "outputs": [],
   "source": [
    "X_train, X_test, y_train, y_test = train_test_split(Xnew, y, test_size = 0.2)"
   ]
  },
  {
   "cell_type": "code",
   "execution_count": 29,
   "metadata": {},
   "outputs": [],
   "source": [
    "dtree_score1 =[];dtree_score2 =[];dtree_score3 =[];dtree_score4 =[]"
   ]
  },
  {
   "cell_type": "code",
   "execution_count": 30,
   "metadata": {},
   "outputs": [],
   "source": [
    "dtree = DecisionTreeClassifier(random_state = 1111, max_depth = 4);dtree.fit(X_train, y_train)\n",
    "dtree_score1.append(dtree.score(X_test, y_test))"
   ]
  },
  {
   "cell_type": "code",
   "execution_count": 31,
   "metadata": {},
   "outputs": [],
   "source": [
    "dtree = DecisionTreeClassifier(random_state = 1111, max_depth = 8);dtree.fit(X_train, y_train)\n",
    "dtree_score2.append(dtree.score(X_test, y_test))"
   ]
  },
  {
   "cell_type": "code",
   "execution_count": 32,
   "metadata": {},
   "outputs": [],
   "source": [
    "dtree = DecisionTreeClassifier(random_state = 1111, max_depth = 12);dtree.fit(X_train, y_train)\n",
    "dtree_score3.append(dtree.score(X_test, y_test))"
   ]
  },
  {
   "cell_type": "code",
   "execution_count": 33,
   "metadata": {},
   "outputs": [],
   "source": [
    "dtree = DecisionTreeClassifier(random_state = 1111, max_depth = 16);dtree.fit(X_train, y_train)\n",
    "dtree_score4.append(dtree.score(X_test, y_test))"
   ]
  },
  {
   "cell_type": "code",
   "execution_count": 34,
   "metadata": {},
   "outputs": [
    {
     "data": {
      "text/plain": [
       "Text(0, 0.5, 'Test Accuracy')"
      ]
     },
     "execution_count": 34,
     "metadata": {},
     "output_type": "execute_result"
    },
    {
     "data": {
      "image/png": "[encoded data removed]",
      "text/plain": [
       "<Figure size 432x288 with 1 Axes>"
      ]
     },
     "metadata": {
      "needs_background": "light"
     },
     "output_type": "display_data"
    }
   ],
   "source": [
    "sns.barplot(data=[dtree_score1, dtree_score2, dtree_score3, dtree_score4])\n",
    "plt.xticks([0,1,2,3], ['Very satisfied', 'Somewhat satisfied', 'Somewhat dissatisfied', 'Very dissatisfied'])\n",
    "plt.ylabel('Test Accuracy')"
   ]
  },
  {
   "cell_type": "code",
   "execution_count": 35,
   "metadata": {},
   "outputs": [
    {
     "data": {
      "text/plain": [
       "Text(0, 0.5, 'Test Accuracy')"
      ]
     },
     "execution_count": 35,
     "metadata": {},
     "output_type": "execute_result"
    },
    {
     "data": {
      "image/png": "[encoded data removed]",
      "text/plain": [
       "<Figure size 432x288 with 1 Axes>"
      ]
     },
     "metadata": {
      "needs_background": "light"
     },
     "output_type": "display_data"
    }
   ],
   "source": [
    "sns.boxplot(data=[dtree_score1, dtree_score2, dtree_score3, dtree_score4])\n",
    "plt.xticks([0,1,2,3], ['Very satisfied', 'Somewhat satisfied', 'Somewhat dissatisfied', 'Very dissatisfied'])\n",
    "plt.ylabel('Test Accuracy')"
   ]
  },
  {
   "cell_type": "code",
   "execution_count": 36,
   "metadata": {},
   "outputs": [
    {
     "data": {
      "text/plain": [
       "Text(0, 0.5, 'Test Accuracy')"
      ]
     },
     "execution_count": 36,
     "metadata": {},
     "output_type": "execute_result"
    },
    {
     "data": {
      "image/png": "[encoded data removed]",
      "text/plain": [
       "<Figure size 432x288 with 1 Axes>"
      ]
     },
     "metadata": {
      "needs_background": "light"
     },
     "output_type": "display_data"
    }
   ],
   "source": [
    "sns.stripplot(data=[dtree_score1, dtree_score2, dtree_score3, dtree_score4])\n",
    "plt.xticks([0,1,2,3], ['Very satisfied', 'Somewhat satisfied', 'Somewhat dissatisfied', 'Very dissatisfied'])\n",
    "plt.ylabel('Test Accuracy')"
   ]
  },
  {
   "cell_type": "code",
   "execution_count": 37,
   "metadata": {},
   "outputs": [],
   "source": [
    "Xnew_col = Xnew.columns"
   ]
  },
  {
   "cell_type": "code",
   "execution_count": 38,
   "metadata": {},
   "outputs": [
    {
     "name": "stdout",
     "output_type": "stream",
     "text": [
      "\n",
      "<class 'pandas.core.frame.DataFrame'>\n",
      "RangeIndex: 62373 entries, 0 to 62372\n",
      "Data columns (total 20 columns):\n",
      "SATISFACTION_JOB_ADVANCE_Somewhat dissatisfied         62373 non-null uint8\n",
      "SATISFACTION_JOB_ADVANCE_Very dissatisfied             62373 non-null uint8\n",
      "SATISFACTION_JOB_ADVANCE_Very satisfied                62373 non-null uint8\n",
      "SATISFACTION_JOB_BENEFITS_Very satisfied               62373 non-null uint8\n",
      "SATISFACTION_JOB_CHALLENGE_Somewhat dissatisfied       62373 non-null uint8\n",
      "SATISFACTION_JOB_CHALLENGE_Somewhat satisfied          62373 non-null uint8\n",
      "SATISFACTION_JOB_CHALLENGE_Very dissatisfied           62373 non-null uint8\n",
      "SATISFACTION_JOB_CHALLENGE_Very satisfied              62373 non-null uint8\n",
      "SATISFACTION_JOB_INDEP_Somewhat satisfied              62373 non-null uint8\n",
      "SATISFACTION_JOB_INDEP_Very satisfied                  62373 non-null uint8\n",
      "SATISFACTION_JOB_LOC_Very satisfied                    62373 non-null uint8\n",
      "SATISFACTION_JOB_RESP_Somewhat satisfied               62373 non-null uint8\n",
      "SATISFACTION_JOB_RESP_Very satisfied                   62373 non-null uint8\n",
      "SATISFACTION_JOB_SALARY_Somewhat dissatisfied          62373 non-null uint8\n",
      "SATISFACTION_JOB_SALARY_Somewhat satisfied             62373 non-null uint8\n",
      "SATISFACTION_JOB_SALARY_Very dissatisfied              62373 non-null uint8\n",
      "SATISFACTION_JOB_SALARY_Very satisfied                 62373 non-null uint8\n",
      "SATISFACTION_JOB_SECURITY_Very satisfied               62373 non-null uint8\n",
      "SATISFACTION_JOB_CONTRIB_SOCIETY_Somewhat satisfied    62373 non-null uint8\n",
      "SATISFACTION_JOB_CONTRIB_SOCIETY_Very satisfied        62373 non-null uint8\n",
      "dtypes: uint8(20)\n",
      "memory usage: 1.2 MB\n",
      "None\n"
     ]
    }
   ],
   "source": [
    "print(); print(Xnew[Xnew_col].info())"
   ]
  },
  {
   "cell_type": "code",
   "execution_count": 39,
   "metadata": {},
   "outputs": [
    {
     "data": {
      "text/html": [
       "<div>\n",
       "<style scoped>\n",
       "    .dataframe tbody tr th:only-of-type {\n",
       "        vertical-align: middle;\n",
       "    }\n",
       "\n",
       "    .dataframe tbody tr th {\n",
       "        vertical-align: top;\n",
       "    }\n",
       "\n",
       "    .dataframe thead th {\n",
       "        text-align: right;\n",
       "    }\n",
       "</style>\n",
       "<table border=\"1\" class=\"dataframe\">\n",
       "  <thead>\n",
       "    <tr style=\"text-align: right;\">\n",
       "      <th></th>\n",
       "      <th>SATISFACTION_JOB_ADVANCE_Somewhat dissatisfied</th>\n",
       "      <th>SATISFACTION_JOB_ADVANCE_Very dissatisfied</th>\n",
       "      <th>SATISFACTION_JOB_ADVANCE_Very satisfied</th>\n",
       "      <th>SATISFACTION_JOB_BENEFITS_Very satisfied</th>\n",
       "      <th>SATISFACTION_JOB_CHALLENGE_Somewhat dissatisfied</th>\n",
       "      <th>SATISFACTION_JOB_CHALLENGE_Somewhat satisfied</th>\n",
       "      <th>SATISFACTION_JOB_CHALLENGE_Very dissatisfied</th>\n",
       "      <th>SATISFACTION_JOB_CHALLENGE_Very satisfied</th>\n",
       "      <th>SATISFACTION_JOB_INDEP_Somewhat satisfied</th>\n",
       "      <th>SATISFACTION_JOB_INDEP_Very satisfied</th>\n",
       "      <th>SATISFACTION_JOB_LOC_Very satisfied</th>\n",
       "      <th>SATISFACTION_JOB_RESP_Somewhat satisfied</th>\n",
       "      <th>SATISFACTION_JOB_RESP_Very satisfied</th>\n",
       "      <th>SATISFACTION_JOB_SALARY_Somewhat dissatisfied</th>\n",
       "      <th>SATISFACTION_JOB_SALARY_Somewhat satisfied</th>\n",
       "      <th>SATISFACTION_JOB_SALARY_Very dissatisfied</th>\n",
       "      <th>SATISFACTION_JOB_SALARY_Very satisfied</th>\n",
       "      <th>SATISFACTION_JOB_SECURITY_Very satisfied</th>\n",
       "      <th>SATISFACTION_JOB_CONTRIB_SOCIETY_Somewhat satisfied</th>\n",
       "      <th>SATISFACTION_JOB_CONTRIB_SOCIETY_Very satisfied</th>\n",
       "    </tr>\n",
       "  </thead>\n",
       "  <tbody>\n",
       "    <tr>\n",
       "      <th>count</th>\n",
       "      <td>62373.000000</td>\n",
       "      <td>62373.000000</td>\n",
       "      <td>62373.000000</td>\n",
       "      <td>62373.000000</td>\n",
       "      <td>62373.000000</td>\n",
       "      <td>62373.000000</td>\n",
       "      <td>62373.000000</td>\n",
       "      <td>62373.000000</td>\n",
       "      <td>62373.000000</td>\n",
       "      <td>62373.000000</td>\n",
       "      <td>62373.000000</td>\n",
       "      <td>62373.000000</td>\n",
       "      <td>62373.000000</td>\n",
       "      <td>62373.000000</td>\n",
       "      <td>62373.000000</td>\n",
       "      <td>62373.000000</td>\n",
       "      <td>62373.000000</td>\n",
       "      <td>62373.000000</td>\n",
       "      <td>62373.000000</td>\n",
       "      <td>62373.000000</td>\n",
       "    </tr>\n",
       "    <tr>\n",
       "      <th>mean</th>\n",
       "      <td>0.220753</td>\n",
       "      <td>0.103426</td>\n",
       "      <td>0.242733</td>\n",
       "      <td>0.369423</td>\n",
       "      <td>0.117487</td>\n",
       "      <td>0.391483</td>\n",
       "      <td>0.051208</td>\n",
       "      <td>0.439822</td>\n",
       "      <td>0.327866</td>\n",
       "      <td>0.580331</td>\n",
       "      <td>0.556795</td>\n",
       "      <td>0.415148</td>\n",
       "      <td>0.466195</td>\n",
       "      <td>0.154169</td>\n",
       "      <td>0.494188</td>\n",
       "      <td>0.074888</td>\n",
       "      <td>0.276754</td>\n",
       "      <td>0.440367</td>\n",
       "      <td>0.376942</td>\n",
       "      <td>0.486012</td>\n",
       "    </tr>\n",
       "    <tr>\n",
       "      <th>std</th>\n",
       "      <td>0.414757</td>\n",
       "      <td>0.304517</td>\n",
       "      <td>0.428739</td>\n",
       "      <td>0.482652</td>\n",
       "      <td>0.322002</td>\n",
       "      <td>0.488086</td>\n",
       "      <td>0.220424</td>\n",
       "      <td>0.496369</td>\n",
       "      <td>0.469440</td>\n",
       "      <td>0.493509</td>\n",
       "      <td>0.496768</td>\n",
       "      <td>0.492751</td>\n",
       "      <td>0.498860</td>\n",
       "      <td>0.361114</td>\n",
       "      <td>0.499970</td>\n",
       "      <td>0.263213</td>\n",
       "      <td>0.447398</td>\n",
       "      <td>0.496435</td>\n",
       "      <td>0.484624</td>\n",
       "      <td>0.499808</td>\n",
       "    </tr>\n",
       "    <tr>\n",
       "      <th>min</th>\n",
       "      <td>0.000000</td>\n",
       "      <td>0.000000</td>\n",
       "      <td>0.000000</td>\n",
       "      <td>0.000000</td>\n",
       "      <td>0.000000</td>\n",
       "      <td>0.000000</td>\n",
       "      <td>0.000000</td>\n",
       "      <td>0.000000</td>\n",
       "      <td>0.000000</td>\n",
       "      <td>0.000000</td>\n",
       "      <td>0.000000</td>\n",
       "      <td>0.000000</td>\n",
       "      <td>0.000000</td>\n",
       "      <td>0.000000</td>\n",
       "      <td>0.000000</td>\n",
       "      <td>0.000000</td>\n",
       "      <td>0.000000</td>\n",
       "      <td>0.000000</td>\n",
       "      <td>0.000000</td>\n",
       "      <td>0.000000</td>\n",
       "    </tr>\n",
       "    <tr>\n",
       "      <th>25%</th>\n",
       "      <td>0.000000</td>\n",
       "      <td>0.000000</td>\n",
       "      <td>0.000000</td>\n",
       "      <td>0.000000</td>\n",
       "      <td>0.000000</td>\n",
       "      <td>0.000000</td>\n",
       "      <td>0.000000</td>\n",
       "      <td>0.000000</td>\n",
       "      <td>0.000000</td>\n",
       "      <td>0.000000</td>\n",
       "      <td>0.000000</td>\n",
       "      <td>0.000000</td>\n",
       "      <td>0.000000</td>\n",
       "      <td>0.000000</td>\n",
       "      <td>0.000000</td>\n",
       "      <td>0.000000</td>\n",
       "      <td>0.000000</td>\n",
       "      <td>0.000000</td>\n",
       "      <td>0.000000</td>\n",
       "      <td>0.000000</td>\n",
       "    </tr>\n",
       "    <tr>\n",
       "      <th>50%</th>\n",
       "      <td>0.000000</td>\n",
       "      <td>0.000000</td>\n",
       "      <td>0.000000</td>\n",
       "      <td>0.000000</td>\n",
       "      <td>0.000000</td>\n",
       "      <td>0.000000</td>\n",
       "      <td>0.000000</td>\n",
       "      <td>0.000000</td>\n",
       "      <td>0.000000</td>\n",
       "      <td>1.000000</td>\n",
       "      <td>1.000000</td>\n",
       "      <td>0.000000</td>\n",
       "      <td>0.000000</td>\n",
       "      <td>0.000000</td>\n",
       "      <td>0.000000</td>\n",
       "      <td>0.000000</td>\n",
       "      <td>0.000000</td>\n",
       "      <td>0.000000</td>\n",
       "      <td>0.000000</td>\n",
       "      <td>0.000000</td>\n",
       "    </tr>\n",
       "    <tr>\n",
       "      <th>75%</th>\n",
       "      <td>0.000000</td>\n",
       "      <td>0.000000</td>\n",
       "      <td>0.000000</td>\n",
       "      <td>1.000000</td>\n",
       "      <td>0.000000</td>\n",
       "      <td>1.000000</td>\n",
       "      <td>0.000000</td>\n",
       "      <td>1.000000</td>\n",
       "      <td>1.000000</td>\n",
       "      <td>1.000000</td>\n",
       "      <td>1.000000</td>\n",
       "      <td>1.000000</td>\n",
       "      <td>1.000000</td>\n",
       "      <td>0.000000</td>\n",
       "      <td>1.000000</td>\n",
       "      <td>0.000000</td>\n",
       "      <td>1.000000</td>\n",
       "      <td>1.000000</td>\n",
       "      <td>1.000000</td>\n",
       "      <td>1.000000</td>\n",
       "    </tr>\n",
       "    <tr>\n",
       "      <th>max</th>\n",
       "      <td>1.000000</td>\n",
       "      <td>1.000000</td>\n",
       "      <td>1.000000</td>\n",
       "      <td>1.000000</td>\n",
       "      <td>1.000000</td>\n",
       "      <td>1.000000</td>\n",
       "      <td>1.000000</td>\n",
       "      <td>1.000000</td>\n",
       "      <td>1.000000</td>\n",
       "      <td>1.000000</td>\n",
       "      <td>1.000000</td>\n",
       "      <td>1.000000</td>\n",
       "      <td>1.000000</td>\n",
       "      <td>1.000000</td>\n",
       "      <td>1.000000</td>\n",
       "      <td>1.000000</td>\n",
       "      <td>1.000000</td>\n",
       "      <td>1.000000</td>\n",
       "      <td>1.000000</td>\n",
       "      <td>1.000000</td>\n",
       "    </tr>\n",
       "  </tbody>\n",
       "</table>\n",
       "</div>"
      ],
      "text/plain": [
       "       SATISFACTION_JOB_ADVANCE_Somewhat dissatisfied  SATISFACTION_JOB_ADVANCE_Very dissatisfied  SATISFACTION_JOB_ADVANCE_Very satisfied  SATISFACTION_JOB_BENEFITS_Very satisfied  SATISFACTION_JOB_CHALLENGE_Somewhat dissatisfied  SATISFACTION_JOB_CHALLENGE_Somewhat satisfied  SATISFACTION_JOB_CHALLENGE_Very dissatisfied  SATISFACTION_JOB_CHALLENGE_Very satisfied  SATISFACTION_JOB_INDEP_Somewhat satisfied  SATISFACTION_JOB_INDEP_Very satisfied  SATISFACTION_JOB_LOC_Very satisfied  SATISFACTION_JOB_RESP_Somewhat satisfied  SATISFACTION_JOB_RESP_Very satisfied  SATISFACTION_JOB_SALARY_Somewhat dissatisfied  SATISFACTION_JOB_SALARY_Somewhat satisfied  SATISFACTION_JOB_SALARY_Very dissatisfied  SATISFACTION_JOB_SALARY_Very satisfied  SATISFACTION_JOB_SECURITY_Very satisfied  SATISFACTION_JOB_CONTRIB_SOCIETY_Somewhat satisfied  SATISFACTION_JOB_CONTRIB_SOCIETY_Very satisfied\n",
       "count                                    62373.000000                                62373.000000                             62373.000000                              62373.000000                                      62373.000000                                   62373.000000                                  62373.000000                               62373.000000                               62373.000000                           62373.000000                         62373.000000                              62373.000000                          62373.000000                                   62373.000000                                62373.000000                               62373.000000                            62373.000000                              62373.000000                                       62373.000000                                       62373.000000\n",
       "mean                                         0.220753                                    0.103426                                 0.242733                                  0.369423                                          0.117487                                       0.391483                                      0.051208                                   0.439822                                   0.327866                               0.580331                             0.556795                                  0.415148                              0.466195                                       0.154169                                    0.494188                                   0.074888                                0.276754                                  0.440367                                           0.376942                                           0.486012\n",
       "std                                          0.414757                                    0.304517                                 0.428739                                  0.482652                                          0.322002                                       0.488086                                      0.220424                                   0.496369                                   0.469440                               0.493509                             0.496768                                  0.492751                              0.498860                                       0.361114                                    0.499970                                   0.263213                                0.447398                                  0.496435                                           0.484624                                           0.499808\n",
       "min                                          0.000000                                    0.000000                                 0.000000                                  0.000000                                          0.000000                                       0.000000                                      0.000000                                   0.000000                                   0.000000                               0.000000                             0.000000                                  0.000000                              0.000000                                       0.000000                                    0.000000                                   0.000000                                0.000000                                  0.000000                                           0.000000                                           0.000000\n",
       "25%                                          0.000000                                    0.000000                                 0.000000                                  0.000000                                          0.000000                                       0.000000                                      0.000000                                   0.000000                                   0.000000                               0.000000                             0.000000                                  0.000000                              0.000000                                       0.000000                                    0.000000                                   0.000000                                0.000000                                  0.000000                                           0.000000                                           0.000000\n",
       "50%                                          0.000000                                    0.000000                                 0.000000                                  0.000000                                          0.000000                                       0.000000                                      0.000000                                   0.000000                                   0.000000                               1.000000                             1.000000                                  0.000000                              0.000000                                       0.000000                                    0.000000                                   0.000000                                0.000000                                  0.000000                                           0.000000                                           0.000000\n",
       "75%                                          0.000000                                    0.000000                                 0.000000                                  1.000000                                          0.000000                                       1.000000                                      0.000000                                   1.000000                                   1.000000                               1.000000                             1.000000                                  1.000000                              1.000000                                       0.000000                                    1.000000                                   0.000000                                1.000000                                  1.000000                                           1.000000                                           1.000000\n",
       "max                                          1.000000                                    1.000000                                 1.000000                                  1.000000                                          1.000000                                       1.000000                                      1.000000                                   1.000000                                   1.000000                               1.000000                             1.000000                                  1.000000                              1.000000                                       1.000000                                    1.000000                                   1.000000                                1.000000                                  1.000000                                           1.000000                                           1.000000"
      ]
     },
     "execution_count": 39,
     "metadata": {},
     "output_type": "execute_result"
    }
   ],
   "source": [
    "Xnew[Xnew_col].describe()"
   ]
  },
  {
   "cell_type": "code",
   "execution_count": 40,
   "metadata": {},
   "outputs": [
    {
     "data": {
      "text/plain": [
       "(62373, 20)"
      ]
     },
     "execution_count": 40,
     "metadata": {},
     "output_type": "execute_result"
    }
   ],
   "source": [
    "Xnew.shape"
   ]
  },
  {
   "cell_type": "code",
   "execution_count": 41,
   "metadata": {},
   "outputs": [
    {
     "data": {
      "text/plain": [
       "(62373, 4)"
      ]
     },
     "execution_count": 41,
     "metadata": {},
     "output_type": "execute_result"
    }
   ],
   "source": [
    "y.shape"
   ]
  },
  {
   "cell_type": "code",
   "execution_count": 42,
   "metadata": {},
   "outputs": [],
   "source": [
    "y_predict = dtree.predict(X_test)"
   ]
  },
  {
   "cell_type": "code",
   "execution_count": 43,
   "metadata": {},
   "outputs": [
    {
     "data": {
      "text/plain": [
       "array([[0, 1, 0, 0],\n",
       "       [0, 0, 0, 0],\n",
       "       [0, 0, 0, 1],\n",
       "       ...,\n",
       "       [0, 1, 0, 0],\n",
       "       [0, 1, 0, 0],\n",
       "       [0, 1, 0, 0]], dtype=uint8)"
      ]
     },
     "execution_count": 43,
     "metadata": {},
     "output_type": "execute_result"
    }
   ],
   "source": [
    "y_predict"
   ]
  },
  {
   "cell_type": "code",
   "execution_count": 44,
   "metadata": {},
   "outputs": [],
   "source": [
    "y_trainpredict = dtree.predict(X_train)"
   ]
  },
  {
   "cell_type": "code",
   "execution_count": 45,
   "metadata": {},
   "outputs": [
    {
     "data": {
      "text/plain": [
       "array([[0, 1, 0, 0],\n",
       "       [0, 0, 0, 1],\n",
       "       [0, 1, 0, 0],\n",
       "       ...,\n",
       "       [0, 0, 0, 1],\n",
       "       [0, 0, 0, 1],\n",
       "       [0, 1, 0, 0]], dtype=uint8)"
      ]
     },
     "execution_count": 45,
     "metadata": {},
     "output_type": "execute_result"
    }
   ],
   "source": [
    "y_trainpredict"
   ]
  },
  {
   "cell_type": "code",
   "execution_count": 46,
   "metadata": {},
   "outputs": [
    {
     "data": {
      "text/plain": [
       "[array([[0.9       , 0.1       ],\n",
       "        [0.52777778, 0.47222222],\n",
       "        [1.        , 0.        ],\n",
       "        ...,\n",
       "        [0.66666667, 0.33333333],\n",
       "        [1.        , 0.        ],\n",
       "        [1.        , 0.        ]]), array([[0.1       , 0.9       ],\n",
       "        [0.94444444, 0.05555556],\n",
       "        [0.7972973 , 0.2027027 ],\n",
       "        ...,\n",
       "        [0.33333333, 0.66666667],\n",
       "        [0.22222222, 0.77777778],\n",
       "        [0.33333333, 0.66666667]]), array([[1.        , 0.        ],\n",
       "        [0.56944444, 0.43055556],\n",
       "        [1.        , 0.        ],\n",
       "        ...,\n",
       "        [1.        , 0.        ],\n",
       "        [1.        , 0.        ],\n",
       "        [1.        , 0.        ]]), array([[1.        , 0.        ],\n",
       "        [0.95833333, 0.04166667],\n",
       "        [0.2027027 , 0.7972973 ],\n",
       "        ...,\n",
       "        [1.        , 0.        ],\n",
       "        [0.77777778, 0.22222222],\n",
       "        [0.66666667, 0.33333333]])]"
      ]
     },
     "execution_count": 46,
     "metadata": {},
     "output_type": "execute_result"
    }
   ],
   "source": [
    "dtree.predict_proba(X_test)"
   ]
  },
  {
   "cell_type": "code",
   "execution_count": 47,
   "metadata": {},
   "outputs": [
    {
     "data": {
      "text/plain": [
       "{'class_weight': None,\n",
       " 'criterion': 'gini',\n",
       " 'max_depth': 16,\n",
       " 'max_features': None,\n",
       " 'max_leaf_nodes': None,\n",
       " 'min_impurity_decrease': 0.0,\n",
       " 'min_impurity_split': None,\n",
       " 'min_samples_leaf': 1,\n",
       " 'min_samples_split': 2,\n",
       " 'min_weight_fraction_leaf': 0.0,\n",
       " 'presort': False,\n",
       " 'random_state': 1111,\n",
       " 'splitter': 'best'}"
      ]
     },
     "execution_count": 47,
     "metadata": {},
     "output_type": "execute_result"
    }
   ],
   "source": [
    "dtree.get_params()"
   ]
  },
  {
   "cell_type": "raw",
   "metadata": {},
   "source": [
    "from sklearn.metrics import accuracy_score, precision_score, recall_score\n",
    "accuracy_score(y_train, y_predict)"
   ]
  },
  {
   "cell_type": "raw",
   "metadata": {},
   "source": [
    "precision_score(y_train, y_predict,  average=None)"
   ]
  },
  {
   "cell_type": "raw",
   "metadata": {},
   "source": [
    "recall_score(y_train, y_predict,  average=None)"
   ]
  },
  {
   "cell_type": "raw",
   "metadata": {},
   "source": [
    "print(\"Training: {0:.2f}\".format(accuracy_score(y_train, y_trainpredict)))"
   ]
  },
  {
   "cell_type": "raw",
   "metadata": {},
   "source": [
    "print(\"Testing: {0:.2f}\".format(accuracy_score(y_test, y_predict)))"
   ]
  },
  {
   "cell_type": "raw",
   "metadata": {},
   "source": [
    "dtree.score(X_test, y_test)"
   ]
  },
  {
   "cell_type": "code",
   "execution_count": 48,
   "metadata": {},
   "outputs": [],
   "source": [
    "X1_train, X1_test, y1_train, y1_test = train_test_split(Xnew, y, test_size = 0.2, random_state=1111)"
   ]
  },
  {
   "cell_type": "code",
   "execution_count": 49,
   "metadata": {},
   "outputs": [],
   "source": [
    "from sklearn.preprocessing import StandardScaler\n",
    "from sklearn.ensemble import RandomForestClassifier\n",
    "from sklearn.metrics import confusion_matrix\n"
   ]
  },
  {
   "cell_type": "code",
   "execution_count": 50,
   "metadata": {},
   "outputs": [],
   "source": [
    "scaler = StandardScaler()\n",
    "X1_train = scaler.fit_transform(X1_train)\n",
    "X1_test = scaler.transform(X1_test)"
   ]
  },
  {
   "cell_type": "code",
   "execution_count": 51,
   "metadata": {},
   "outputs": [
    {
     "name": "stderr",
     "output_type": "stream",
     "text": [
      "C:\\Users\\Naeemah\\Anaconda3\\lib\\site-packages\\sklearn\\ensemble\\forest.py:245: FutureWarning: The default value of n_estimators will change from 10 in version 0.20 to 100 in 0.22.\n",
      "  \"10 in version 0.20 to 100 in 0.22.\", FutureWarning)\n"
     ]
    },
    {
     "data": {
      "text/plain": [
       "RandomForestClassifier(bootstrap=True, class_weight=None, criterion='gini',\n",
       "                       max_depth=None, max_features='auto', max_leaf_nodes=None,\n",
       "                       min_impurity_decrease=0.0, min_impurity_split=None,\n",
       "                       min_samples_leaf=1, min_samples_split=2,\n",
       "                       min_weight_fraction_leaf=0.0, n_estimators=10,\n",
       "                       n_jobs=None, oob_score=False, random_state=1111,\n",
       "                       verbose=0, warm_start=False)"
      ]
     },
     "execution_count": 51,
     "metadata": {},
     "output_type": "execute_result"
    }
   ],
   "source": [
    "classifier = RandomForestClassifier(random_state = 1111, )\n",
    "classifier.fit(X1_train, y1_train)"
   ]
  },
  {
   "cell_type": "code",
   "execution_count": 52,
   "metadata": {},
   "outputs": [
    {
     "data": {
      "text/plain": [
       "0.7064529058116232"
      ]
     },
     "execution_count": 52,
     "metadata": {},
     "output_type": "execute_result"
    }
   ],
   "source": [
    "classifier.score(X1_test, y1_test)"
   ]
  },
  {
   "cell_type": "code",
   "execution_count": 53,
   "metadata": {},
   "outputs": [],
   "source": [
    "y1_pred = classifier.predict(X1_test)"
   ]
  },
  {
   "cell_type": "code",
   "execution_count": 54,
   "metadata": {},
   "outputs": [
    {
     "name": "stdout",
     "output_type": "stream",
     "text": [
      "Accuracy: 0.7064529058116232\n"
     ]
    }
   ],
   "source": [
    "from sklearn import metrics\n",
    "print(\"Accuracy:\",metrics.accuracy_score(y1_test, y1_pred))"
   ]
  },
  {
   "cell_type": "code",
   "execution_count": 55,
   "metadata": {},
   "outputs": [],
   "source": [
    "from sklearn.model_selection import RandomizedSearchCV\n",
    "# Number of trees in random forest\n",
    "n_estimators = [int(x) for x in np.linspace(start = 200, stop = 2000, num = 10)]\n",
    "# Number of features to consider at every split\n",
    "max_features = ['auto', 'sqrt']\n",
    "# Maximum number of levels in tree\n",
    "max_depth = [int(x) for x in np.linspace(10, 110, num = 11)]\n",
    "max_depth.append(None)\n",
    "# Minimum number of samples required to split a node\n",
    "min_samples_split = [2, 5, 10]\n",
    "# Minimum number of samples required at each leaf node\n",
    "min_samples_leaf = [1, 2, 4]\n",
    "# Method of selecting samples for training each tree\n",
    "bootstrap = [True, False]"
   ]
  },
  {
   "cell_type": "code",
   "execution_count": 56,
   "metadata": {},
   "outputs": [],
   "source": [
    "# Create the random grid\n",
    "random_grid = {'n_estimators': n_estimators,\n",
    "               'max_features': max_features,\n",
    "               'max_depth': max_depth,\n",
    "               'min_samples_split': min_samples_split,\n",
    "               'min_samples_leaf': min_samples_leaf,\n",
    "               'bootstrap': bootstrap}"
   ]
  },
  {
   "cell_type": "code",
   "execution_count": 57,
   "metadata": {},
   "outputs": [
    {
     "name": "stdout",
     "output_type": "stream",
     "text": [
      "{'n_estimators': [200, 400, 600, 800, 1000, 1200, 1400, 1600, 1800, 2000], 'max_features': ['auto', 'sqrt'], 'max_depth': [10, 20, 30, 40, 50, 60, 70, 80, 90, 100, 110, None], 'min_samples_split': [2, 5, 10], 'min_samples_leaf': [1, 2, 4], 'bootstrap': [True, False]}\n"
     ]
    }
   ],
   "source": [
    "print(random_grid)"
   ]
  },
  {
   "cell_type": "code",
   "execution_count": null,
   "metadata": {},
   "outputs": [
    {
     "name": "stdout",
     "output_type": "stream",
     "text": [
      "Fitting 3 folds for each of 100 candidates, totalling 300 fits\n"
     ]
    },
    {
     "name": "stderr",
     "output_type": "stream",
     "text": [
      "[Parallel(n_jobs=-1)]: Using backend LokyBackend with 4 concurrent workers.\n"
     ]
    }
   ],
   "source": [
    "# Use the random grid to search for best hyperparameters\n",
    "# First create the base model to tune\n",
    "rf = RandomForestClassifier()\n",
    "# Random search of parameters, using 3 fold cross validation, \n",
    "# search across 100 different combinations, and use all available cores\n",
    "rf_random = RandomizedSearchCV(estimator = rf, param_distributions = random_grid, n_iter = 100, cv = 3, verbose=2, random_state=42, n_jobs = -1)\n",
    "# Fit the random search model\n",
    "rf_random.fit(X1_train, y1_train)"
   ]
  },
  {
   "cell_type": "code",
   "execution_count": null,
   "metadata": {},
   "outputs": [],
   "source": [
    "rf_random.best_params_"
   ]
  },
  {
   "cell_type": "code",
   "execution_count": null,
   "metadata": {},
   "outputs": [],
   "source": []
  },
  {
   "cell_type": "code",
   "execution_count": null,
   "metadata": {},
   "outputs": [],
   "source": []
  },
  {
   "cell_type": "code",
   "execution_count": null,
   "metadata": {},
   "outputs": [],
   "source": []
  }
 ],
 "metadata": {
  "kernelspec": {
   "display_name": "Python 3",
   "language": "python",
   "name": "python3"
  },
  "language_info": {
   "codemirror_mode": {
    "name": "ipython",
    "version": 3
   },
   "file_extension": ".py",
   "mimetype": "text/x-python",
   "name": "python",
   "nbconvert_exporter": "python",
   "pygments_lexer": "ipython3",
   "version": "3.7.3"
  }
 },
 "nbformat": 4,
 "nbformat_minor": 2
}
