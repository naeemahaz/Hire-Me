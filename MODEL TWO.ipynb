{
 "cells": [
  {
   "cell_type": "code",
   "execution_count": 108,
   "metadata": {},
   "outputs": [],
   "source": [
    "import pandas as pd\n",
    "import numpy as np\n",
    "import csv\n",
    "from sklearn.tree import DecisionTreeClassifier # Import Decision Tree Classifier\n",
    "from sklearn.model_selection import train_test_split # Import train_test_split function\n",
    "from sklearn import metrics #Import scikit-learn metrics module for accuracy calculation\n",
    "import matplotlib.pyplot as plt\n",
    "import pydotplus\n",
    "import os\n",
    "from sklearn import tree\n",
    "from sklearn.preprocessing import StandardScaler\n",
    "import seaborn as sns\n",
    "from sklearn.preprocessing import LabelEncoder\n",
    "enc = LabelEncoder()\n",
    "from sklearn import preprocessing \n",
    "from sklearn.tree import export_graphviz\n",
    "from sklearn.externals.six import StringIO  \n",
    "from IPython.display import Image  \n",
    "import pydotplus\n",
    "import graphviz \n",
    "pd.set_option('display.width', 2000)\n",
    "pd.set_option('display.max_columns', 2000)"
   ]
  },
  {
   "cell_type": "code",
   "execution_count": 109,
   "metadata": {},
   "outputs": [
    {
     "name": "stderr",
     "output_type": "stream",
     "text": [
      "C:\\Users\\Naeemah\\Anaconda3\\lib\\site-packages\\IPython\\core\\interactiveshell.py:3057: DtypeWarning: Columns (0) have mixed types. Specify dtype option on import or set low_memory=False.\n",
      "  interactivity=interactivity, compiler=compiler, result=result)\n"
     ]
    }
   ],
   "source": [
    "data = pd.read_csv('alldata.csv')"
   ]
  },
  {
   "cell_type": "code",
   "execution_count": 110,
   "metadata": {},
   "outputs": [],
   "source": [
    "dataset = data "
   ]
  },
  {
   "cell_type": "code",
   "execution_count": 111,
   "metadata": {},
   "outputs": [],
   "source": [
    "SATISFACTION_JOB = []\n",
    "\n",
    "for row in dataset['SATISFACTION_JOB']:\n",
    "    if row in ['Very satisfied']:\n",
    "        SATISFACTION_JOB.append('1')\n",
    "    elif row in ['Somewhat satisfied']:\n",
    "        SATISFACTION_JOB.append('2')\n",
    "    elif row in ['Somewhat dissatisfied']:\n",
    "        SATISFACTION_JOB.append('3')\n",
    "    else:\n",
    "        SATISFACTION_JOB.append('4')\n",
    "\n",
    "    \n",
    "dataset['SATISFACTION_JOB'] = SATISFACTION_JOB"
   ]
  },
  {
   "cell_type": "code",
   "execution_count": 112,
   "metadata": {},
   "outputs": [],
   "source": [
    "newdata = dataset"
   ]
  },
  {
   "cell_type": "code",
   "execution_count": 113,
   "metadata": {},
   "outputs": [],
   "source": [
    "new = newdata[['HOURS_WORKED','HAVE_HEALTH_CARE','HAVE_PENSION','HAVE_PROFIT_SHARE','HAVE_VACATION','WORK_ACTIVITY','WORK_ACTIVITY_SUM','WORK_ACTIVITY_SECOND','WORK_ACTIVITY_SCEOND_SUM','COMPUTER','DEVELOPMENT_AND_DESIGN','MANAGEMENT_SALES','RESEARCH_AND_DEVELOPMENT','RESEARCH_DEVE_TEACHING','ACTIVITY_RESEARCH','ACTIVITY_TEACHING','WORK_DEVELOPMENT','WORK_DESIGN','WORK_EMPLOYEE_RELATIONS','WORK_MANAGEMENT_ADMIN','WORK_OTHER','WORK_PRODUCTION','WORK_QUALITY_MANAGEMENT','WORK_SALES_MARKETING','WORK_PROFESSIONAL_SERVICES','WORK_TEACHING','WORK_FINANCE','WORK_APPLIED_RESEARCH','WORK_RESEARCH','WORK_COMPUTER_APPLICATIONS','SUPERVISORY_WORK','SATISFACTION_JOB_ADVANCE','SATISFACTION_JOB_BENEFITS','SATISFACTION_JOB_CHALLENGE','SATISFACTION_JOB_INDEP','SATISFACTION_JOB_LOC','SATISFACTION_JOB_RESP','SATISFACTION_JOB_SALARY','SATISFACTION_JOB_SECURITY','SATISFACTION_JOB_CONTRIB_SOCIETY','ATTEND_TRAINING_WORK_RELATE','SATISFACTION_JOB']]"
   ]
  },
  {
   "cell_type": "code",
   "execution_count": 114,
   "metadata": {},
   "outputs": [],
   "source": [
    "newnew = new"
   ]
  },
  {
   "cell_type": "code",
   "execution_count": 115,
   "metadata": {},
   "outputs": [],
   "source": [
    "newdataset = new"
   ]
  },
  {
   "cell_type": "code",
   "execution_count": 116,
   "metadata": {},
   "outputs": [],
   "source": [
    "#dataset['FIELD_MAJOR_RECENT_DEGREE'].fillna('None', inplace=True)"
   ]
  },
  {
   "cell_type": "code",
   "execution_count": 117,
   "metadata": {},
   "outputs": [],
   "source": [
    "#dataset['AGE'] = pd.to_numeric(data['AGE'])"
   ]
  },
  {
   "cell_type": "code",
   "execution_count": 118,
   "metadata": {},
   "outputs": [],
   "source": [
    "#bins = [20, 30,  40,  50,  60,  70,  80]\n",
    "#dataset['AGE_BINS'] = pd.cut(dataset['AGE'], bins)"
   ]
  },
  {
   "cell_type": "code",
   "execution_count": 119,
   "metadata": {},
   "outputs": [],
   "source": [
    "#dataset['SALARY_NEW'] = dataset[' SALARY '].str.replace('$', '')"
   ]
  },
  {
   "cell_type": "code",
   "execution_count": 120,
   "metadata": {},
   "outputs": [],
   "source": [
    "#dataset['SALARY_NEW'] = dataset['SALARY_NEW'].str.replace(',', '')"
   ]
  },
  {
   "cell_type": "code",
   "execution_count": 121,
   "metadata": {},
   "outputs": [],
   "source": [
    "#dataset['SALARY'] = dataset['SALARY_NEW'].str.replace(' -   ', '')"
   ]
  },
  {
   "cell_type": "code",
   "execution_count": 122,
   "metadata": {},
   "outputs": [],
   "source": [
    "#dataset = dataset.drop('SALARY_NEW', axis=1)"
   ]
  },
  {
   "cell_type": "code",
   "execution_count": 123,
   "metadata": {},
   "outputs": [],
   "source": [
    "#dataset['SALARY'] = pd.to_numeric(dataset['SALARY'], errors='coerce')"
   ]
  },
  {
   "cell_type": "code",
   "execution_count": 124,
   "metadata": {},
   "outputs": [],
   "source": [
    "#bins = [0, 5000, 10000, 20000,  30000,  40000,  50000,  60000,  70000,  80000, 90000, 100000, 200000]\n",
    "#dataset['SALARY_BINS'] = pd.cut(dataset['SALARY'], bins)"
   ]
  },
  {
   "cell_type": "code",
   "execution_count": 125,
   "metadata": {},
   "outputs": [],
   "source": [
    "#dataset = dataset.drop('SALARY', axis=1)"
   ]
  },
  {
   "cell_type": "code",
   "execution_count": 126,
   "metadata": {},
   "outputs": [],
   "source": [
    "#exploreme = dataset"
   ]
  },
  {
   "cell_type": "code",
   "execution_count": 127,
   "metadata": {},
   "outputs": [],
   "source": [
    "#modeltwo = dataset"
   ]
  },
  {
   "cell_type": "code",
   "execution_count": 128,
   "metadata": {},
   "outputs": [],
   "source": [
    "#modelmethree = dataset"
   ]
  },
  {
   "cell_type": "code",
   "execution_count": null,
   "metadata": {},
   "outputs": [],
   "source": []
  },
  {
   "cell_type": "code",
   "execution_count": 129,
   "metadata": {},
   "outputs": [],
   "source": [
    "#backupdata = dataset"
   ]
  },
  {
   "cell_type": "code",
   "execution_count": 130,
   "metadata": {},
   "outputs": [],
   "source": [
    "#backmeup = dataset"
   ]
  },
  {
   "cell_type": "code",
   "execution_count": 131,
   "metadata": {},
   "outputs": [],
   "source": [
    "#checkme = dataset "
   ]
  },
  {
   "cell_type": "code",
   "execution_count": 132,
   "metadata": {},
   "outputs": [],
   "source": [
    "#modeltwo = modeltwo.drop('REFID', axis=1)"
   ]
  },
  {
   "cell_type": "code",
   "execution_count": 133,
   "metadata": {},
   "outputs": [],
   "source": [
    "#modeltwo = modeltwo.drop('SALARY_BINS', axis=1)"
   ]
  },
  {
   "cell_type": "code",
   "execution_count": 134,
   "metadata": {},
   "outputs": [],
   "source": [
    "#modeltwo = modeltwo.drop('AGE_BINS', axis=1)"
   ]
  },
  {
   "cell_type": "code",
   "execution_count": 135,
   "metadata": {},
   "outputs": [],
   "source": [
    "#modeltwo = modeltwo.drop(' SALARY ', axis=1)"
   ]
  },
  {
   "cell_type": "code",
   "execution_count": 136,
   "metadata": {},
   "outputs": [],
   "source": [
    "#modeltwo = modeltwo.drop('AGE', axis=1)"
   ]
  },
  {
   "cell_type": "code",
   "execution_count": 137,
   "metadata": {},
   "outputs": [],
   "source": [
    "X1 = newdataset.drop('SATISFACTION_JOB', axis=1)"
   ]
  },
  {
   "cell_type": "code",
   "execution_count": 138,
   "metadata": {},
   "outputs": [],
   "source": [
    "ytwo = newdataset['SATISFACTION_JOB']"
   ]
  },
  {
   "cell_type": "code",
   "execution_count": 139,
   "metadata": {},
   "outputs": [],
   "source": [
    "X1 = X1.apply(LabelEncoder().fit_transform)"
   ]
  },
  {
   "cell_type": "code",
   "execution_count": 140,
   "metadata": {},
   "outputs": [],
   "source": [
    "ytwo = ytwo.astype(str).astype(int)"
   ]
  },
  {
   "cell_type": "code",
   "execution_count": 141,
   "metadata": {},
   "outputs": [],
   "source": [
    "y1 = ytwo"
   ]
  },
  {
   "cell_type": "code",
   "execution_count": 142,
   "metadata": {},
   "outputs": [
    {
     "data": {
      "text/plain": [
       "array([1, 1, 2, ..., 2, 1, 2])"
      ]
     },
     "execution_count": 142,
     "metadata": {},
     "output_type": "execute_result"
    }
   ],
   "source": [
    "y1.values"
   ]
  },
  {
   "cell_type": "code",
   "execution_count": 143,
   "metadata": {},
   "outputs": [
    {
     "data": {
      "text/plain": [
       "array([1, 1, 2, ..., 2, 1, 2])"
      ]
     },
     "execution_count": 143,
     "metadata": {},
     "output_type": "execute_result"
    }
   ],
   "source": [
    "y1.to_numpy()"
   ]
  },
  {
   "cell_type": "code",
   "execution_count": 144,
   "metadata": {},
   "outputs": [
    {
     "data": {
      "text/plain": [
       "(62373, 41)"
      ]
     },
     "execution_count": 144,
     "metadata": {},
     "output_type": "execute_result"
    }
   ],
   "source": [
    "X1.shape"
   ]
  },
  {
   "cell_type": "code",
   "execution_count": 145,
   "metadata": {},
   "outputs": [
    {
     "data": {
      "text/plain": [
       "(62373,)"
      ]
     },
     "execution_count": 145,
     "metadata": {},
     "output_type": "execute_result"
    }
   ],
   "source": [
    "y1.shape"
   ]
  },
  {
   "cell_type": "code",
   "execution_count": 146,
   "metadata": {},
   "outputs": [],
   "source": [
    "y_coltwoone = ytwo.replace(to_replace=1, value = \"Very satisfied\")"
   ]
  },
  {
   "cell_type": "code",
   "execution_count": 147,
   "metadata": {},
   "outputs": [],
   "source": [
    "y_coltwotwo = y_coltwoone.replace(to_replace=2, value = \"Somewhat satisfied\")"
   ]
  },
  {
   "cell_type": "code",
   "execution_count": 148,
   "metadata": {},
   "outputs": [],
   "source": [
    "y_coltwothree = y_coltwotwo.replace(to_replace=3, value = \"Somewhat dissatisfied\")"
   ]
  },
  {
   "cell_type": "code",
   "execution_count": 149,
   "metadata": {},
   "outputs": [],
   "source": [
    "y_coltwofour = y_coltwothree.replace(to_replace=4, value = \"Very dissatisfied\")"
   ]
  },
  {
   "cell_type": "code",
   "execution_count": 150,
   "metadata": {},
   "outputs": [],
   "source": [
    "#y_coltwofour"
   ]
  },
  {
   "cell_type": "code",
   "execution_count": 159,
   "metadata": {},
   "outputs": [],
   "source": [
    "y1_colnames = y_coltwofour"
   ]
  },
  {
   "cell_type": "code",
   "execution_count": 152,
   "metadata": {},
   "outputs": [],
   "source": [
    "X1_colnames = X1.columns"
   ]
  },
  {
   "cell_type": "code",
   "execution_count": 153,
   "metadata": {},
   "outputs": [
    {
     "data": {
      "text/plain": [
       "(62373, 41)"
      ]
     },
     "execution_count": 153,
     "metadata": {},
     "output_type": "execute_result"
    }
   ],
   "source": [
    "X1.shape"
   ]
  },
  {
   "cell_type": "code",
   "execution_count": 154,
   "metadata": {},
   "outputs": [
    {
     "data": {
      "text/plain": [
       "(62373,)"
      ]
     },
     "execution_count": 154,
     "metadata": {},
     "output_type": "execute_result"
    }
   ],
   "source": [
    "y1.shape"
   ]
  },
  {
   "cell_type": "code",
   "execution_count": 155,
   "metadata": {},
   "outputs": [],
   "source": [
    "X1_backup = X1"
   ]
  },
  {
   "cell_type": "code",
   "execution_count": 156,
   "metadata": {},
   "outputs": [],
   "source": [
    "y1_backup = y1"
   ]
  },
  {
   "cell_type": "code",
   "execution_count": 160,
   "metadata": {},
   "outputs": [],
   "source": [
    "#column names \n",
    "#X1_colnames\n",
    "#y1_colnames"
   ]
  },
  {
   "cell_type": "code",
   "execution_count": 173,
   "metadata": {},
   "outputs": [],
   "source": [
    "newdataset_columns = newdataset.columns"
   ]
  },
  {
   "cell_type": "code",
   "execution_count": 163,
   "metadata": {},
   "outputs": [],
   "source": [
    "X1_train, X1_test, y1_train, y1_test = train_test_split(X1, y1, test_size = 0.2)"
   ]
  },
  {
   "cell_type": "code",
   "execution_count": 162,
   "metadata": {},
   "outputs": [],
   "source": [
    "d2tree_score1 =[];d2tree_score2 =[];d2tree_score3 =[];d2tree_score4 =[]"
   ]
  },
  {
   "cell_type": "code",
   "execution_count": 166,
   "metadata": {},
   "outputs": [],
   "source": [
    "dtree = DecisionTreeClassifier(random_state = 1111, max_depth = 4);dtree.fit(X1_train, y1_train)\n",
    "d2tree_score1.append(dtree.score(X1_test, y1_test))"
   ]
  },
  {
   "cell_type": "code",
   "execution_count": 167,
   "metadata": {},
   "outputs": [],
   "source": [
    "dtree = DecisionTreeClassifier(random_state = 1111, max_depth = 4);dtree.fit(X1_train, y1_train)\n",
    "d2tree_score2.append(dtree.score(X1_test, y1_test))"
   ]
  },
  {
   "cell_type": "code",
   "execution_count": 168,
   "metadata": {},
   "outputs": [],
   "source": [
    "dtree = DecisionTreeClassifier(random_state = 1111, max_depth = 4);dtree.fit(X1_train, y1_train)\n",
    "d2tree_score3.append(dtree.score(X1_test, y1_test))"
   ]
  },
  {
   "cell_type": "code",
   "execution_count": 169,
   "metadata": {},
   "outputs": [],
   "source": [
    "dtree = DecisionTreeClassifier(random_state = 1111, max_depth = 4);dtree.fit(X1_train, y1_train)\n",
    "d2tree_score4.append(dtree.score(X1_test, y1_test))"
   ]
  },
  {
   "cell_type": "code",
   "execution_count": 170,
   "metadata": {},
   "outputs": [
    {
     "data": {
      "text/plain": [
       "Text(0, 0.5, 'Test Accuracy')"
      ]
     },
     "execution_count": 170,
     "metadata": {},
     "output_type": "execute_result"
    },
    {
     "data": {
      "image/png": "[encoded data removed]",
      "text/plain": [
       "<Figure size 432x288 with 1 Axes>"
      ]
     },
     "metadata": {
      "needs_background": "light"
     },
     "output_type": "display_data"
    }
   ],
   "source": [
    "sns.barplot(data=[d2tree_score1, d2tree_score2, d2tree_score3, d2tree_score4])\n",
    "plt.xticks([0,1,2,3], ['Very satisfied', 'Somewhat satisfied', 'Somewhat dissatisfied', 'Very dissatisfied'])\n",
    "plt.ylabel('Test Accuracy')"
   ]
  },
  {
   "cell_type": "code",
   "execution_count": 171,
   "metadata": {},
   "outputs": [
    {
     "data": {
      "text/plain": [
       "Text(0, 0.5, 'Test Accuracy')"
      ]
     },
     "execution_count": 171,
     "metadata": {},
     "output_type": "execute_result"
    },
    {
     "data": {
      "image/png": "[encoded data removed]",
      "text/plain": [
       "<Figure size 432x288 with 1 Axes>"
      ]
     },
     "metadata": {
      "needs_background": "light"
     },
     "output_type": "display_data"
    }
   ],
   "source": [
    "sns.boxplot(data=[d2tree_score1, d2tree_score2, d2tree_score3, d2tree_score4])\n",
    "plt.xticks([0,1,2,3], ['Very satisfied', 'Somewhat satisfied', 'Somewhat dissatisfied', 'Very dissatisfied'])\n",
    "plt.ylabel('Test Accuracy')"
   ]
  },
  {
   "cell_type": "code",
   "execution_count": 172,
   "metadata": {},
   "outputs": [
    {
     "data": {
      "text/plain": [
       "Text(0, 0.5, 'Test Accuracy')"
      ]
     },
     "execution_count": 172,
     "metadata": {},
     "output_type": "execute_result"
    },
    {
     "data": {
      "image/png": "[encoded data removed]",
      "text/plain": [
       "<Figure size 432x288 with 1 Axes>"
      ]
     },
     "metadata": {
      "needs_background": "light"
     },
     "output_type": "display_data"
    }
   ],
   "source": [
    "sns.stripplot(data=[d2tree_score1, d2tree_score2, d2tree_score3, d2tree_score4])\n",
    "plt.xticks([0,1,2,3], ['Very satisfied', 'Somewhat satisfied', 'Somewhat dissatisfied', 'Very dissatisfied'])\n",
    "plt.ylabel('Test Accuracy')"
   ]
  },
  {
   "cell_type": "code",
   "execution_count": 174,
   "metadata": {},
   "outputs": [
    {
     "name": "stdout",
     "output_type": "stream",
     "text": [
      "\n",
      "<class 'pandas.core.frame.DataFrame'>\n",
      "RangeIndex: 62373 entries, 0 to 62372\n",
      "Data columns (total 42 columns):\n",
      "HOURS_WORKED                        62373 non-null object\n",
      "HAVE_HEALTH_CARE                    62373 non-null object\n",
      "HAVE_PENSION                        62373 non-null object\n",
      "HAVE_PROFIT_SHARE                   62373 non-null object\n",
      "HAVE_VACATION                       62373 non-null object\n",
      "WORK_ACTIVITY                       62373 non-null object\n",
      "WORK_ACTIVITY_SUM                   62373 non-null object\n",
      "WORK_ACTIVITY_SECOND                62373 non-null object\n",
      "WORK_ACTIVITY_SCEOND_SUM            62373 non-null object\n",
      "COMPUTER                            62373 non-null object\n",
      "DEVELOPMENT_AND_DESIGN              62373 non-null object\n",
      "MANAGEMENT_SALES                    62373 non-null object\n",
      "RESEARCH_AND_DEVELOPMENT            62373 non-null object\n",
      "RESEARCH_DEVE_TEACHING              62373 non-null object\n",
      "ACTIVITY_RESEARCH                   62373 non-null object\n",
      "ACTIVITY_TEACHING                   62373 non-null object\n",
      "WORK_DEVELOPMENT                    62373 non-null object\n",
      "WORK_DESIGN                         62373 non-null object\n",
      "WORK_EMPLOYEE_RELATIONS             62373 non-null object\n",
      "WORK_MANAGEMENT_ADMIN               62373 non-null object\n",
      "WORK_OTHER                          62373 non-null object\n",
      "WORK_PRODUCTION                     62373 non-null object\n",
      "WORK_QUALITY_MANAGEMENT             62373 non-null object\n",
      "WORK_SALES_MARKETING                62373 non-null object\n",
      "WORK_PROFESSIONAL_SERVICES          62373 non-null object\n",
      "WORK_TEACHING                       62373 non-null object\n",
      "WORK_FINANCE                        62373 non-null object\n",
      "WORK_APPLIED_RESEARCH               62373 non-null object\n",
      "WORK_RESEARCH                       62373 non-null object\n",
      "WORK_COMPUTER_APPLICATIONS          62373 non-null object\n",
      "SUPERVISORY_WORK                    62373 non-null object\n",
      "SATISFACTION_JOB_ADVANCE            62373 non-null object\n",
      "SATISFACTION_JOB_BENEFITS           62373 non-null object\n",
      "SATISFACTION_JOB_CHALLENGE          62373 non-null object\n",
      "SATISFACTION_JOB_INDEP              62373 non-null object\n",
      "SATISFACTION_JOB_LOC                62373 non-null object\n",
      "SATISFACTION_JOB_RESP               62373 non-null object\n",
      "SATISFACTION_JOB_SALARY             62373 non-null object\n",
      "SATISFACTION_JOB_SECURITY           62373 non-null object\n",
      "SATISFACTION_JOB_CONTRIB_SOCIETY    62373 non-null object\n",
      "ATTEND_TRAINING_WORK_RELATE         62373 non-null object\n",
      "SATISFACTION_JOB                    62373 non-null object\n",
      "dtypes: object(42)\n",
      "memory usage: 20.0+ MB\n",
      "None\n"
     ]
    }
   ],
   "source": [
    "print(); print(newdataset[newdataset_columns].info())"
   ]
  },
  {
   "cell_type": "code",
   "execution_count": 175,
   "metadata": {},
   "outputs": [
    {
     "data": {
      "text/html": [
       "<div>\n",
       "<style scoped>\n",
       "    .dataframe tbody tr th:only-of-type {\n",
       "        vertical-align: middle;\n",
       "    }\n",
       "\n",
       "    .dataframe tbody tr th {\n",
       "        vertical-align: top;\n",
       "    }\n",
       "\n",
       "    .dataframe thead th {\n",
       "        text-align: right;\n",
       "    }\n",
       "</style>\n",
       "<table border=\"1\" class=\"dataframe\">\n",
       "  <thead>\n",
       "    <tr style=\"text-align: right;\">\n",
       "      <th></th>\n",
       "      <th>HOURS_WORKED</th>\n",
       "      <th>HAVE_HEALTH_CARE</th>\n",
       "      <th>HAVE_PENSION</th>\n",
       "      <th>HAVE_PROFIT_SHARE</th>\n",
       "      <th>HAVE_VACATION</th>\n",
       "      <th>WORK_ACTIVITY</th>\n",
       "      <th>WORK_ACTIVITY_SUM</th>\n",
       "      <th>WORK_ACTIVITY_SECOND</th>\n",
       "      <th>WORK_ACTIVITY_SCEOND_SUM</th>\n",
       "      <th>COMPUTER</th>\n",
       "      <th>DEVELOPMENT_AND_DESIGN</th>\n",
       "      <th>MANAGEMENT_SALES</th>\n",
       "      <th>RESEARCH_AND_DEVELOPMENT</th>\n",
       "      <th>RESEARCH_DEVE_TEACHING</th>\n",
       "      <th>ACTIVITY_RESEARCH</th>\n",
       "      <th>ACTIVITY_TEACHING</th>\n",
       "      <th>WORK_DEVELOPMENT</th>\n",
       "      <th>WORK_DESIGN</th>\n",
       "      <th>WORK_EMPLOYEE_RELATIONS</th>\n",
       "      <th>WORK_MANAGEMENT_ADMIN</th>\n",
       "      <th>WORK_OTHER</th>\n",
       "      <th>WORK_PRODUCTION</th>\n",
       "      <th>WORK_QUALITY_MANAGEMENT</th>\n",
       "      <th>WORK_SALES_MARKETING</th>\n",
       "      <th>WORK_PROFESSIONAL_SERVICES</th>\n",
       "      <th>WORK_TEACHING</th>\n",
       "      <th>WORK_FINANCE</th>\n",
       "      <th>WORK_APPLIED_RESEARCH</th>\n",
       "      <th>WORK_RESEARCH</th>\n",
       "      <th>WORK_COMPUTER_APPLICATIONS</th>\n",
       "      <th>SUPERVISORY_WORK</th>\n",
       "      <th>SATISFACTION_JOB_ADVANCE</th>\n",
       "      <th>SATISFACTION_JOB_BENEFITS</th>\n",
       "      <th>SATISFACTION_JOB_CHALLENGE</th>\n",
       "      <th>SATISFACTION_JOB_INDEP</th>\n",
       "      <th>SATISFACTION_JOB_LOC</th>\n",
       "      <th>SATISFACTION_JOB_RESP</th>\n",
       "      <th>SATISFACTION_JOB_SALARY</th>\n",
       "      <th>SATISFACTION_JOB_SECURITY</th>\n",
       "      <th>SATISFACTION_JOB_CONTRIB_SOCIETY</th>\n",
       "      <th>ATTEND_TRAINING_WORK_RELATE</th>\n",
       "      <th>SATISFACTION_JOB</th>\n",
       "    </tr>\n",
       "  </thead>\n",
       "  <tbody>\n",
       "    <tr>\n",
       "      <th>count</th>\n",
       "      <td>62373</td>\n",
       "      <td>62373</td>\n",
       "      <td>62373</td>\n",
       "      <td>62373</td>\n",
       "      <td>62373</td>\n",
       "      <td>62373</td>\n",
       "      <td>62373</td>\n",
       "      <td>62373</td>\n",
       "      <td>62373</td>\n",
       "      <td>62373</td>\n",
       "      <td>62373</td>\n",
       "      <td>62373</td>\n",
       "      <td>62373</td>\n",
       "      <td>62373</td>\n",
       "      <td>62373</td>\n",
       "      <td>62373</td>\n",
       "      <td>62373</td>\n",
       "      <td>62373</td>\n",
       "      <td>62373</td>\n",
       "      <td>62373</td>\n",
       "      <td>62373</td>\n",
       "      <td>62373</td>\n",
       "      <td>62373</td>\n",
       "      <td>62373</td>\n",
       "      <td>62373</td>\n",
       "      <td>62373</td>\n",
       "      <td>62373</td>\n",
       "      <td>62373</td>\n",
       "      <td>62373</td>\n",
       "      <td>62373</td>\n",
       "      <td>62373</td>\n",
       "      <td>62373</td>\n",
       "      <td>62373</td>\n",
       "      <td>62373</td>\n",
       "      <td>62373</td>\n",
       "      <td>62373</td>\n",
       "      <td>62373</td>\n",
       "      <td>62373</td>\n",
       "      <td>62373</td>\n",
       "      <td>62373</td>\n",
       "      <td>62373</td>\n",
       "      <td>62373</td>\n",
       "    </tr>\n",
       "    <tr>\n",
       "      <th>unique</th>\n",
       "      <td>4</td>\n",
       "      <td>2</td>\n",
       "      <td>2</td>\n",
       "      <td>2</td>\n",
       "      <td>2</td>\n",
       "      <td>14</td>\n",
       "      <td>5</td>\n",
       "      <td>15</td>\n",
       "      <td>6</td>\n",
       "      <td>2</td>\n",
       "      <td>2</td>\n",
       "      <td>2</td>\n",
       "      <td>2</td>\n",
       "      <td>2</td>\n",
       "      <td>2</td>\n",
       "      <td>2</td>\n",
       "      <td>2</td>\n",
       "      <td>2</td>\n",
       "      <td>2</td>\n",
       "      <td>2</td>\n",
       "      <td>2</td>\n",
       "      <td>2</td>\n",
       "      <td>2</td>\n",
       "      <td>2</td>\n",
       "      <td>2</td>\n",
       "      <td>2</td>\n",
       "      <td>2</td>\n",
       "      <td>2</td>\n",
       "      <td>2</td>\n",
       "      <td>2</td>\n",
       "      <td>2</td>\n",
       "      <td>4</td>\n",
       "      <td>4</td>\n",
       "      <td>4</td>\n",
       "      <td>4</td>\n",
       "      <td>4</td>\n",
       "      <td>4</td>\n",
       "      <td>4</td>\n",
       "      <td>4</td>\n",
       "      <td>4</td>\n",
       "      <td>2</td>\n",
       "      <td>4</td>\n",
       "    </tr>\n",
       "    <tr>\n",
       "      <th>top</th>\n",
       "      <td>Greater than 40 hours</td>\n",
       "      <td>Yes</td>\n",
       "      <td>Yes</td>\n",
       "      <td>No</td>\n",
       "      <td>Yes</td>\n",
       "      <td>Professional services</td>\n",
       "      <td>Management and Administration</td>\n",
       "      <td>No Secondary Activity</td>\n",
       "      <td>Management and Administration</td>\n",
       "      <td>No</td>\n",
       "      <td>No</td>\n",
       "      <td>Yes</td>\n",
       "      <td>No</td>\n",
       "      <td>Yes</td>\n",
       "      <td>No</td>\n",
       "      <td>No</td>\n",
       "      <td>No</td>\n",
       "      <td>No</td>\n",
       "      <td>No</td>\n",
       "      <td>Yes</td>\n",
       "      <td>No</td>\n",
       "      <td>No</td>\n",
       "      <td>No</td>\n",
       "      <td>No</td>\n",
       "      <td>No</td>\n",
       "      <td>No</td>\n",
       "      <td>No</td>\n",
       "      <td>No</td>\n",
       "      <td>No</td>\n",
       "      <td>No</td>\n",
       "      <td>No</td>\n",
       "      <td>Somewhat satisfied</td>\n",
       "      <td>Somewhat satisfied</td>\n",
       "      <td>Very satisfied</td>\n",
       "      <td>Very satisfied</td>\n",
       "      <td>Very satisfied</td>\n",
       "      <td>Very satisfied</td>\n",
       "      <td>Somewhat satisfied</td>\n",
       "      <td>Very satisfied</td>\n",
       "      <td>Very satisfied</td>\n",
       "      <td>Yes</td>\n",
       "      <td>2</td>\n",
       "    </tr>\n",
       "    <tr>\n",
       "      <th>freq</th>\n",
       "      <td>26154</td>\n",
       "      <td>52134</td>\n",
       "      <td>44592</td>\n",
       "      <td>46023</td>\n",
       "      <td>51518</td>\n",
       "      <td>10563</td>\n",
       "      <td>19565</td>\n",
       "      <td>11159</td>\n",
       "      <td>22111</td>\n",
       "      <td>54600</td>\n",
       "      <td>48679</td>\n",
       "      <td>32817</td>\n",
       "      <td>37733</td>\n",
       "      <td>32707</td>\n",
       "      <td>48707</td>\n",
       "      <td>51813</td>\n",
       "      <td>41149</td>\n",
       "      <td>43231</td>\n",
       "      <td>48097</td>\n",
       "      <td>34614</td>\n",
       "      <td>54612</td>\n",
       "      <td>51003</td>\n",
       "      <td>45057</td>\n",
       "      <td>45208</td>\n",
       "      <td>43017</td>\n",
       "      <td>42703</td>\n",
       "      <td>46275</td>\n",
       "      <td>38551</td>\n",
       "      <td>44412</td>\n",
       "      <td>47181</td>\n",
       "      <td>39934</td>\n",
       "      <td>27013</td>\n",
       "      <td>26071</td>\n",
       "      <td>27433</td>\n",
       "      <td>36197</td>\n",
       "      <td>34729</td>\n",
       "      <td>29078</td>\n",
       "      <td>30824</td>\n",
       "      <td>27467</td>\n",
       "      <td>30314</td>\n",
       "      <td>38629</td>\n",
       "      <td>28714</td>\n",
       "    </tr>\n",
       "  </tbody>\n",
       "</table>\n",
       "</div>"
      ],
      "text/plain": [
       "                 HOURS_WORKED HAVE_HEALTH_CARE HAVE_PENSION HAVE_PROFIT_SHARE HAVE_VACATION          WORK_ACTIVITY              WORK_ACTIVITY_SUM   WORK_ACTIVITY_SECOND       WORK_ACTIVITY_SCEOND_SUM COMPUTER DEVELOPMENT_AND_DESIGN MANAGEMENT_SALES RESEARCH_AND_DEVELOPMENT RESEARCH_DEVE_TEACHING ACTIVITY_RESEARCH ACTIVITY_TEACHING WORK_DEVELOPMENT WORK_DESIGN WORK_EMPLOYEE_RELATIONS WORK_MANAGEMENT_ADMIN WORK_OTHER WORK_PRODUCTION WORK_QUALITY_MANAGEMENT WORK_SALES_MARKETING WORK_PROFESSIONAL_SERVICES WORK_TEACHING WORK_FINANCE WORK_APPLIED_RESEARCH WORK_RESEARCH WORK_COMPUTER_APPLICATIONS SUPERVISORY_WORK SATISFACTION_JOB_ADVANCE SATISFACTION_JOB_BENEFITS SATISFACTION_JOB_CHALLENGE SATISFACTION_JOB_INDEP SATISFACTION_JOB_LOC SATISFACTION_JOB_RESP SATISFACTION_JOB_SALARY SATISFACTION_JOB_SECURITY SATISFACTION_JOB_CONTRIB_SOCIETY ATTEND_TRAINING_WORK_RELATE SATISFACTION_JOB\n",
       "count                   62373            62373        62373             62373         62373                  62373                          62373                  62373                          62373    62373                  62373            62373                    62373                  62373             62373             62373            62373       62373                   62373                 62373      62373           62373                   62373                62373                      62373         62373        62373                 62373         62373                      62373            62373                    62373                     62373                      62373                  62373                62373                 62373                   62373                     62373                            62373                       62373            62373\n",
       "unique                      4                2            2                 2             2                     14                              5                     15                              6        2                      2                2                        2                      2                 2                 2                2           2                       2                     2          2               2                       2                    2                          2             2            2                     2             2                          2                2                        4                         4                          4                      4                    4                     4                       4                         4                                4                           2                4\n",
       "top     Greater than 40 hours              Yes          Yes                No           Yes  Professional services  Management and Administration  No Secondary Activity  Management and Administration       No                     No              Yes                       No                    Yes                No                No               No          No                      No                   Yes         No              No                      No                   No                         No            No           No                    No            No                         No               No       Somewhat satisfied        Somewhat satisfied             Very satisfied         Very satisfied       Very satisfied        Very satisfied      Somewhat satisfied            Very satisfied                   Very satisfied                         Yes                2\n",
       "freq                    26154            52134        44592             46023         51518                  10563                          19565                  11159                          22111    54600                  48679            32817                    37733                  32707             48707             51813            41149       43231                   48097                 34614      54612           51003                   45057                45208                      43017         42703        46275                 38551         44412                      47181            39934                    27013                     26071                      27433                  36197                34729                 29078                   30824                     27467                            30314                       38629            28714"
      ]
     },
     "execution_count": 175,
     "metadata": {},
     "output_type": "execute_result"
    }
   ],
   "source": [
    "newdataset[newdataset_columns].describe()"
   ]
  },
  {
   "cell_type": "code",
   "execution_count": 177,
   "metadata": {},
   "outputs": [
    {
     "name": "stdout",
     "output_type": "stream",
     "text": [
      "F-score: 112.31\t for feature HOURS_WORKED \n",
      "F-score: 150.93\t for feature HAVE_HEALTH_CARE \n",
      "F-score: 339.16\t for feature HAVE_PENSION \n",
      "F-score: 336.00\t for feature HAVE_PROFIT_SHARE \n",
      "F-score: 99.11\t for feature HAVE_VACATION \n",
      "F-score: 46.33\t for feature WORK_ACTIVITY \n",
      "F-score: 61.30\t for feature WORK_ACTIVITY_SUM \n",
      "F-score: 22.10\t for feature WORK_ACTIVITY_SECOND \n",
      "F-score: 23.34\t for feature WORK_ACTIVITY_SCEOND_SUM \n",
      "F-score: 14.90\t for feature COMPUTER \n",
      "F-score: 27.80\t for feature DEVELOPMENT_AND_DESIGN \n",
      "F-score: 19.63\t for feature MANAGEMENT_SALES \n",
      "F-score: 101.25\t for feature RESEARCH_AND_DEVELOPMENT \n",
      "F-score: 177.71\t for feature RESEARCH_DEVE_TEACHING \n",
      "F-score: 61.35\t for feature ACTIVITY_RESEARCH \n",
      "F-score: 47.48\t for feature ACTIVITY_TEACHING \n",
      "F-score: 49.25\t for feature WORK_DEVELOPMENT \n",
      "F-score: 83.61\t for feature WORK_DESIGN \n",
      "F-score: 110.65\t for feature WORK_EMPLOYEE_RELATIONS \n",
      "F-score: 215.29\t for feature WORK_MANAGEMENT_ADMIN \n",
      "F-score: 80.08\t for feature WORK_OTHER \n",
      "F-score: 36.46\t for feature WORK_PRODUCTION \n",
      "F-score: 1.45\t for feature WORK_QUALITY_MANAGEMENT \n",
      "F-score: 51.40\t for feature WORK_SALES_MARKETING \n",
      "F-score: 173.71\t for feature WORK_PROFESSIONAL_SERVICES \n",
      "F-score: 169.10\t for feature WORK_TEACHING \n",
      "F-score: 29.98\t for feature WORK_FINANCE \n",
      "F-score: 200.63\t for feature WORK_APPLIED_RESEARCH \n",
      "F-score: 79.14\t for feature WORK_RESEARCH \n",
      "F-score: 27.39\t for feature WORK_COMPUTER_APPLICATIONS \n",
      "F-score: 349.02\t for feature SUPERVISORY_WORK \n",
      "F-score: 5266.17\t for feature SATISFACTION_JOB_ADVANCE \n",
      "F-score: 4564.87\t for feature SATISFACTION_JOB_BENEFITS \n",
      "F-score: 13098.47\t for feature SATISFACTION_JOB_CHALLENGE \n",
      "F-score: 13108.33\t for feature SATISFACTION_JOB_INDEP \n",
      "F-score: 4367.07\t for feature SATISFACTION_JOB_LOC \n",
      "F-score: 18129.35\t for feature SATISFACTION_JOB_RESP \n",
      "F-score: 6045.12\t for feature SATISFACTION_JOB_SALARY \n",
      "F-score: 6575.28\t for feature SATISFACTION_JOB_SECURITY \n",
      "F-score: 9443.84\t for feature SATISFACTION_JOB_CONTRIB_SOCIETY \n",
      "F-score: 739.77\t for feature ATTEND_TRAINING_WORK_RELATE \n"
     ]
    }
   ],
   "source": [
    "from sklearn.feature_selection import SelectPercentile\n",
    "from sklearn.feature_selection import f_regression\n",
    "Selector_f = SelectPercentile(f_regression, percentile=25)\n",
    "Selector_f.fit(X1,y1)\n",
    "for n, s in zip(newdataset, Selector_f.scores_):\n",
    "    print('F-score: %3.2f\\t for feature %s ' % (s,n))"
   ]
  },
  {
   "cell_type": "markdown",
   "metadata": {},
   "source": [
    "# MODEL TWO"
   ]
  },
  {
   "cell_type": "code",
   "execution_count": 178,
   "metadata": {},
   "outputs": [],
   "source": [
    "from sklearn.model_selection import cross_val_score\n",
    "from sklearn.model_selection import KFold \n",
    "crossvalidation = KFold(n_splits=6,\n",
    "                       shuffle=True,\n",
    "                       random_state=1111)"
   ]
  },
  {
   "cell_type": "code",
   "execution_count": 179,
   "metadata": {},
   "outputs": [
    {
     "name": "stdout",
     "output_type": "stream",
     "text": [
      "Depth: 1 Accuracy: 0.658\n",
      "Depth: 2 Accuracy: 0.659\n",
      "Depth: 3 Accuracy: 0.660\n",
      "Depth: 4 Accuracy: 0.693\n",
      "Depth: 5 Accuracy: 0.701\n",
      "Depth: 6 Accuracy: 0.709\n",
      "Depth: 7 Accuracy: 0.715\n",
      "Depth: 8 Accuracy: 0.719\n",
      "Depth: 9 Accuracy: 0.718\n",
      "Depth: 10 Accuracy: 0.716\n",
      "Depth: 11 Accuracy: 0.712\n",
      "Depth: 12 Accuracy: 0.707\n",
      "Depth: 13 Accuracy: 0.699\n",
      "Depth: 14 Accuracy: 0.691\n",
      "Depth: 15 Accuracy: 0.680\n",
      "Depth: 16 Accuracy: 0.674\n",
      "Depth: 17 Accuracy: 0.665\n",
      "Depth: 18 Accuracy: 0.658\n",
      "Depth: 19 Accuracy: 0.651\n"
     ]
    }
   ],
   "source": [
    "import numpy as np \n",
    "from sklearn import tree\n",
    "for depth in range(1,20):\n",
    "    tree_classifier = tree.DecisionTreeClassifier(\n",
    "    max_depth=depth, random_state=1111)\n",
    "    if tree_classifier.fit(X1,y1).tree_.max_depth < depth:\n",
    "        break\n",
    "    score = np.mean(cross_val_score(tree_classifier, \n",
    "                                   X1,y1,\n",
    "                                   scoring = 'accuracy',\n",
    "                                   cv=crossvalidation))\n",
    "    print('Depth: %i Accuracy: %.3f' % (depth,score))"
   ]
  },
  {
   "cell_type": "markdown",
   "metadata": {},
   "source": [
    "Depth: 8 Accuracy: 0.719"
   ]
  },
  {
   "cell_type": "code",
   "execution_count": 180,
   "metadata": {},
   "outputs": [
    {
     "name": "stdout",
     "output_type": "stream",
     "text": [
      "Accuracy: 0.734\n"
     ]
    }
   ],
   "source": [
    "from sklearn.ensemble import BaggingClassifier\n",
    "from sklearn.tree import DecisionTreeClassifier\n",
    "from sklearn.model_selection import cross_val_score\n",
    "from sklearn.model_selection import KFold\n",
    "tree_classifier = DecisionTreeClassifier(random_state=1111)\n",
    "crossvalidation = KFold(n_splits=6, shuffle=True, random_state=1111)\n",
    "bagging = BaggingClassifier(tree_classifier, \n",
    "                           max_samples=0.8, \n",
    "                           max_features=0.8,\n",
    "                           n_estimators=500)\n",
    "scores = np.mean(cross_val_score(bagging, X1, y1,\n",
    "                                scoring='accuracy',\n",
    "                                cv=crossvalidation))\n",
    "print('Accuracy: %.3f' % scores)"
   ]
  },
  {
   "cell_type": "code",
   "execution_count": null,
   "metadata": {},
   "outputs": [],
   "source": []
  }
 ],
 "metadata": {
  "kernelspec": {
   "display_name": "Python 3",
   "language": "python",
   "name": "python3"
  },
  "language_info": {
   "codemirror_mode": {
    "name": "ipython",
    "version": 3
   },
   "file_extension": ".py",
   "mimetype": "text/x-python",
   "name": "python",
   "nbconvert_exporter": "python",
   "pygments_lexer": "ipython3",
   "version": "3.7.3"
  }
 },
 "nbformat": 4,
 "nbformat_minor": 2
}
