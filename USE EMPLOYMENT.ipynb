{
 "cells": [
  {
   "cell_type": "markdown",
   "metadata": {},
   "source": [
    "# EMPLOYMENT IN THE US -- TEXT"
   ]
  },
  {
   "cell_type": "markdown",
   "metadata": {},
   "source": [
    "Data from: US jobs on Dice.com - https://data.world/promptcloud/us-jobs-on-dice-com\n",
    "\n",
    "About this Dataset: This is a pre-crawled dataset, taken as subset of a bigger dataset (more than 4.6 million job listings) that was created by extracting data from Dice, a prominent US-based technology job board.\n",
    "\n",
    "Objectives: Analyses of the job description with respect to the job title and skills can be performed.\n",
    "\n",
    "Background: This dataset was created by PromptCloud's in-house web-crawling service."
   ]
  },
  {
   "cell_type": "code",
   "execution_count": 1,
   "metadata": {},
   "outputs": [
    {
     "name": "stdout",
     "output_type": "stream",
     "text": [
      "Wall time: 0 ns\n",
      " [nltk_data] Downloading package stopwords to\n",
      "[nltk_data]     C:\\Users\\Naeemah\\AppData\\Roaming\\nltk_data...\n",
      "[nltk_data]   Package stopwords is already up-to-date!\n",
      "[nltk_data] Downloading package punkt to\n",
      "[nltk_data]     C:\\Users\\Naeemah\\AppData\\Roaming\\nltk_data...\n",
      "[nltk_data]   Package punkt is already up-to-date!\n",
      "[nltk_data] Downloading package wordnet to\n",
      "[nltk_data]     C:\\Users\\Naeemah\\AppData\\Roaming\\nltk_data...\n",
      "[nltk_data]   Package wordnet is already up-to-date!\n",
      "[nltk_data] Downloading package words to\n",
      "[nltk_data]     C:\\Users\\Naeemah\\AppData\\Roaming\\nltk_data...\n",
      "[nltk_data]   Package words is already up-to-date!\n"
     ]
    },
    {
     "data": {
      "application/vnd.jupyter.widget-view+json": {
       "model_id": "b8fe126609bc4de29ac265d217a2caa1",
       "version_major": 2,
       "version_minor": 0
      },
      "text/plain": [
       "HBox(children=(IntProgress(value=0, max=50), HTML(value='')))"
      ]
     },
     "metadata": {},
     "output_type": "display_data"
    },
    {
     "name": "stdout",
     "output_type": "stream",
     "text": [
      "\n"
     ]
    }
   ],
   "source": [
    "%matplotlib inline\n",
    "%pastebin 'Employment.py'\n",
    "\n",
    "import pandas as pd\n",
    "from textblob import TextBlob\n",
    "import numpy as np\n",
    "import csv\n",
    "import re\n",
    "import os\n",
    "import nltk\n",
    "import pickle\n",
    "from spellchecker import SpellChecker\n",
    "from wordcloud import WordCloud\n",
    "import PIL\n",
    "import itertools\n",
    "from nltk.corpus import words\n",
    "from PyDictionary import PyDictionary\n",
    "dictionary=PyDictionary()\n",
    "from nltk.tokenize import word_tokenize\n",
    "from nltk.stem.porter import PorterStemmer\n",
    "from nltk.stem.lancaster import LancasterStemmer\n",
    "import spacy\n",
    "nlp = spacy.load(\"en_core_web_sm\")\n",
    "nlp.entity\n",
    "import gensim\n",
    "from nltk.corpus import stopwords\n",
    "stopword = stopwords.words('english')\n",
    "from textblob import TextBlob\n",
    "pd.set_option('display.width', 1000)\n",
    "pd.set_option('display.max_columns', 500)\n",
    "pd.set_option('display.max_rows', 500)\n",
    "from tqdm import tqdm_notebook as tqdm\n",
    "import warnings \n",
    "warnings.filterwarnings(\"ignore\")\n",
    "import matplotlib.pyplot as plt\n",
    "import seaborn as sns\n",
    "import nltk\n",
    "from nltk.corpus import stopwords\n",
    "#stop = stopwords.words('english')\n",
    "from sklearn.feature_extraction import text\n",
    "stop = text.ENGLISH_STOP_WORDS\n",
    "nltk.download('stopwords')\n",
    "nltk.download('punkt')\n",
    "nltk.download('wordnet')\n",
    "from nltk import sent_tokenize, word_tokenize\n",
    "from nltk.stem.snowball import SnowballStemmer\n",
    "from nltk.stem.wordnet import WordNetLemmatizer\n",
    "from nltk.corpus import stopwords\n",
    "from nltk.tokenize import sent_tokenize\n",
    "from nltk.tokenize import regexp_tokenize\n",
    "from nltk.tokenize import TweetTokenizer\n",
    "from matplotlib import pyplot as plt\n",
    "from nltk.tokenize import word_tokenize\n",
    "from collections import Counter\n",
    "from collections import Counter\n",
    "from nltk.corpus import stopwords\n",
    "from nltk.stem import WordNetLemmatizer\n",
    "import gensim\n",
    "import requests\n",
    "from nltk.stem import LancasterStemmer, WordNetLemmatizer\n",
    "import string\n",
    "import re, string, unicodedata\n",
    "import nltk\n",
    "#import contractions\n",
    "import inflect\n",
    "#from contractions import contractions_dict\n",
    "from bs4 import BeautifulSoup\n",
    "from nltk import word_tokenize, sent_tokenize\n",
    "from nltk.corpus import stopwords\n",
    "from nltk.stem import LancasterStemmer, WordNetLemmatizer\n",
    "import re, string, unicodedata\n",
    "from bs4 import BeautifulSoup\n",
    "from nltk.stem.snowball import SnowballStemmer\n",
    "from nltk.stem.wordnet import WordNetLemmatizer\n",
    "from nltk.corpus import stopwords\n",
    "from gensim import corpora\n",
    "from pprint import pprint\n",
    "from gensim.corpora.dictionary import Dictionary\n",
    "from sklearn.feature_extraction.text import CountVectorizer\n",
    "from sklearn.feature_extraction.text import TfidfTransformer\n",
    "from gensim.models.tfidfmodel import TfidfModel\n",
    "from sklearn.model_selection import train_test_split\n",
    "from sklearn.feature_extraction.text import CountVectorizer\n",
    "from string import punctuation\n",
    "import random  \n",
    "import string\n",
    "import bs4 as bs  \n",
    "import urllib.request \n",
    "#nltk.download()\n",
    "from nltk.corpus import stopwords\n",
    "from nltk.stem import WordNetLemmatizer\n",
    "from sklearn.naive_bayes import MultinomialNB\n",
    "from sklearn import metrics\n",
    "from english_words import english_words_set\n",
    "import wordsegment\n",
    "from nltk.corpus import words\n",
    "nltk.download('words')\n",
    "words = set(nltk.corpus.words.words())\n",
    "import time \n",
    "#l=[' '.join([t for t in x if t in y]) for x, y in zip(workdata.jobdescription.str.split(' '),dictionword.dwords.str.split(' '))]\n",
    "#pd.DataFrame({'Col3':l})\n",
    "for i in tqdm(range(50)):\n",
    "    time.sleep(0.1)"
   ]
  },
  {
   "cell_type": "markdown",
   "metadata": {},
   "source": [
    "# INSTALL DATASETS"
   ]
  },
  {
   "cell_type": "code",
   "execution_count": 2,
   "metadata": {},
   "outputs": [
    {
     "data": {
      "application/vnd.jupyter.widget-view+json": {
       "model_id": "278aeb76f3a34bcdbcb98f85d8456b84",
       "version_major": 2,
       "version_minor": 0
      },
      "text/plain": [
       "HBox(children=(IntProgress(value=0, max=50), HTML(value='')))"
      ]
     },
     "metadata": {},
     "output_type": "display_data"
    },
    {
     "name": "stdout",
     "output_type": "stream",
     "text": [
      "\n"
     ]
    }
   ],
   "source": [
    "jobdata = pd.read_csv('dice_com-job_us_sample.csv')\n",
    "for i in tqdm(range(50)):\n",
    "    time.sleep(0.1)"
   ]
  },
  {
   "cell_type": "code",
   "execution_count": 3,
   "metadata": {},
   "outputs": [
    {
     "data": {
      "application/vnd.jupyter.widget-view+json": {
       "model_id": "b50bd85d9f424a6ebdd0657150eff2df",
       "version_major": 2,
       "version_minor": 0
      },
      "text/plain": [
       "HBox(children=(IntProgress(value=0, max=50), HTML(value='')))"
      ]
     },
     "metadata": {},
     "output_type": "display_data"
    },
    {
     "name": "stdout",
     "output_type": "stream",
     "text": [
      "\n"
     ]
    }
   ],
   "source": [
    "with open('words.txt', 'r') as FILE:\n",
    "    dicwords= [ word.rstrip() for word in FILE ]\n",
    "    \n",
    "for i in tqdm(range(50)):\n",
    "    time.sleep(0.1)    "
   ]
  },
  {
   "cell_type": "code",
   "execution_count": 4,
   "metadata": {},
   "outputs": [
    {
     "data": {
      "application/vnd.jupyter.widget-view+json": {
       "model_id": "fda890388d0e48abaad393c0bb0d050f",
       "version_major": 2,
       "version_minor": 0
      },
      "text/plain": [
       "HBox(children=(IntProgress(value=0, max=50), HTML(value='')))"
      ]
     },
     "metadata": {},
     "output_type": "display_data"
    },
    {
     "name": "stdout",
     "output_type": "stream",
     "text": [
      "\n"
     ]
    }
   ],
   "source": [
    "work = jobdata[['jobid','company','employmenttype_jobstatus','jobtitle','jobdescription','joblocation_address','shift']]\n",
    "\n",
    "for i in tqdm(range(50)):\n",
    "    time.sleep(0.1)"
   ]
  },
  {
   "cell_type": "code",
   "execution_count": 5,
   "metadata": {},
   "outputs": [
    {
     "data": {
      "application/vnd.jupyter.widget-view+json": {
       "model_id": "3f0d37edba2940f5946ade67646602b1",
       "version_major": 2,
       "version_minor": 0
      },
      "text/plain": [
       "HBox(children=(IntProgress(value=0, max=50), HTML(value='')))"
      ]
     },
     "metadata": {},
     "output_type": "display_data"
    },
    {
     "name": "stdout",
     "output_type": "stream",
     "text": [
      "\n"
     ]
    }
   ],
   "source": [
    "companywork = [['jobid', 'company', 'employmenttype_jobstatus','joblocation_address','shift']]\n",
    "for i in tqdm(range(50)):\n",
    "    time.sleep(0.1)"
   ]
  },
  {
   "cell_type": "code",
   "execution_count": 6,
   "metadata": {},
   "outputs": [
    {
     "data": {
      "application/vnd.jupyter.widget-view+json": {
       "model_id": "e5735a6555b1422685e0468b48ddacb1",
       "version_major": 2,
       "version_minor": 0
      },
      "text/plain": [
       "HBox(children=(IntProgress(value=0, max=50), HTML(value='')))"
      ]
     },
     "metadata": {},
     "output_type": "display_data"
    },
    {
     "name": "stdout",
     "output_type": "stream",
     "text": [
      "\n"
     ]
    }
   ],
   "source": [
    "workdata = work[['jobid','jobtitle','jobdescription']]\n",
    "for i in tqdm(range(50)):\n",
    "    time.sleep(0.1)"
   ]
  },
  {
   "cell_type": "code",
   "execution_count": 7,
   "metadata": {},
   "outputs": [
    {
     "data": {
      "application/vnd.jupyter.widget-view+json": {
       "model_id": "87bac8c28d2a43aa9df6f58dd7841877",
       "version_major": 2,
       "version_minor": 0
      },
      "text/plain": [
       "HBox(children=(IntProgress(value=0, max=50), HTML(value='')))"
      ]
     },
     "metadata": {},
     "output_type": "display_data"
    },
    {
     "name": "stdout",
     "output_type": "stream",
     "text": [
      "\n"
     ]
    }
   ],
   "source": [
    "dictionword = pd.DataFrame(dicwords, columns=['dwords'], dtype = str)\n",
    "for i in tqdm(range(50)):\n",
    "    time.sleep(0.1)"
   ]
  },
  {
   "cell_type": "code",
   "execution_count": 8,
   "metadata": {},
   "outputs": [
    {
     "data": {
      "application/vnd.jupyter.widget-view+json": {
       "model_id": "c991dcb81f1948d98b0ae8f5d34c4d3c",
       "version_major": 2,
       "version_minor": 0
      },
      "text/plain": [
       "HBox(children=(IntProgress(value=0, max=50), HTML(value='')))"
      ]
     },
     "metadata": {},
     "output_type": "display_data"
    },
    {
     "name": "stdout",
     "output_type": "stream",
     "text": [
      "\n"
     ]
    }
   ],
   "source": [
    "workdata_new = workdata[workdata['jobtitle'].notnull()]\n",
    "for i in tqdm(range(50)):\n",
    "    time.sleep(0.1)"
   ]
  },
  {
   "cell_type": "code",
   "execution_count": 9,
   "metadata": {},
   "outputs": [
    {
     "data": {
      "application/vnd.jupyter.widget-view+json": {
       "model_id": "ad92a8e6a37a4b1681727d6d0f37e1ff",
       "version_major": 2,
       "version_minor": 0
      },
      "text/plain": [
       "HBox(children=(IntProgress(value=0, max=50), HTML(value='')))"
      ]
     },
     "metadata": {},
     "output_type": "display_data"
    },
    {
     "name": "stdout",
     "output_type": "stream",
     "text": [
      "\n"
     ]
    }
   ],
   "source": [
    "workme = workdata_new[workdata_new['jobdescription'].notnull()]\n",
    "for i in tqdm(range(50)):\n",
    "    time.sleep(0.1)"
   ]
  },
  {
   "cell_type": "code",
   "execution_count": 10,
   "metadata": {},
   "outputs": [
    {
     "data": {
      "application/vnd.jupyter.widget-view+json": {
       "model_id": "dd3e3952c10c4250a003350e8d995d87",
       "version_major": 2,
       "version_minor": 0
      },
      "text/plain": [
       "HBox(children=(IntProgress(value=0, max=50), HTML(value='')))"
      ]
     },
     "metadata": {},
     "output_type": "display_data"
    },
    {
     "name": "stdout",
     "output_type": "stream",
     "text": [
      "\n"
     ]
    }
   ],
   "source": [
    "workuse = workme[workme['jobid'].notnull()]\n",
    "for i in tqdm(range(50)):\n",
    "    time.sleep(0.1)"
   ]
  },
  {
   "cell_type": "code",
   "execution_count": 11,
   "metadata": {},
   "outputs": [
    {
     "name": "stdout",
     "output_type": "stream",
     "text": [
      "<class 'pandas.core.frame.DataFrame'>\n",
      "Int64Index: 22000 entries, 0 to 21999\n",
      "Data columns (total 3 columns):\n",
      "jobid             22000 non-null object\n",
      "jobtitle          22000 non-null object\n",
      "jobdescription    22000 non-null object\n",
      "dtypes: object(3)\n",
      "memory usage: 687.5+ KB\n"
     ]
    }
   ],
   "source": [
    "workuse.info()"
   ]
  },
  {
   "cell_type": "markdown",
   "metadata": {},
   "source": [
    "# TEXT  STATS"
   ]
  },
  {
   "cell_type": "code",
   "execution_count": 12,
   "metadata": {},
   "outputs": [
    {
     "data": {
      "application/vnd.jupyter.widget-view+json": {
       "model_id": "147400b2f0884df1b53b197c5d7ed52b",
       "version_major": 2,
       "version_minor": 0
      },
      "text/plain": [
       "HBox(children=(IntProgress(value=0, max=50), HTML(value='')))"
      ]
     },
     "metadata": {},
     "output_type": "display_data"
    },
    {
     "name": "stdout",
     "output_type": "stream",
     "text": [
      "\n"
     ]
    }
   ],
   "source": [
    "workuse['word_count_title'] = workuse['jobtitle'].apply(lambda x: len(str(x).split(\" \")))\n",
    "for i in tqdm(range(50)):\n",
    "    time.sleep(0.1)"
   ]
  },
  {
   "cell_type": "code",
   "execution_count": 13,
   "metadata": {},
   "outputs": [
    {
     "data": {
      "application/vnd.jupyter.widget-view+json": {
       "model_id": "b8721572f5b643359c63ec5b046b3c89",
       "version_major": 2,
       "version_minor": 0
      },
      "text/plain": [
       "HBox(children=(IntProgress(value=0, max=50), HTML(value='')))"
      ]
     },
     "metadata": {},
     "output_type": "display_data"
    },
    {
     "name": "stdout",
     "output_type": "stream",
     "text": [
      "\n"
     ]
    }
   ],
   "source": [
    "workuse['word_count_jobdescription'] = workuse['jobdescription'].apply(lambda x: len(str(x).split(\" \")))\n",
    "for i in tqdm(range(50)):\n",
    "    time.sleep(0.1)"
   ]
  },
  {
   "cell_type": "code",
   "execution_count": 14,
   "metadata": {},
   "outputs": [
    {
     "data": {
      "application/vnd.jupyter.widget-view+json": {
       "model_id": "da92853fd07b46b58ee2cfe0928002b2",
       "version_major": 2,
       "version_minor": 0
      },
      "text/plain": [
       "HBox(children=(IntProgress(value=0, max=50), HTML(value='')))"
      ]
     },
     "metadata": {},
     "output_type": "display_data"
    },
    {
     "name": "stdout",
     "output_type": "stream",
     "text": [
      "\n"
     ]
    }
   ],
   "source": [
    "workuse['char_count_title'] = workuse['jobtitle'].str.len()\n",
    "for i in tqdm(range(50)):\n",
    "    time.sleep(0.1)"
   ]
  },
  {
   "cell_type": "code",
   "execution_count": 15,
   "metadata": {},
   "outputs": [
    {
     "data": {
      "application/vnd.jupyter.widget-view+json": {
       "model_id": "cfb3de421dc74bdea5fa64d50431c830",
       "version_major": 2,
       "version_minor": 0
      },
      "text/plain": [
       "HBox(children=(IntProgress(value=0, max=50), HTML(value='')))"
      ]
     },
     "metadata": {},
     "output_type": "display_data"
    },
    {
     "name": "stdout",
     "output_type": "stream",
     "text": [
      "\n"
     ]
    }
   ],
   "source": [
    "workuse['char_count_jobdescription'] = workuse['jobdescription'].str.len() \n",
    "for i in tqdm(range(50)):\n",
    "    time.sleep(0.1)"
   ]
  },
  {
   "cell_type": "code",
   "execution_count": 16,
   "metadata": {},
   "outputs": [
    {
     "data": {
      "application/vnd.jupyter.widget-view+json": {
       "model_id": "a9eb2cf059364d23adad24210e935d3d",
       "version_major": 2,
       "version_minor": 0
      },
      "text/plain": [
       "HBox(children=(IntProgress(value=0, max=50), HTML(value='')))"
      ]
     },
     "metadata": {},
     "output_type": "display_data"
    },
    {
     "name": "stdout",
     "output_type": "stream",
     "text": [
      "\n"
     ]
    }
   ],
   "source": [
    "def avg_word(sentence):\n",
    "    words = sentence.split()\n",
    "    return (sum(len(word) for word in words)/len(words))\n",
    "for i in tqdm(range(50)):\n",
    "    time.sleep(0.1)"
   ]
  },
  {
   "cell_type": "code",
   "execution_count": 17,
   "metadata": {},
   "outputs": [
    {
     "data": {
      "application/vnd.jupyter.widget-view+json": {
       "model_id": "b18f5606a2f749b69f9cdebe05c8ed1e",
       "version_major": 2,
       "version_minor": 0
      },
      "text/plain": [
       "HBox(children=(IntProgress(value=0, max=50), HTML(value='')))"
      ]
     },
     "metadata": {},
     "output_type": "display_data"
    },
    {
     "name": "stdout",
     "output_type": "stream",
     "text": [
      "\n"
     ]
    }
   ],
   "source": [
    "workuse['avg_word_title'] = workuse['jobtitle'].apply(lambda x: avg_word(x))\n",
    "for i in tqdm(range(50)):\n",
    "    time.sleep(0.1)"
   ]
  },
  {
   "cell_type": "code",
   "execution_count": 18,
   "metadata": {},
   "outputs": [
    {
     "data": {
      "application/vnd.jupyter.widget-view+json": {
       "model_id": "9af1b775abe745d2bca5afa44fae4e11",
       "version_major": 2,
       "version_minor": 0
      },
      "text/plain": [
       "HBox(children=(IntProgress(value=0, max=50), HTML(value='')))"
      ]
     },
     "metadata": {},
     "output_type": "display_data"
    },
    {
     "name": "stdout",
     "output_type": "stream",
     "text": [
      "\n"
     ]
    }
   ],
   "source": [
    "workuse['avg_word_jobdescription'] = workuse['jobdescription'].apply(lambda x: avg_word(x))\n",
    "for i in tqdm(range(50)):\n",
    "    time.sleep(0.1)"
   ]
  },
  {
   "cell_type": "code",
   "execution_count": 19,
   "metadata": {},
   "outputs": [
    {
     "data": {
      "application/vnd.jupyter.widget-view+json": {
       "model_id": "8b3dd975b05a4914abd5b9c460664dd2",
       "version_major": 2,
       "version_minor": 0
      },
      "text/plain": [
       "HBox(children=(IntProgress(value=0, max=50), HTML(value='')))"
      ]
     },
     "metadata": {},
     "output_type": "display_data"
    },
    {
     "name": "stdout",
     "output_type": "stream",
     "text": [
      "\n"
     ]
    }
   ],
   "source": [
    "stop = stopwords.words('english')\n",
    "\n",
    "workuse['count_stop_jobtitle'] = workuse['jobtitle'].apply(lambda x: len([x for x in x.split() if x in stop]))\n",
    "for i in tqdm(range(50)):\n",
    "    time.sleep(0.1)"
   ]
  },
  {
   "cell_type": "code",
   "execution_count": 20,
   "metadata": {},
   "outputs": [
    {
     "data": {
      "application/vnd.jupyter.widget-view+json": {
       "model_id": "d6248d53fa39446e84e9c5d1db625cb1",
       "version_major": 2,
       "version_minor": 0
      },
      "text/plain": [
       "HBox(children=(IntProgress(value=0, max=50), HTML(value='')))"
      ]
     },
     "metadata": {},
     "output_type": "display_data"
    },
    {
     "name": "stdout",
     "output_type": "stream",
     "text": [
      "\n"
     ]
    }
   ],
   "source": [
    "stop = stopwords.words('english')\n",
    "\n",
    "workuse['count_stop_jobdescription'] = workuse['jobdescription'].apply(lambda x: len([x for x in x.split() if x in stop]))\n",
    "for i in tqdm(range(50)):\n",
    "    time.sleep(0.1)"
   ]
  },
  {
   "cell_type": "code",
   "execution_count": 21,
   "metadata": {},
   "outputs": [
    {
     "data": {
      "application/vnd.jupyter.widget-view+json": {
       "model_id": "3e51f6b853af4febb93b73f7f595b1e9",
       "version_major": 2,
       "version_minor": 0
      },
      "text/plain": [
       "HBox(children=(IntProgress(value=0, max=50), HTML(value='')))"
      ]
     },
     "metadata": {},
     "output_type": "display_data"
    },
    {
     "name": "stdout",
     "output_type": "stream",
     "text": [
      "\n"
     ]
    }
   ],
   "source": [
    "workuse['hastags_count_title'] = workuse['jobtitle'].apply(lambda x: len([x for x in x.split() if x.startswith('#')]))\n",
    "for i in tqdm(range(50)):\n",
    "    time.sleep(0.1)"
   ]
  },
  {
   "cell_type": "code",
   "execution_count": 22,
   "metadata": {},
   "outputs": [
    {
     "data": {
      "application/vnd.jupyter.widget-view+json": {
       "model_id": "e72a223d06be4b30b7edf8d3644a7b35",
       "version_major": 2,
       "version_minor": 0
      },
      "text/plain": [
       "HBox(children=(IntProgress(value=0, max=50), HTML(value='')))"
      ]
     },
     "metadata": {},
     "output_type": "display_data"
    },
    {
     "name": "stdout",
     "output_type": "stream",
     "text": [
      "\n"
     ]
    }
   ],
   "source": [
    "workuse['hastags_count_jobdescription'] = workuse['jobdescription'].apply(lambda x: len([x for x in x.split() if x.startswith('#')]))\n",
    "for i in tqdm(range(50)):\n",
    "    time.sleep(0.1)"
   ]
  },
  {
   "cell_type": "code",
   "execution_count": 23,
   "metadata": {},
   "outputs": [
    {
     "data": {
      "application/vnd.jupyter.widget-view+json": {
       "model_id": "a0671aa3b34f495e8909964a89516dfb",
       "version_major": 2,
       "version_minor": 0
      },
      "text/plain": [
       "HBox(children=(IntProgress(value=0, max=50), HTML(value='')))"
      ]
     },
     "metadata": {},
     "output_type": "display_data"
    },
    {
     "name": "stdout",
     "output_type": "stream",
     "text": [
      "\n"
     ]
    }
   ],
   "source": [
    "workuse['numerics_title'] = workuse['jobtitle'].apply(lambda x: len([x for x in x.split() if x.isdigit()]))\n",
    "for i in tqdm(range(50)):\n",
    "    time.sleep(0.1)"
   ]
  },
  {
   "cell_type": "code",
   "execution_count": 24,
   "metadata": {},
   "outputs": [
    {
     "data": {
      "application/vnd.jupyter.widget-view+json": {
       "model_id": "277d932d719842e68b472d614c67cb9d",
       "version_major": 2,
       "version_minor": 0
      },
      "text/plain": [
       "HBox(children=(IntProgress(value=0, max=50), HTML(value='')))"
      ]
     },
     "metadata": {},
     "output_type": "display_data"
    },
    {
     "name": "stdout",
     "output_type": "stream",
     "text": [
      "\n"
     ]
    }
   ],
   "source": [
    "workuse['numerics_jobdescription'] = workuse['jobdescription'].apply(lambda x: len([x for x in x.split() if x.isdigit()]))\n",
    "for i in tqdm(range(50)):\n",
    "    time.sleep(0.1)"
   ]
  },
  {
   "cell_type": "code",
   "execution_count": 25,
   "metadata": {},
   "outputs": [
    {
     "data": {
      "application/vnd.jupyter.widget-view+json": {
       "model_id": "7abeedeaeb6649ed8ea319c31efbb81b",
       "version_major": 2,
       "version_minor": 0
      },
      "text/plain": [
       "HBox(children=(IntProgress(value=0, max=50), HTML(value='')))"
      ]
     },
     "metadata": {},
     "output_type": "display_data"
    },
    {
     "name": "stdout",
     "output_type": "stream",
     "text": [
      "\n"
     ]
    }
   ],
   "source": [
    "workuse['upper_count_title'] = workuse['jobtitle'].apply(lambda x: len([x for x in x.split() if x.isupper()]))\n",
    "for i in tqdm(range(50)):\n",
    "    time.sleep(0.1)"
   ]
  },
  {
   "cell_type": "code",
   "execution_count": 26,
   "metadata": {},
   "outputs": [
    {
     "data": {
      "application/vnd.jupyter.widget-view+json": {
       "model_id": "74d1ab06810944bfb6e941dd22ff218f",
       "version_major": 2,
       "version_minor": 0
      },
      "text/plain": [
       "HBox(children=(IntProgress(value=0, max=50), HTML(value='')))"
      ]
     },
     "metadata": {},
     "output_type": "display_data"
    },
    {
     "name": "stdout",
     "output_type": "stream",
     "text": [
      "\n"
     ]
    }
   ],
   "source": [
    "workuse['upper_count_jobdescription'] = workuse['jobdescription'].apply(lambda x: len([x for x in x.split() if x.isupper()]))\n",
    "for i in tqdm(range(50)):\n",
    "    time.sleep(0.1)"
   ]
  },
  {
   "cell_type": "markdown",
   "metadata": {},
   "source": [
    "# PROCESSING TEXT"
   ]
  },
  {
   "cell_type": "code",
   "execution_count": 27,
   "metadata": {},
   "outputs": [
    {
     "data": {
      "text/html": [
       "<div>\n",
       "<style scoped>\n",
       "    .dataframe tbody tr th:only-of-type {\n",
       "        vertical-align: middle;\n",
       "    }\n",
       "\n",
       "    .dataframe tbody tr th {\n",
       "        vertical-align: top;\n",
       "    }\n",
       "\n",
       "    .dataframe thead th {\n",
       "        text-align: right;\n",
       "    }\n",
       "</style>\n",
       "<table border=\"1\" class=\"dataframe\">\n",
       "  <thead>\n",
       "    <tr style=\"text-align: right;\">\n",
       "      <th></th>\n",
       "      <th>jobid</th>\n",
       "      <th>jobtitle</th>\n",
       "      <th>jobdescription</th>\n",
       "      <th>word_count_title</th>\n",
       "      <th>word_count_jobdescription</th>\n",
       "      <th>char_count_title</th>\n",
       "      <th>char_count_jobdescription</th>\n",
       "      <th>avg_word_title</th>\n",
       "      <th>avg_word_jobdescription</th>\n",
       "      <th>count_stop_jobtitle</th>\n",
       "      <th>count_stop_jobdescription</th>\n",
       "      <th>hastags_count_title</th>\n",
       "      <th>hastags_count_jobdescription</th>\n",
       "      <th>numerics_title</th>\n",
       "      <th>numerics_jobdescription</th>\n",
       "      <th>upper_count_title</th>\n",
       "      <th>upper_count_jobdescription</th>\n",
       "    </tr>\n",
       "  </thead>\n",
       "  <tbody>\n",
       "    <tr>\n",
       "      <th>20803</th>\n",
       "      <td>Dice Id : 10494067</td>\n",
       "      <td>BUSINESS ANALYST</td>\n",
       "      <td>Hi Partnersi have a requirement for BUSINESS A...</td>\n",
       "      <td>2</td>\n",
       "      <td>111</td>\n",
       "      <td>16</td>\n",
       "      <td>839</td>\n",
       "      <td>7.5</td>\n",
       "      <td>6.433628</td>\n",
       "      <td>0</td>\n",
       "      <td>28</td>\n",
       "      <td>0</td>\n",
       "      <td>0</td>\n",
       "      <td>0</td>\n",
       "      <td>0</td>\n",
       "      <td>2</td>\n",
       "      <td>9</td>\n",
       "    </tr>\n",
       "    <tr>\n",
       "      <th>3734</th>\n",
       "      <td>Dice Id : CXGALXYS</td>\n",
       "      <td>Software Quality Assurance Consultant</td>\n",
       "      <td>GalaxE.SolutionsEvery day, our solutions affec...</td>\n",
       "      <td>4</td>\n",
       "      <td>420</td>\n",
       "      <td>37</td>\n",
       "      <td>3017</td>\n",
       "      <td>8.5</td>\n",
       "      <td>6.020979</td>\n",
       "      <td>0</td>\n",
       "      <td>140</td>\n",
       "      <td>0</td>\n",
       "      <td>1</td>\n",
       "      <td>0</td>\n",
       "      <td>2</td>\n",
       "      <td>0</td>\n",
       "      <td>15</td>\n",
       "    </tr>\n",
       "  </tbody>\n",
       "</table>\n",
       "</div>"
      ],
      "text/plain": [
       "                    jobid                               jobtitle                                     jobdescription  word_count_title  word_count_jobdescription  char_count_title  char_count_jobdescription  avg_word_title  avg_word_jobdescription  count_stop_jobtitle  count_stop_jobdescription  hastags_count_title  hastags_count_jobdescription  numerics_title  numerics_jobdescription  upper_count_title  upper_count_jobdescription\n",
       "20803  Dice Id : 10494067                       BUSINESS ANALYST  Hi Partnersi have a requirement for BUSINESS A...                 2                        111                16                        839             7.5                 6.433628                    0                         28                    0                             0               0                        0                  2                           9\n",
       "3734   Dice Id : CXGALXYS  Software Quality Assurance Consultant  GalaxE.SolutionsEvery day, our solutions affec...                 4                        420                37                       3017             8.5                 6.020979                    0                        140                    0                             1               0                        2                  0                          15"
      ]
     },
     "execution_count": 27,
     "metadata": {},
     "output_type": "execute_result"
    }
   ],
   "source": [
    "workuse.sample(2)"
   ]
  },
  {
   "cell_type": "code",
   "execution_count": 28,
   "metadata": {},
   "outputs": [
    {
     "data": {
      "application/vnd.jupyter.widget-view+json": {
       "model_id": "9514790f3605457dbbaaf9c6b900ed18",
       "version_major": 2,
       "version_minor": 0
      },
      "text/plain": [
       "HBox(children=(IntProgress(value=0, max=50), HTML(value='')))"
      ]
     },
     "metadata": {},
     "output_type": "display_data"
    },
    {
     "name": "stdout",
     "output_type": "stream",
     "text": [
      "\n"
     ]
    }
   ],
   "source": [
    "workuse['jobtitle'] = workuse['jobtitle'].apply(lambda x: \" \".join(x.lower() for x in x.split()))\n",
    "for i in tqdm(range(50)):\n",
    "    time.sleep(0.1)"
   ]
  },
  {
   "cell_type": "code",
   "execution_count": 29,
   "metadata": {},
   "outputs": [
    {
     "data": {
      "application/vnd.jupyter.widget-view+json": {
       "model_id": "d245bcd1cc5341b0a48305b5bc9295a3",
       "version_major": 2,
       "version_minor": 0
      },
      "text/plain": [
       "HBox(children=(IntProgress(value=0, max=50), HTML(value='')))"
      ]
     },
     "metadata": {},
     "output_type": "display_data"
    },
    {
     "name": "stdout",
     "output_type": "stream",
     "text": [
      "\n"
     ]
    }
   ],
   "source": [
    "workuse['jobdescription'] = workuse['jobdescription'].apply(lambda x: \" \".join(x.lower() for x in x.split()))\n",
    "for i in tqdm(range(50)):\n",
    "    time.sleep(0.1)"
   ]
  },
  {
   "cell_type": "code",
   "execution_count": 30,
   "metadata": {},
   "outputs": [
    {
     "data": {
      "application/vnd.jupyter.widget-view+json": {
       "model_id": "e2c9c5521a404340b434877bdaffc903",
       "version_major": 2,
       "version_minor": 0
      },
      "text/plain": [
       "HBox(children=(IntProgress(value=0, max=50), HTML(value='')))"
      ]
     },
     "metadata": {},
     "output_type": "display_data"
    },
    {
     "name": "stdout",
     "output_type": "stream",
     "text": [
      "\n"
     ]
    }
   ],
   "source": [
    "workuse['jobtitle'] =  workuse['jobtitle'].str.replace('[^\\w\\s]','')\n",
    "for i in tqdm(range(50)):\n",
    "    time.sleep(0.1)"
   ]
  },
  {
   "cell_type": "code",
   "execution_count": 31,
   "metadata": {},
   "outputs": [
    {
     "data": {
      "application/vnd.jupyter.widget-view+json": {
       "model_id": "0df576ab2692458eb3a549870dfaef56",
       "version_major": 2,
       "version_minor": 0
      },
      "text/plain": [
       "HBox(children=(IntProgress(value=0, max=50), HTML(value='')))"
      ]
     },
     "metadata": {},
     "output_type": "display_data"
    },
    {
     "name": "stdout",
     "output_type": "stream",
     "text": [
      "\n"
     ]
    }
   ],
   "source": [
    "workuse['jobdescription'] =  workuse['jobdescription'].str.replace('[^\\w\\s]','')\n",
    "for i in tqdm(range(50)):\n",
    "    time.sleep(0.1)"
   ]
  },
  {
   "cell_type": "code",
   "execution_count": 32,
   "metadata": {},
   "outputs": [
    {
     "data": {
      "application/vnd.jupyter.widget-view+json": {
       "model_id": "bac11beb5642415cb6c23fded44f34aa",
       "version_major": 2,
       "version_minor": 0
      },
      "text/plain": [
       "HBox(children=(IntProgress(value=0, max=50), HTML(value='')))"
      ]
     },
     "metadata": {},
     "output_type": "display_data"
    },
    {
     "name": "stdout",
     "output_type": "stream",
     "text": [
      "\n"
     ]
    }
   ],
   "source": [
    "from nltk.corpus import stopwords\n",
    "stop = stopwords.words('english')\n",
    "workuse['jobtitle'] = workuse['jobtitle'].apply(lambda x: \" \".join(x for x in x.split() if x not in stop))\n",
    "for i in tqdm(range(50)):\n",
    "    time.sleep(0.1)"
   ]
  },
  {
   "cell_type": "code",
   "execution_count": 33,
   "metadata": {},
   "outputs": [
    {
     "data": {
      "application/vnd.jupyter.widget-view+json": {
       "model_id": "d0f5c399df7d441785517e4e95a67cb3",
       "version_major": 2,
       "version_minor": 0
      },
      "text/plain": [
       "HBox(children=(IntProgress(value=0, max=50), HTML(value='')))"
      ]
     },
     "metadata": {},
     "output_type": "display_data"
    },
    {
     "name": "stdout",
     "output_type": "stream",
     "text": [
      "\n"
     ]
    }
   ],
   "source": [
    "from nltk.corpus import stopwords\n",
    "stop = stopwords.words('english')\n",
    "workuse['jobdescription'] = workuse['jobdescription'].apply(lambda x: \" \".join(x for x in x.split() if x not in stop))\n",
    "for i in tqdm(range(50)):\n",
    "    time.sleep(0.1)"
   ]
  },
  {
   "cell_type": "code",
   "execution_count": 34,
   "metadata": {},
   "outputs": [
    {
     "data": {
      "application/vnd.jupyter.widget-view+json": {
       "model_id": "687956c7b73e462abdd69ed0758af8ac",
       "version_major": 2,
       "version_minor": 0
      },
      "text/plain": [
       "HBox(children=(IntProgress(value=0, max=50), HTML(value='')))"
      ]
     },
     "metadata": {},
     "output_type": "display_data"
    },
    {
     "name": "stdout",
     "output_type": "stream",
     "text": [
      "\n"
     ]
    }
   ],
   "source": [
    "freqtitle = pd.Series(' '.join(workuse['jobtitle']).split()).value_counts()[:28]\n",
    "for i in tqdm(range(50)):\n",
    "    time.sleep(0.1)"
   ]
  },
  {
   "cell_type": "code",
   "execution_count": 35,
   "metadata": {},
   "outputs": [
    {
     "data": {
      "application/vnd.jupyter.widget-view+json": {
       "model_id": "6d75ea42efe74445ba97e93a7b10094d",
       "version_major": 2,
       "version_minor": 0
      },
      "text/plain": [
       "HBox(children=(IntProgress(value=0, max=50), HTML(value='')))"
      ]
     },
     "metadata": {},
     "output_type": "display_data"
    },
    {
     "name": "stdout",
     "output_type": "stream",
     "text": [
      "\n"
     ]
    }
   ],
   "source": [
    "freqjobdescription = pd.Series(' '.join(workuse['jobdescription']).split()).value_counts()[:28]\n",
    "for i in tqdm(range(50)):\n",
    "    time.sleep(0.1)"
   ]
  },
  {
   "cell_type": "code",
   "execution_count": 36,
   "metadata": {},
   "outputs": [
    {
     "data": {
      "application/vnd.jupyter.widget-view+json": {
       "model_id": "c9dddc7e8f8a49679549cfe2226259e7",
       "version_major": 2,
       "version_minor": 0
      },
      "text/plain": [
       "HBox(children=(IntProgress(value=0, max=50), HTML(value='')))"
      ]
     },
     "metadata": {},
     "output_type": "display_data"
    },
    {
     "name": "stdout",
     "output_type": "stream",
     "text": [
      "\n"
     ]
    }
   ],
   "source": [
    "freqraretitle = pd.Series(' '.join(workuse['jobtitle']).split()).value_counts()[-10:]\n",
    "for i in tqdm(range(50)):\n",
    "    time.sleep(0.1)"
   ]
  },
  {
   "cell_type": "code",
   "execution_count": 37,
   "metadata": {},
   "outputs": [
    {
     "data": {
      "application/vnd.jupyter.widget-view+json": {
       "model_id": "1afb88c189934ef7869a8eab527a1989",
       "version_major": 2,
       "version_minor": 0
      },
      "text/plain": [
       "HBox(children=(IntProgress(value=0, max=50), HTML(value='')))"
      ]
     },
     "metadata": {},
     "output_type": "display_data"
    },
    {
     "name": "stdout",
     "output_type": "stream",
     "text": [
      "\n"
     ]
    }
   ],
   "source": [
    "freqrarejobdescription = pd.Series(' '.join(workuse['jobdescription']).split()).value_counts()[-10:]\n",
    "for i in tqdm(range(50)):\n",
    "    time.sleep(0.1)"
   ]
  },
  {
   "cell_type": "raw",
   "metadata": {},
   "source": [
    "#from textblob import TextBlob\n",
    "#workuse['correct_jobtitle'] = workuse['jobtitle'][:5].apply(lambda x: str(TextBlob(x).correct()))"
   ]
  },
  {
   "cell_type": "code",
   "execution_count": 39,
   "metadata": {},
   "outputs": [
    {
     "data": {
      "text/html": [
       "<div>\n",
       "<style scoped>\n",
       "    .dataframe tbody tr th:only-of-type {\n",
       "        vertical-align: middle;\n",
       "    }\n",
       "\n",
       "    .dataframe tbody tr th {\n",
       "        vertical-align: top;\n",
       "    }\n",
       "\n",
       "    .dataframe thead th {\n",
       "        text-align: right;\n",
       "    }\n",
       "</style>\n",
       "<table border=\"1\" class=\"dataframe\">\n",
       "  <thead>\n",
       "    <tr style=\"text-align: right;\">\n",
       "      <th></th>\n",
       "      <th>jobid</th>\n",
       "      <th>jobtitle</th>\n",
       "      <th>jobdescription</th>\n",
       "      <th>word_count_title</th>\n",
       "      <th>word_count_jobdescription</th>\n",
       "      <th>char_count_title</th>\n",
       "      <th>char_count_jobdescription</th>\n",
       "      <th>avg_word_title</th>\n",
       "      <th>avg_word_jobdescription</th>\n",
       "      <th>count_stop_jobtitle</th>\n",
       "      <th>count_stop_jobdescription</th>\n",
       "      <th>hastags_count_title</th>\n",
       "      <th>hastags_count_jobdescription</th>\n",
       "      <th>numerics_title</th>\n",
       "      <th>numerics_jobdescription</th>\n",
       "      <th>upper_count_title</th>\n",
       "      <th>upper_count_jobdescription</th>\n",
       "    </tr>\n",
       "  </thead>\n",
       "  <tbody>\n",
       "    <tr>\n",
       "      <th>0</th>\n",
       "      <td>Dice Id : 10110693</td>\n",
       "      <td>automation test engineer</td>\n",
       "      <td>looking selenium engineersmust solid java codi...</td>\n",
       "      <td>3</td>\n",
       "      <td>526</td>\n",
       "      <td>24</td>\n",
       "      <td>3526</td>\n",
       "      <td>7.333333</td>\n",
       "      <td>5.676136</td>\n",
       "      <td>0</td>\n",
       "      <td>145</td>\n",
       "      <td>0</td>\n",
       "      <td>0</td>\n",
       "      <td>0</td>\n",
       "      <td>1</td>\n",
       "      <td>3</td>\n",
       "      <td>42</td>\n",
       "    </tr>\n",
       "    <tr>\n",
       "      <th>1</th>\n",
       "      <td>Dice Id : 10114469</td>\n",
       "      <td>information security engineer</td>\n",
       "      <td>university chicago rapidly growing security pr...</td>\n",
       "      <td>3</td>\n",
       "      <td>272</td>\n",
       "      <td>29</td>\n",
       "      <td>2158</td>\n",
       "      <td>9.000000</td>\n",
       "      <td>6.561404</td>\n",
       "      <td>0</td>\n",
       "      <td>86</td>\n",
       "      <td>0</td>\n",
       "      <td>0</td>\n",
       "      <td>0</td>\n",
       "      <td>0</td>\n",
       "      <td>0</td>\n",
       "      <td>6</td>\n",
       "    </tr>\n",
       "    <tr>\n",
       "      <th>2</th>\n",
       "      <td>Dice Id : CXGALXYS</td>\n",
       "      <td>business solutions architect</td>\n",
       "      <td>galaxesolutionsevery day solutions affect peop...</td>\n",
       "      <td>3</td>\n",
       "      <td>382</td>\n",
       "      <td>28</td>\n",
       "      <td>2787</td>\n",
       "      <td>8.666667</td>\n",
       "      <td>6.149100</td>\n",
       "      <td>0</td>\n",
       "      <td>120</td>\n",
       "      <td>0</td>\n",
       "      <td>1</td>\n",
       "      <td>0</td>\n",
       "      <td>2</td>\n",
       "      <td>0</td>\n",
       "      <td>10</td>\n",
       "    </tr>\n",
       "    <tr>\n",
       "      <th>3</th>\n",
       "      <td>Dice Id : 10113627</td>\n",
       "      <td>java developer mid level ft great culture mode...</td>\n",
       "      <td>java developerfulltimedirecthirebolingbrook il...</td>\n",
       "      <td>11</td>\n",
       "      <td>341</td>\n",
       "      <td>81</td>\n",
       "      <td>2469</td>\n",
       "      <td>6.454545</td>\n",
       "      <td>6.014245</td>\n",
       "      <td>0</td>\n",
       "      <td>114</td>\n",
       "      <td>0</td>\n",
       "      <td>0</td>\n",
       "      <td>0</td>\n",
       "      <td>1</td>\n",
       "      <td>2</td>\n",
       "      <td>12</td>\n",
       "    </tr>\n",
       "    <tr>\n",
       "      <th>4</th>\n",
       "      <td>Dice Id : matrixga</td>\n",
       "      <td>devops engineer</td>\n",
       "      <td>midtown based high tech firm immediate need in...</td>\n",
       "      <td>2</td>\n",
       "      <td>131</td>\n",
       "      <td>15</td>\n",
       "      <td>982</td>\n",
       "      <td>7.000000</td>\n",
       "      <td>5.907801</td>\n",
       "      <td>0</td>\n",
       "      <td>40</td>\n",
       "      <td>0</td>\n",
       "      <td>0</td>\n",
       "      <td>0</td>\n",
       "      <td>0</td>\n",
       "      <td>0</td>\n",
       "      <td>3</td>\n",
       "    </tr>\n",
       "  </tbody>\n",
       "</table>\n",
       "</div>"
      ],
      "text/plain": [
       "                jobid                                           jobtitle                                     jobdescription  word_count_title  word_count_jobdescription  char_count_title  char_count_jobdescription  avg_word_title  avg_word_jobdescription  count_stop_jobtitle  count_stop_jobdescription  hastags_count_title  hastags_count_jobdescription  numerics_title  numerics_jobdescription  upper_count_title  upper_count_jobdescription\n",
       "0  Dice Id : 10110693                           automation test engineer  looking selenium engineersmust solid java codi...                 3                        526                24                       3526        7.333333                 5.676136                    0                        145                    0                             0               0                        1                  3                          42\n",
       "1  Dice Id : 10114469                      information security engineer  university chicago rapidly growing security pr...                 3                        272                29                       2158        9.000000                 6.561404                    0                         86                    0                             0               0                        0                  0                           6\n",
       "2  Dice Id : CXGALXYS                       business solutions architect  galaxesolutionsevery day solutions affect peop...                 3                        382                28                       2787        8.666667                 6.149100                    0                        120                    0                             1               0                        2                  0                          10\n",
       "3  Dice Id : 10113627  java developer mid level ft great culture mode...  java developerfulltimedirecthirebolingbrook il...                11                        341                81                       2469        6.454545                 6.014245                    0                        114                    0                             0               0                        1                  2                          12\n",
       "4  Dice Id : matrixga                                    devops engineer  midtown based high tech firm immediate need in...                 2                        131                15                        982        7.000000                 5.907801                    0                         40                    0                             0               0                        0                  0                           3"
      ]
     },
     "execution_count": 39,
     "metadata": {},
     "output_type": "execute_result"
    }
   ],
   "source": [
    "workuse.head()"
   ]
  },
  {
   "cell_type": "code",
   "execution_count": null,
   "metadata": {},
   "outputs": [],
   "source": [
    "from textblob import TextBlob\n",
    "workuse['correct_jobdescription'] = workuse['jobdescription'].apply(lambda x: str(TextBlob(x).correct()))"
   ]
  },
  {
   "cell_type": "raw",
   "metadata": {},
   "source": [
    "workuse.columns"
   ]
  },
  {
   "cell_type": "raw",
   "metadata": {},
   "source": [
    "worknow = workuse[['jobid','jobtitle','jobdescription','correct_jobdescription']]\n",
    "for i in tqdm(range(50)):\n",
    "    time.sleep(0.1)"
   ]
  },
  {
   "cell_type": "raw",
   "metadata": {},
   "source": [
    "worknow.head(8)"
   ]
  },
  {
   "cell_type": "raw",
   "metadata": {},
   "source": [
    "#worknow['correct_jobdescription']=worknow['jobdescription'].fillna(\"\")"
   ]
  },
  {
   "cell_type": "raw",
   "metadata": {},
   "source": [
    "#worknow.head(8)"
   ]
  },
  {
   "cell_type": "raw",
   "metadata": {},
   "source": [
    "worknow['correct_jobdescription'] = worknow['correct_jobdescription'].fillna(worknow['jobdescription'])\n",
    "for i in tqdm(range(50)):\n",
    "    time.sleep(0.1)"
   ]
  },
  {
   "cell_type": "raw",
   "metadata": {},
   "source": [
    "worknow.head(8)"
   ]
  },
  {
   "cell_type": "raw",
   "metadata": {},
   "source": [
    "worknow = worknow.drop(['jobdescription'], axis=1)\n",
    "for i in tqdm(range(50)):\n",
    "    time.sleep(0.1)"
   ]
  },
  {
   "cell_type": "raw",
   "metadata": {},
   "source": [
    "worknow"
   ]
  },
  {
   "cell_type": "raw",
   "metadata": {},
   "source": [
    "TextBlob(worknow['correct_jobdescription'][0]).ngrams(100)\n",
    "for i in tqdm(range(50)):\n",
    "    time.sleep(0.1)"
   ]
  },
  {
   "cell_type": "raw",
   "metadata": {},
   "source": [
    "tf_description = (worknow['correct_jobdescription'][3:0]).apply(lambda x: pd.value_counts(x.split(\" \"))).sum(axis = 0).reset_index()\n",
    "tf_description.columns = ['words','tf']\n",
    "for i in tqdm(range(50)):\n",
    "    time.sleep(0.1)                          "
   ]
  },
  {
   "cell_type": "raw",
   "metadata": {},
   "source": [
    "tf_description"
   ]
  },
  {
   "cell_type": "raw",
   "metadata": {},
   "source": [
    "for i,word in enumerate(tf_description['words']):\n",
    "    tf_description.loc[i, 'idf'] = np.log(worknow.shape[0]/(len(worknow[worknow['correct_jobdescription'].str.contains(word)])))\n",
    "    for i in tqdm(range(50)):\n",
    "    time.sleep(0.1)"
   ]
  },
  {
   "cell_type": "raw",
   "metadata": {},
   "source": [
    "tf_description"
   ]
  },
  {
   "cell_type": "code",
   "execution_count": null,
   "metadata": {},
   "outputs": [],
   "source": []
  }
 ],
 "metadata": {
  "kernelspec": {
   "display_name": "Python 3",
   "language": "python",
   "name": "python3"
  },
  "language_info": {
   "codemirror_mode": {
    "name": "ipython",
    "version": 3
   },
   "file_extension": ".py",
   "mimetype": "text/x-python",
   "name": "python",
   "nbconvert_exporter": "python",
   "pygments_lexer": "ipython3",
   "version": "3.7.3"
  }
 },
 "nbformat": 4,
 "nbformat_minor": 2
}
