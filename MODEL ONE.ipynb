{
 "cells": [
  {
   "cell_type": "code",
   "execution_count": 549,
   "metadata": {},
   "outputs": [],
   "source": [
    "import pandas as pd\n",
    "import numpy as np\n",
    "import csv\n",
    "from sklearn.tree import DecisionTreeClassifier # Import Decision Tree Classifier\n",
    "from sklearn.model_selection import train_test_split # Import train_test_split function\n",
    "from sklearn import metrics #Import scikit-learn metrics module for accuracy calculation\n",
    "import matplotlib.pyplot as plt\n",
    "import pydotplus\n",
    "import os\n",
    "from sklearn import tree\n",
    "from sklearn.preprocessing import StandardScaler\n",
    "import seaborn as sns\n",
    "from sklearn.preprocessing import LabelEncoder\n",
    "enc = LabelEncoder()\n",
    "from sklearn import preprocessing \n",
    "from sklearn.tree import export_graphviz\n",
    "from sklearn.externals.six import StringIO  \n",
    "from IPython.display import Image  \n",
    "import pydotplus\n",
    "import graphviz \n",
    "pd.set_option('display.width', 2000)\n",
    "pd.set_option('display.max_columns', 2000)"
   ]
  },
  {
   "cell_type": "code",
   "execution_count": 550,
   "metadata": {},
   "outputs": [
    {
     "name": "stderr",
     "output_type": "stream",
     "text": [
      "C:\\Users\\Naeemah\\Anaconda3\\lib\\site-packages\\IPython\\core\\interactiveshell.py:3057: DtypeWarning: Columns (0) have mixed types. Specify dtype option on import or set low_memory=False.\n",
      "  interactivity=interactivity, compiler=compiler, result=result)\n"
     ]
    }
   ],
   "source": [
    "data = pd.read_csv('alldata.csv')"
   ]
  },
  {
   "cell_type": "code",
   "execution_count": 551,
   "metadata": {},
   "outputs": [],
   "source": [
    "dataset = data "
   ]
  },
  {
   "cell_type": "code",
   "execution_count": 552,
   "metadata": {},
   "outputs": [
    {
     "data": {
      "text/plain": [
       "array(['Very satisfied', 'Somewhat satisfied', 'Somewhat dissatisfied',\n",
       "       'Very dissatisfied'], dtype=object)"
      ]
     },
     "execution_count": 552,
     "metadata": {},
     "output_type": "execute_result"
    }
   ],
   "source": [
    "dataset['SATISFACTION_JOB'].unique()"
   ]
  },
  {
   "cell_type": "code",
   "execution_count": 553,
   "metadata": {},
   "outputs": [
    {
     "data": {
      "text/plain": [
       "0"
      ]
     },
     "execution_count": 553,
     "metadata": {},
     "output_type": "execute_result"
    }
   ],
   "source": [
    "dataset['SATISFACTION_JOB'].isnull().sum()"
   ]
  },
  {
   "cell_type": "code",
   "execution_count": 554,
   "metadata": {},
   "outputs": [
    {
     "data": {
      "text/plain": [
       "REFID                                         0\n",
       "AGE                                           0\n",
       "GENDER                                        0\n",
       "MINORITY                                      0\n",
       "RACE                                          0\n",
       "BIRTH_PLACE                                   0\n",
       "US_CITIZENSHIP                                0\n",
       "US_CITIZEN_TYPE                               0\n",
       "TOTAL_CHILDREN                                0\n",
       "HOURS_WORKED                                  0\n",
       " SALARY                                       0\n",
       "HAVE_HEALTH_CARE                              0\n",
       "HAVE_PENSION                                  0\n",
       "HAVE_PROFIT_SHARE                             0\n",
       "HAVE_VACATION                                 0\n",
       "PRINCIPAL_POSITION_RELATED_HIGH_DEGREE        0\n",
       "PRINCIPAL_POSITION                            0\n",
       "PRINCIPAL_MAJOR_GROUP                         0\n",
       "EMPLOYER_SECTOR                               0\n",
       "EMPLOYER_SIZE                                 0\n",
       "WORK_ACTIVITY                                 0\n",
       "WORK_ACTIVITY_SUM                             0\n",
       "WORK_ACTIVITY_SECOND                          0\n",
       "WORK_ACTIVITY_SCEOND_SUM                      0\n",
       "COMPUTER                                      0\n",
       "DEVELOPMENT_AND_DESIGN                        0\n",
       "MANAGEMENT_SALES                              0\n",
       "RESEARCH_AND_DEVELOPMENT                      0\n",
       "RESEARCH_DEVE_TEACHING                        0\n",
       "ACTIVITY_RESEARCH                             0\n",
       "                                           ... \n",
       "SATISFACTION_JOB_CHALLENGE                    0\n",
       "SATISFACTION_JOB_INDEP                        0\n",
       "SATISFACTION_JOB_LOC                          0\n",
       "SATISFACTION_JOB_RESP                         0\n",
       "SATISFACTION_JOB_SALARY                       0\n",
       "SATISFACTION_JOB_SECURITY                     0\n",
       "SATISFACTION_JOB_CONTRIB_SOCIETY              0\n",
       "ATTEND_TRAINING_WORK_RELATE                   0\n",
       "ATTEND_TRAINING                               0\n",
       "ATTEND_TRAINING_CHANGE_FIELD                  0\n",
       "ATTEND_TRAINING_BY_EMPLOYER                   0\n",
       "ATTEND_TRAINING_CERT                          0\n",
       "ATTEND_TRAINING_INCREASE_ADV_CUR              0\n",
       "ATTEND_TRAINING_OTHER                         0\n",
       "ATTEND_TRAINING_PERSONAL                      0\n",
       "ATTEND_TRAINING_ACQUIRE_SKILL                 0\n",
       "JOB_REQUIRED_TECH_NATURAL_SCIENCES            0\n",
       "JOB_REQUIRED_TECH_OTHER                       0\n",
       "JOB_REQUIRED_TECH_SOCIAL_SCIENCES             0\n",
       "RECENT_DEGREE                                 0\n",
       "FIELD_MAJOR_RECENT_DEGREE                  1068\n",
       "FIELD_MAJOR_GROUP_RECENT_DEGREE               0\n",
       "REASON_EDUCATION_ADVANCE_OPPORTUNITIES        0\n",
       "REASON_EDUCATION_BEFORE_CAREER                0\n",
       "REASON_EDUCATION_CHANGE_CAREER                0\n",
       "REASON_EDUCATION_PERSONAL                     0\n",
       "REASON_EDUCATION_CERIFICATION                 0\n",
       "REASON_EDUCATION_BY_EMPLOYER                  0\n",
       "REASON_EDUCATION_ADVANCE_SKILL_IN_FIELD       0\n",
       "REASON_EDUCATION_PAID_BY_EMPLOYER             0\n",
       "Length: 90, dtype: int64"
      ]
     },
     "execution_count": 554,
     "metadata": {},
     "output_type": "execute_result"
    }
   ],
   "source": [
    "dataset.isnull().sum()"
   ]
  },
  {
   "cell_type": "code",
   "execution_count": 555,
   "metadata": {},
   "outputs": [],
   "source": [
    "SATISFACTION_JOB = []\n",
    "\n",
    "for row in dataset['SATISFACTION_JOB']:\n",
    "    if row in ['Very satisfied']:\n",
    "        SATISFACTION_JOB.append('1')\n",
    "    elif row in ['Somewhat satisfied']:\n",
    "        SATISFACTION_JOB.append('2')\n",
    "    elif row in ['Somewhat dissatisfied']:\n",
    "        SATISFACTION_JOB.append('3')\n",
    "    else:\n",
    "        SATISFACTION_JOB.append('4')\n",
    "\n",
    "    \n",
    "dataset['SATISFACTION_JOB'] = SATISFACTION_JOB"
   ]
  },
  {
   "cell_type": "code",
   "execution_count": 556,
   "metadata": {},
   "outputs": [],
   "source": [
    "dataset['FIELD_MAJOR_RECENT_DEGREE'].fillna('None', inplace=True)"
   ]
  },
  {
   "cell_type": "code",
   "execution_count": 557,
   "metadata": {
    "scrolled": false
   },
   "outputs": [
    {
     "data": {
      "text/plain": [
       "REFID                                      0\n",
       "AGE                                        0\n",
       "GENDER                                     0\n",
       "MINORITY                                   0\n",
       "RACE                                       0\n",
       "BIRTH_PLACE                                0\n",
       "US_CITIZENSHIP                             0\n",
       "US_CITIZEN_TYPE                            0\n",
       "TOTAL_CHILDREN                             0\n",
       "HOURS_WORKED                               0\n",
       " SALARY                                    0\n",
       "HAVE_HEALTH_CARE                           0\n",
       "HAVE_PENSION                               0\n",
       "HAVE_PROFIT_SHARE                          0\n",
       "HAVE_VACATION                              0\n",
       "PRINCIPAL_POSITION_RELATED_HIGH_DEGREE     0\n",
       "PRINCIPAL_POSITION                         0\n",
       "PRINCIPAL_MAJOR_GROUP                      0\n",
       "EMPLOYER_SECTOR                            0\n",
       "EMPLOYER_SIZE                              0\n",
       "WORK_ACTIVITY                              0\n",
       "WORK_ACTIVITY_SUM                          0\n",
       "WORK_ACTIVITY_SECOND                       0\n",
       "WORK_ACTIVITY_SCEOND_SUM                   0\n",
       "COMPUTER                                   0\n",
       "DEVELOPMENT_AND_DESIGN                     0\n",
       "MANAGEMENT_SALES                           0\n",
       "RESEARCH_AND_DEVELOPMENT                   0\n",
       "RESEARCH_DEVE_TEACHING                     0\n",
       "ACTIVITY_RESEARCH                          0\n",
       "                                          ..\n",
       "SATISFACTION_JOB_CHALLENGE                 0\n",
       "SATISFACTION_JOB_INDEP                     0\n",
       "SATISFACTION_JOB_LOC                       0\n",
       "SATISFACTION_JOB_RESP                      0\n",
       "SATISFACTION_JOB_SALARY                    0\n",
       "SATISFACTION_JOB_SECURITY                  0\n",
       "SATISFACTION_JOB_CONTRIB_SOCIETY           0\n",
       "ATTEND_TRAINING_WORK_RELATE                0\n",
       "ATTEND_TRAINING                            0\n",
       "ATTEND_TRAINING_CHANGE_FIELD               0\n",
       "ATTEND_TRAINING_BY_EMPLOYER                0\n",
       "ATTEND_TRAINING_CERT                       0\n",
       "ATTEND_TRAINING_INCREASE_ADV_CUR           0\n",
       "ATTEND_TRAINING_OTHER                      0\n",
       "ATTEND_TRAINING_PERSONAL                   0\n",
       "ATTEND_TRAINING_ACQUIRE_SKILL              0\n",
       "JOB_REQUIRED_TECH_NATURAL_SCIENCES         0\n",
       "JOB_REQUIRED_TECH_OTHER                    0\n",
       "JOB_REQUIRED_TECH_SOCIAL_SCIENCES          0\n",
       "RECENT_DEGREE                              0\n",
       "FIELD_MAJOR_RECENT_DEGREE                  0\n",
       "FIELD_MAJOR_GROUP_RECENT_DEGREE            0\n",
       "REASON_EDUCATION_ADVANCE_OPPORTUNITIES     0\n",
       "REASON_EDUCATION_BEFORE_CAREER             0\n",
       "REASON_EDUCATION_CHANGE_CAREER             0\n",
       "REASON_EDUCATION_PERSONAL                  0\n",
       "REASON_EDUCATION_CERIFICATION              0\n",
       "REASON_EDUCATION_BY_EMPLOYER               0\n",
       "REASON_EDUCATION_ADVANCE_SKILL_IN_FIELD    0\n",
       "REASON_EDUCATION_PAID_BY_EMPLOYER          0\n",
       "Length: 90, dtype: int64"
      ]
     },
     "execution_count": 557,
     "metadata": {},
     "output_type": "execute_result"
    }
   ],
   "source": [
    "dataset.isnull().sum()"
   ]
  },
  {
   "cell_type": "code",
   "execution_count": 558,
   "metadata": {},
   "outputs": [],
   "source": [
    "dataset['AGE'] = pd.to_numeric(data['AGE'])"
   ]
  },
  {
   "cell_type": "code",
   "execution_count": 559,
   "metadata": {},
   "outputs": [],
   "source": [
    "bins = [20, 30,  40,  50,  60,  70,  80]\n",
    "dataset['AGE_BINS'] = pd.cut(dataset['AGE'], bins)"
   ]
  },
  {
   "cell_type": "code",
   "execution_count": 560,
   "metadata": {},
   "outputs": [],
   "source": [
    "dataset['SALARY_NEW'] = dataset[' SALARY '].str.replace('$', '')"
   ]
  },
  {
   "cell_type": "code",
   "execution_count": 561,
   "metadata": {},
   "outputs": [],
   "source": [
    "dataset['SALARY_NEW'] = dataset['SALARY_NEW'].str.replace(',', '')"
   ]
  },
  {
   "cell_type": "code",
   "execution_count": 562,
   "metadata": {},
   "outputs": [],
   "source": [
    "dataset['SALARY'] = dataset['SALARY_NEW'].str.replace(' -   ', '')"
   ]
  },
  {
   "cell_type": "code",
   "execution_count": 563,
   "metadata": {},
   "outputs": [],
   "source": [
    "dataset = dataset.drop('SALARY_NEW', axis=1)"
   ]
  },
  {
   "cell_type": "code",
   "execution_count": 564,
   "metadata": {},
   "outputs": [],
   "source": [
    "dataset['SALARY'] = pd.to_numeric(dataset['SALARY'], errors='coerce')"
   ]
  },
  {
   "cell_type": "code",
   "execution_count": 565,
   "metadata": {},
   "outputs": [],
   "source": [
    "bins = [0, 5000, 10000, 20000,  30000,  40000,  50000,  60000,  70000,  80000, 90000, 100000, 200000]\n",
    "dataset['SALARY_BINS'] = pd.cut(dataset['SALARY'], bins)"
   ]
  },
  {
   "cell_type": "code",
   "execution_count": 566,
   "metadata": {},
   "outputs": [],
   "source": [
    "dataset = dataset.drop('SALARY', axis=1)"
   ]
  },
  {
   "cell_type": "code",
   "execution_count": 567,
   "metadata": {},
   "outputs": [
    {
     "data": {
      "text/html": [
       "<div>\n",
       "<style scoped>\n",
       "    .dataframe tbody tr th:only-of-type {\n",
       "        vertical-align: middle;\n",
       "    }\n",
       "\n",
       "    .dataframe tbody tr th {\n",
       "        vertical-align: top;\n",
       "    }\n",
       "\n",
       "    .dataframe thead th {\n",
       "        text-align: right;\n",
       "    }\n",
       "</style>\n",
       "<table border=\"1\" class=\"dataframe\">\n",
       "  <thead>\n",
       "    <tr style=\"text-align: right;\">\n",
       "      <th></th>\n",
       "      <th>REFID</th>\n",
       "      <th>AGE</th>\n",
       "      <th>GENDER</th>\n",
       "      <th>MINORITY</th>\n",
       "      <th>RACE</th>\n",
       "      <th>BIRTH_PLACE</th>\n",
       "      <th>US_CITIZENSHIP</th>\n",
       "      <th>US_CITIZEN_TYPE</th>\n",
       "      <th>TOTAL_CHILDREN</th>\n",
       "      <th>HOURS_WORKED</th>\n",
       "      <th>SALARY</th>\n",
       "      <th>HAVE_HEALTH_CARE</th>\n",
       "      <th>HAVE_PENSION</th>\n",
       "      <th>HAVE_PROFIT_SHARE</th>\n",
       "      <th>HAVE_VACATION</th>\n",
       "      <th>PRINCIPAL_POSITION_RELATED_HIGH_DEGREE</th>\n",
       "      <th>PRINCIPAL_POSITION</th>\n",
       "      <th>PRINCIPAL_MAJOR_GROUP</th>\n",
       "      <th>EMPLOYER_SECTOR</th>\n",
       "      <th>EMPLOYER_SIZE</th>\n",
       "      <th>WORK_ACTIVITY</th>\n",
       "      <th>WORK_ACTIVITY_SUM</th>\n",
       "      <th>WORK_ACTIVITY_SECOND</th>\n",
       "      <th>WORK_ACTIVITY_SCEOND_SUM</th>\n",
       "      <th>COMPUTER</th>\n",
       "      <th>DEVELOPMENT_AND_DESIGN</th>\n",
       "      <th>MANAGEMENT_SALES</th>\n",
       "      <th>RESEARCH_AND_DEVELOPMENT</th>\n",
       "      <th>RESEARCH_DEVE_TEACHING</th>\n",
       "      <th>ACTIVITY_RESEARCH</th>\n",
       "      <th>ACTIVITY_TEACHING</th>\n",
       "      <th>WORK_DEVELOPMENT</th>\n",
       "      <th>WORK_DESIGN</th>\n",
       "      <th>WORK_EMPLOYEE_RELATIONS</th>\n",
       "      <th>WORK_MANAGEMENT_ADMIN</th>\n",
       "      <th>WORK_OTHER</th>\n",
       "      <th>WORK_PRODUCTION</th>\n",
       "      <th>WORK_QUALITY_MANAGEMENT</th>\n",
       "      <th>WORK_SALES_MARKETING</th>\n",
       "      <th>WORK_PROFESSIONAL_SERVICES</th>\n",
       "      <th>WORK_TEACHING</th>\n",
       "      <th>WORK_FINANCE</th>\n",
       "      <th>WORK_APPLIED_RESEARCH</th>\n",
       "      <th>WORK_RESEARCH</th>\n",
       "      <th>WORK_COMPUTER_APPLICATIONS</th>\n",
       "      <th>SUPERVISORY_WORK</th>\n",
       "      <th>MEMEBERSHIP</th>\n",
       "      <th>ATTENED_PROFESSIONAL_MEET</th>\n",
       "      <th>WORK_OUTSIDE_DEGREE_FOR_FIRST_REASON</th>\n",
       "      <th>WORK_OUTSIDE_DEGREE_FOR_SECOND_REASON</th>\n",
       "      <th>WORK_OUTSIDE_DEGREE_FOR_CAREER_CHANGE</th>\n",
       "      <th>WORK_OUTSIDE_DEGREE_FOR_WORK_COND</th>\n",
       "      <th>WORK_OUTSIDE_DEGREE_FOR_FAMILY</th>\n",
       "      <th>WORK_OUTSIDE_DEGREE_FOR_LOC</th>\n",
       "      <th>WORK_OUTSIDE_DEGREE_FOR_NOT_AVAIL</th>\n",
       "      <th>WORK_OUTSIDE_DEGREE_FOR_OTHER</th>\n",
       "      <th>WORK_OUTSIDE_DEGREE_FOR_PAY_PROMOTE</th>\n",
       "      <th>SATISFACTION_JOB</th>\n",
       "      <th>SATISFACTION_JOB_ADVANCE</th>\n",
       "      <th>SATISFACTION_JOB_BENEFITS</th>\n",
       "      <th>SATISFACTION_JOB_CHALLENGE</th>\n",
       "      <th>SATISFACTION_JOB_INDEP</th>\n",
       "      <th>SATISFACTION_JOB_LOC</th>\n",
       "      <th>SATISFACTION_JOB_RESP</th>\n",
       "      <th>SATISFACTION_JOB_SALARY</th>\n",
       "      <th>SATISFACTION_JOB_SECURITY</th>\n",
       "      <th>SATISFACTION_JOB_CONTRIB_SOCIETY</th>\n",
       "      <th>ATTEND_TRAINING_WORK_RELATE</th>\n",
       "      <th>ATTEND_TRAINING</th>\n",
       "      <th>ATTEND_TRAINING_CHANGE_FIELD</th>\n",
       "      <th>ATTEND_TRAINING_BY_EMPLOYER</th>\n",
       "      <th>ATTEND_TRAINING_CERT</th>\n",
       "      <th>ATTEND_TRAINING_INCREASE_ADV_CUR</th>\n",
       "      <th>ATTEND_TRAINING_OTHER</th>\n",
       "      <th>ATTEND_TRAINING_PERSONAL</th>\n",
       "      <th>ATTEND_TRAINING_ACQUIRE_SKILL</th>\n",
       "      <th>JOB_REQUIRED_TECH_NATURAL_SCIENCES</th>\n",
       "      <th>JOB_REQUIRED_TECH_OTHER</th>\n",
       "      <th>JOB_REQUIRED_TECH_SOCIAL_SCIENCES</th>\n",
       "      <th>RECENT_DEGREE</th>\n",
       "      <th>FIELD_MAJOR_RECENT_DEGREE</th>\n",
       "      <th>FIELD_MAJOR_GROUP_RECENT_DEGREE</th>\n",
       "      <th>REASON_EDUCATION_ADVANCE_OPPORTUNITIES</th>\n",
       "      <th>REASON_EDUCATION_BEFORE_CAREER</th>\n",
       "      <th>REASON_EDUCATION_CHANGE_CAREER</th>\n",
       "      <th>REASON_EDUCATION_PERSONAL</th>\n",
       "      <th>REASON_EDUCATION_CERIFICATION</th>\n",
       "      <th>REASON_EDUCATION_BY_EMPLOYER</th>\n",
       "      <th>REASON_EDUCATION_ADVANCE_SKILL_IN_FIELD</th>\n",
       "      <th>REASON_EDUCATION_PAID_BY_EMPLOYER</th>\n",
       "      <th>AGE_BINS</th>\n",
       "      <th>SALARY_BINS</th>\n",
       "    </tr>\n",
       "  </thead>\n",
       "  <tbody>\n",
       "    <tr>\n",
       "      <th>40597</th>\n",
       "      <td>E11514734</td>\n",
       "      <td>53</td>\n",
       "      <td>Male</td>\n",
       "      <td>No</td>\n",
       "      <td>White</td>\n",
       "      <td>Not in the US</td>\n",
       "      <td>Yes</td>\n",
       "      <td>By naturalization</td>\n",
       "      <td>None</td>\n",
       "      <td>Greater than 40 hours</td>\n",
       "      <td>$125,000.00</td>\n",
       "      <td>Yes</td>\n",
       "      <td>Yes</td>\n",
       "      <td>No</td>\n",
       "      <td>Yes</td>\n",
       "      <td>Closely related</td>\n",
       "      <td>Other management related occupations</td>\n",
       "      <td>Non-science and engineering occupations</td>\n",
       "      <td>Business or industry</td>\n",
       "      <td>25000+ employees</td>\n",
       "      <td>Professional services</td>\n",
       "      <td>Other</td>\n",
       "      <td>Sales, purchasing, marketing</td>\n",
       "      <td>Management and Administration</td>\n",
       "      <td>No</td>\n",
       "      <td>No</td>\n",
       "      <td>Yes</td>\n",
       "      <td>No</td>\n",
       "      <td>No</td>\n",
       "      <td>No</td>\n",
       "      <td>No</td>\n",
       "      <td>No</td>\n",
       "      <td>No</td>\n",
       "      <td>No</td>\n",
       "      <td>No</td>\n",
       "      <td>No</td>\n",
       "      <td>No</td>\n",
       "      <td>No</td>\n",
       "      <td>Yes</td>\n",
       "      <td>Yes</td>\n",
       "      <td>No</td>\n",
       "      <td>Yes</td>\n",
       "      <td>No</td>\n",
       "      <td>No</td>\n",
       "      <td>No</td>\n",
       "      <td>No</td>\n",
       "      <td>2 memberships</td>\n",
       "      <td>Yes</td>\n",
       "      <td>No</td>\n",
       "      <td>No</td>\n",
       "      <td>No</td>\n",
       "      <td>No</td>\n",
       "      <td>No</td>\n",
       "      <td>No</td>\n",
       "      <td>No</td>\n",
       "      <td>No</td>\n",
       "      <td>No</td>\n",
       "      <td>1</td>\n",
       "      <td>Somewhat satisfied</td>\n",
       "      <td>Very satisfied</td>\n",
       "      <td>Very satisfied</td>\n",
       "      <td>Very satisfied</td>\n",
       "      <td>Very satisfied</td>\n",
       "      <td>Very satisfied</td>\n",
       "      <td>Very satisfied</td>\n",
       "      <td>Very satisfied</td>\n",
       "      <td>Very satisfied</td>\n",
       "      <td>Yes</td>\n",
       "      <td>For certification</td>\n",
       "      <td>No</td>\n",
       "      <td>No</td>\n",
       "      <td>Yes</td>\n",
       "      <td>No</td>\n",
       "      <td>No</td>\n",
       "      <td>No</td>\n",
       "      <td>Yes</td>\n",
       "      <td>No</td>\n",
       "      <td>Yes</td>\n",
       "      <td>No</td>\n",
       "      <td>Master</td>\n",
       "      <td>Economics</td>\n",
       "      <td>Social and related sciences</td>\n",
       "      <td>No</td>\n",
       "      <td>No</td>\n",
       "      <td>No</td>\n",
       "      <td>No</td>\n",
       "      <td>No</td>\n",
       "      <td>No</td>\n",
       "      <td>No</td>\n",
       "      <td>No</td>\n",
       "      <td>(50, 60]</td>\n",
       "      <td>(100000, 200000]</td>\n",
       "    </tr>\n",
       "    <tr>\n",
       "      <th>19673</th>\n",
       "      <td>E11064524</td>\n",
       "      <td>60</td>\n",
       "      <td>Male</td>\n",
       "      <td>No</td>\n",
       "      <td>Asian</td>\n",
       "      <td>Not in the US</td>\n",
       "      <td>Yes</td>\n",
       "      <td>By naturalization</td>\n",
       "      <td>None</td>\n",
       "      <td>36 - 40 hours</td>\n",
       "      <td>$51,000.00</td>\n",
       "      <td>Yes</td>\n",
       "      <td>Yes</td>\n",
       "      <td>No</td>\n",
       "      <td>Yes</td>\n",
       "      <td>Closely related</td>\n",
       "      <td>Civil engineers</td>\n",
       "      <td>Engineers</td>\n",
       "      <td>Government</td>\n",
       "      <td>5000-24999 employees</td>\n",
       "      <td>Management and Administration</td>\n",
       "      <td>Management and Administration</td>\n",
       "      <td>Other work activity</td>\n",
       "      <td>Other</td>\n",
       "      <td>No</td>\n",
       "      <td>No</td>\n",
       "      <td>Yes</td>\n",
       "      <td>No</td>\n",
       "      <td>No</td>\n",
       "      <td>No</td>\n",
       "      <td>No</td>\n",
       "      <td>No</td>\n",
       "      <td>No</td>\n",
       "      <td>No</td>\n",
       "      <td>Yes</td>\n",
       "      <td>Yes</td>\n",
       "      <td>No</td>\n",
       "      <td>No</td>\n",
       "      <td>No</td>\n",
       "      <td>No</td>\n",
       "      <td>No</td>\n",
       "      <td>No</td>\n",
       "      <td>No</td>\n",
       "      <td>No</td>\n",
       "      <td>No</td>\n",
       "      <td>No</td>\n",
       "      <td>No memberships</td>\n",
       "      <td>No</td>\n",
       "      <td>No</td>\n",
       "      <td>No</td>\n",
       "      <td>No</td>\n",
       "      <td>No</td>\n",
       "      <td>No</td>\n",
       "      <td>No</td>\n",
       "      <td>No</td>\n",
       "      <td>No</td>\n",
       "      <td>No</td>\n",
       "      <td>2</td>\n",
       "      <td>Somewhat satisfied</td>\n",
       "      <td>Very satisfied</td>\n",
       "      <td>Very satisfied</td>\n",
       "      <td>Very satisfied</td>\n",
       "      <td>Very satisfied</td>\n",
       "      <td>Very satisfied</td>\n",
       "      <td>Somewhat dissatisfied</td>\n",
       "      <td>Somewhat satisfied</td>\n",
       "      <td>Very satisfied</td>\n",
       "      <td>No</td>\n",
       "      <td>Other</td>\n",
       "      <td>No</td>\n",
       "      <td>No</td>\n",
       "      <td>No</td>\n",
       "      <td>No</td>\n",
       "      <td>No</td>\n",
       "      <td>No</td>\n",
       "      <td>No</td>\n",
       "      <td>Yes</td>\n",
       "      <td>No</td>\n",
       "      <td>No</td>\n",
       "      <td>Bachelor</td>\n",
       "      <td>Civil engineering</td>\n",
       "      <td>Engineering</td>\n",
       "      <td>No</td>\n",
       "      <td>No</td>\n",
       "      <td>No</td>\n",
       "      <td>No</td>\n",
       "      <td>No</td>\n",
       "      <td>No</td>\n",
       "      <td>No</td>\n",
       "      <td>No</td>\n",
       "      <td>(50, 60]</td>\n",
       "      <td>(50000, 60000]</td>\n",
       "    </tr>\n",
       "    <tr>\n",
       "      <th>53410</th>\n",
       "      <td>E11773439</td>\n",
       "      <td>27</td>\n",
       "      <td>Female</td>\n",
       "      <td>No</td>\n",
       "      <td>White</td>\n",
       "      <td>United States</td>\n",
       "      <td>Yes</td>\n",
       "      <td>Born in US or US territories</td>\n",
       "      <td>None</td>\n",
       "      <td>36 - 40 hours</td>\n",
       "      <td>$50,000.00</td>\n",
       "      <td>No</td>\n",
       "      <td>No</td>\n",
       "      <td>Yes</td>\n",
       "      <td>Yes</td>\n",
       "      <td>Closely related</td>\n",
       "      <td>Health-related occupations</td>\n",
       "      <td>Science and engineering related occupations</td>\n",
       "      <td>Business or industry</td>\n",
       "      <td>25000+ employees</td>\n",
       "      <td>Professional services</td>\n",
       "      <td>Other</td>\n",
       "      <td>Teaching</td>\n",
       "      <td>Teaching</td>\n",
       "      <td>No</td>\n",
       "      <td>No</td>\n",
       "      <td>No</td>\n",
       "      <td>No</td>\n",
       "      <td>Yes</td>\n",
       "      <td>No</td>\n",
       "      <td>Yes</td>\n",
       "      <td>Yes</td>\n",
       "      <td>Yes</td>\n",
       "      <td>No</td>\n",
       "      <td>Yes</td>\n",
       "      <td>Yes</td>\n",
       "      <td>No</td>\n",
       "      <td>Yes</td>\n",
       "      <td>Yes</td>\n",
       "      <td>Yes</td>\n",
       "      <td>Yes</td>\n",
       "      <td>No</td>\n",
       "      <td>Yes</td>\n",
       "      <td>Yes</td>\n",
       "      <td>No</td>\n",
       "      <td>No</td>\n",
       "      <td>1 membership</td>\n",
       "      <td>No</td>\n",
       "      <td>No</td>\n",
       "      <td>No</td>\n",
       "      <td>No</td>\n",
       "      <td>No</td>\n",
       "      <td>No</td>\n",
       "      <td>No</td>\n",
       "      <td>No</td>\n",
       "      <td>No</td>\n",
       "      <td>No</td>\n",
       "      <td>2</td>\n",
       "      <td>Very satisfied</td>\n",
       "      <td>Somewhat satisfied</td>\n",
       "      <td>Very satisfied</td>\n",
       "      <td>Somewhat satisfied</td>\n",
       "      <td>Very satisfied</td>\n",
       "      <td>Very satisfied</td>\n",
       "      <td>Somewhat satisfied</td>\n",
       "      <td>Very satisfied</td>\n",
       "      <td>Very satisfied</td>\n",
       "      <td>Yes</td>\n",
       "      <td>For certification</td>\n",
       "      <td>No</td>\n",
       "      <td>Yes</td>\n",
       "      <td>Yes</td>\n",
       "      <td>Yes</td>\n",
       "      <td>No</td>\n",
       "      <td>No</td>\n",
       "      <td>Yes</td>\n",
       "      <td>Yes</td>\n",
       "      <td>Yes</td>\n",
       "      <td>No</td>\n",
       "      <td>Bachelor</td>\n",
       "      <td>Health-related fields</td>\n",
       "      <td>Science and engineering-related fields</td>\n",
       "      <td>No</td>\n",
       "      <td>No</td>\n",
       "      <td>No</td>\n",
       "      <td>No</td>\n",
       "      <td>No</td>\n",
       "      <td>No</td>\n",
       "      <td>No</td>\n",
       "      <td>No</td>\n",
       "      <td>(20, 30]</td>\n",
       "      <td>(40000, 50000]</td>\n",
       "    </tr>\n",
       "    <tr>\n",
       "      <th>38316</th>\n",
       "      <td>E11467032</td>\n",
       "      <td>32</td>\n",
       "      <td>Female</td>\n",
       "      <td>Yes</td>\n",
       "      <td>Under-represented minorities</td>\n",
       "      <td>Not in the US</td>\n",
       "      <td>No</td>\n",
       "      <td>None</td>\n",
       "      <td>None</td>\n",
       "      <td>20 or less</td>\n",
       "      <td>$23,000.00</td>\n",
       "      <td>Yes</td>\n",
       "      <td>No</td>\n",
       "      <td>No</td>\n",
       "      <td>Yes</td>\n",
       "      <td>Somewhat related</td>\n",
       "      <td>Mechanical engineers</td>\n",
       "      <td>Engineers</td>\n",
       "      <td>4 year college or medical institution</td>\n",
       "      <td>5000-24999 employees</td>\n",
       "      <td>Basic research</td>\n",
       "      <td>Research and Development</td>\n",
       "      <td>Applied research</td>\n",
       "      <td>Research and Development</td>\n",
       "      <td>No</td>\n",
       "      <td>No</td>\n",
       "      <td>No</td>\n",
       "      <td>Yes</td>\n",
       "      <td>Yes</td>\n",
       "      <td>Yes</td>\n",
       "      <td>No</td>\n",
       "      <td>Yes</td>\n",
       "      <td>Yes</td>\n",
       "      <td>No</td>\n",
       "      <td>Yes</td>\n",
       "      <td>No</td>\n",
       "      <td>No</td>\n",
       "      <td>No</td>\n",
       "      <td>No</td>\n",
       "      <td>No</td>\n",
       "      <td>No</td>\n",
       "      <td>No</td>\n",
       "      <td>Yes</td>\n",
       "      <td>Yes</td>\n",
       "      <td>No</td>\n",
       "      <td>No</td>\n",
       "      <td>1 membership</td>\n",
       "      <td>No</td>\n",
       "      <td>No</td>\n",
       "      <td>No</td>\n",
       "      <td>No</td>\n",
       "      <td>No</td>\n",
       "      <td>No</td>\n",
       "      <td>No</td>\n",
       "      <td>No</td>\n",
       "      <td>No</td>\n",
       "      <td>No</td>\n",
       "      <td>2</td>\n",
       "      <td>Somewhat satisfied</td>\n",
       "      <td>Somewhat satisfied</td>\n",
       "      <td>Very satisfied</td>\n",
       "      <td>Somewhat satisfied</td>\n",
       "      <td>Very satisfied</td>\n",
       "      <td>Very satisfied</td>\n",
       "      <td>Somewhat dissatisfied</td>\n",
       "      <td>Somewhat satisfied</td>\n",
       "      <td>Very satisfied</td>\n",
       "      <td>No</td>\n",
       "      <td>Other</td>\n",
       "      <td>No</td>\n",
       "      <td>No</td>\n",
       "      <td>No</td>\n",
       "      <td>No</td>\n",
       "      <td>No</td>\n",
       "      <td>No</td>\n",
       "      <td>No</td>\n",
       "      <td>Yes</td>\n",
       "      <td>No</td>\n",
       "      <td>No</td>\n",
       "      <td>Master</td>\n",
       "      <td>Other engineering</td>\n",
       "      <td>Engineering</td>\n",
       "      <td>Yes</td>\n",
       "      <td>Yes</td>\n",
       "      <td>Yes</td>\n",
       "      <td>Yes</td>\n",
       "      <td>No</td>\n",
       "      <td>No</td>\n",
       "      <td>No</td>\n",
       "      <td>Yes</td>\n",
       "      <td>(30, 40]</td>\n",
       "      <td>(20000, 30000]</td>\n",
       "    </tr>\n",
       "    <tr>\n",
       "      <th>23094</th>\n",
       "      <td>E11139813</td>\n",
       "      <td>47</td>\n",
       "      <td>Female</td>\n",
       "      <td>Yes</td>\n",
       "      <td>Under-represented minorities</td>\n",
       "      <td>United States</td>\n",
       "      <td>Yes</td>\n",
       "      <td>Born in US or US territories</td>\n",
       "      <td>Two or more children</td>\n",
       "      <td>Greater than 40 hours</td>\n",
       "      <td>$43,000.00</td>\n",
       "      <td>Yes</td>\n",
       "      <td>Yes</td>\n",
       "      <td>No</td>\n",
       "      <td>Yes</td>\n",
       "      <td>Not related</td>\n",
       "      <td>Other management related occupations</td>\n",
       "      <td>Non-science and engineering occupations</td>\n",
       "      <td>Business or industry</td>\n",
       "      <td>1000-4999 employees</td>\n",
       "      <td>Accounting, finance, contracts</td>\n",
       "      <td>Management and Administration</td>\n",
       "      <td>Management and Administration</td>\n",
       "      <td>Management and Administration</td>\n",
       "      <td>No</td>\n",
       "      <td>No</td>\n",
       "      <td>Yes</td>\n",
       "      <td>No</td>\n",
       "      <td>No</td>\n",
       "      <td>No</td>\n",
       "      <td>No</td>\n",
       "      <td>No</td>\n",
       "      <td>No</td>\n",
       "      <td>Yes</td>\n",
       "      <td>Yes</td>\n",
       "      <td>No</td>\n",
       "      <td>No</td>\n",
       "      <td>No</td>\n",
       "      <td>No</td>\n",
       "      <td>No</td>\n",
       "      <td>Yes</td>\n",
       "      <td>Yes</td>\n",
       "      <td>No</td>\n",
       "      <td>No</td>\n",
       "      <td>No</td>\n",
       "      <td>No</td>\n",
       "      <td>No memberships</td>\n",
       "      <td>No</td>\n",
       "      <td>Family-related reasons</td>\n",
       "      <td>No second most important reason</td>\n",
       "      <td>No</td>\n",
       "      <td>No</td>\n",
       "      <td>Yes</td>\n",
       "      <td>No</td>\n",
       "      <td>No</td>\n",
       "      <td>No</td>\n",
       "      <td>No</td>\n",
       "      <td>4</td>\n",
       "      <td>Very dissatisfied</td>\n",
       "      <td>Somewhat satisfied</td>\n",
       "      <td>Very dissatisfied</td>\n",
       "      <td>Very dissatisfied</td>\n",
       "      <td>Very satisfied</td>\n",
       "      <td>Very dissatisfied</td>\n",
       "      <td>Very dissatisfied</td>\n",
       "      <td>Very satisfied</td>\n",
       "      <td>Very dissatisfied</td>\n",
       "      <td>No</td>\n",
       "      <td>Other</td>\n",
       "      <td>No</td>\n",
       "      <td>No</td>\n",
       "      <td>No</td>\n",
       "      <td>No</td>\n",
       "      <td>No</td>\n",
       "      <td>No</td>\n",
       "      <td>No</td>\n",
       "      <td>No</td>\n",
       "      <td>Yes</td>\n",
       "      <td>No</td>\n",
       "      <td>Master</td>\n",
       "      <td>Other non-science and engineering</td>\n",
       "      <td>Non-science and engineering fields</td>\n",
       "      <td>Yes</td>\n",
       "      <td>No</td>\n",
       "      <td>Yes</td>\n",
       "      <td>No</td>\n",
       "      <td>Yes</td>\n",
       "      <td>No</td>\n",
       "      <td>Yes</td>\n",
       "      <td>Yes</td>\n",
       "      <td>(40, 50]</td>\n",
       "      <td>(40000, 50000]</td>\n",
       "    </tr>\n",
       "  </tbody>\n",
       "</table>\n",
       "</div>"
      ],
      "text/plain": [
       "            REFID  AGE  GENDER MINORITY                          RACE    BIRTH_PLACE US_CITIZENSHIP               US_CITIZEN_TYPE        TOTAL_CHILDREN           HOURS_WORKED       SALARY  HAVE_HEALTH_CARE HAVE_PENSION HAVE_PROFIT_SHARE HAVE_VACATION PRINCIPAL_POSITION_RELATED_HIGH_DEGREE                    PRINCIPAL_POSITION                        PRINCIPAL_MAJOR_GROUP                        EMPLOYER_SECTOR         EMPLOYER_SIZE                   WORK_ACTIVITY              WORK_ACTIVITY_SUM           WORK_ACTIVITY_SECOND       WORK_ACTIVITY_SCEOND_SUM COMPUTER DEVELOPMENT_AND_DESIGN MANAGEMENT_SALES RESEARCH_AND_DEVELOPMENT RESEARCH_DEVE_TEACHING ACTIVITY_RESEARCH ACTIVITY_TEACHING WORK_DEVELOPMENT WORK_DESIGN WORK_EMPLOYEE_RELATIONS WORK_MANAGEMENT_ADMIN WORK_OTHER WORK_PRODUCTION WORK_QUALITY_MANAGEMENT WORK_SALES_MARKETING WORK_PROFESSIONAL_SERVICES WORK_TEACHING WORK_FINANCE WORK_APPLIED_RESEARCH WORK_RESEARCH WORK_COMPUTER_APPLICATIONS SUPERVISORY_WORK     MEMEBERSHIP ATTENED_PROFESSIONAL_MEET WORK_OUTSIDE_DEGREE_FOR_FIRST_REASON WORK_OUTSIDE_DEGREE_FOR_SECOND_REASON WORK_OUTSIDE_DEGREE_FOR_CAREER_CHANGE WORK_OUTSIDE_DEGREE_FOR_WORK_COND WORK_OUTSIDE_DEGREE_FOR_FAMILY WORK_OUTSIDE_DEGREE_FOR_LOC WORK_OUTSIDE_DEGREE_FOR_NOT_AVAIL WORK_OUTSIDE_DEGREE_FOR_OTHER WORK_OUTSIDE_DEGREE_FOR_PAY_PROMOTE SATISFACTION_JOB SATISFACTION_JOB_ADVANCE SATISFACTION_JOB_BENEFITS SATISFACTION_JOB_CHALLENGE SATISFACTION_JOB_INDEP SATISFACTION_JOB_LOC SATISFACTION_JOB_RESP SATISFACTION_JOB_SALARY SATISFACTION_JOB_SECURITY SATISFACTION_JOB_CONTRIB_SOCIETY ATTEND_TRAINING_WORK_RELATE    ATTEND_TRAINING ATTEND_TRAINING_CHANGE_FIELD ATTEND_TRAINING_BY_EMPLOYER ATTEND_TRAINING_CERT ATTEND_TRAINING_INCREASE_ADV_CUR ATTEND_TRAINING_OTHER ATTEND_TRAINING_PERSONAL ATTEND_TRAINING_ACQUIRE_SKILL JOB_REQUIRED_TECH_NATURAL_SCIENCES JOB_REQUIRED_TECH_OTHER JOB_REQUIRED_TECH_SOCIAL_SCIENCES RECENT_DEGREE          FIELD_MAJOR_RECENT_DEGREE         FIELD_MAJOR_GROUP_RECENT_DEGREE  \\\n",
       "40597   E11514734   53    Male       No                         White  Not in the US            Yes             By naturalization                  None  Greater than 40 hours  $125,000.00               Yes          Yes                No           Yes                        Closely related  Other management related occupations      Non-science and engineering occupations                   Business or industry      25000+ employees           Professional services                          Other   Sales, purchasing, marketing  Management and Administration       No                     No              Yes                       No                     No                No                No               No          No                      No                    No         No              No                      No                  Yes                        Yes            No          Yes                    No            No                         No               No   2 memberships                       Yes                                   No                                 No                                       No                                No                             No                          No                                No                            No                                  No                1       Somewhat satisfied            Very satisfied             Very satisfied         Very satisfied       Very satisfied        Very satisfied          Very satisfied            Very satisfied                   Very satisfied                         Yes  For certification                           No                          No                  Yes                               No                    No                       No                           Yes                                 No                     Yes                                No        Master                          Economics             Social and related sciences   \n",
       "19673   E11064524   60    Male       No                         Asian  Not in the US            Yes             By naturalization                  None          36 - 40 hours   $51,000.00               Yes          Yes                No           Yes                        Closely related                       Civil engineers                                    Engineers                             Government  5000-24999 employees   Management and Administration  Management and Administration            Other work activity                          Other       No                     No              Yes                       No                     No                No                No               No          No                      No                   Yes        Yes              No                      No                   No                         No            No           No                    No            No                         No               No  No memberships                        No                                   No                                 No                                       No                                No                             No                          No                                No                            No                                  No                2       Somewhat satisfied            Very satisfied             Very satisfied         Very satisfied       Very satisfied        Very satisfied   Somewhat dissatisfied        Somewhat satisfied                   Very satisfied                          No              Other                           No                          No                   No                               No                    No                       No                            No                                Yes                      No                                No      Bachelor                  Civil engineering                             Engineering   \n",
       "53410   E11773439   27  Female       No                         White  United States            Yes  Born in US or US territories                  None          36 - 40 hours   $50,000.00                No           No               Yes           Yes                        Closely related            Health-related occupations  Science and engineering related occupations                   Business or industry      25000+ employees           Professional services                          Other                       Teaching                       Teaching       No                     No               No                       No                    Yes                No               Yes              Yes         Yes                      No                   Yes        Yes              No                     Yes                  Yes                        Yes           Yes           No                   Yes           Yes                         No               No    1 membership                        No                                   No                                 No                                       No                                No                             No                          No                                No                            No                                  No                2           Very satisfied        Somewhat satisfied             Very satisfied     Somewhat satisfied       Very satisfied        Very satisfied      Somewhat satisfied            Very satisfied                   Very satisfied                         Yes  For certification                           No                         Yes                  Yes                              Yes                    No                       No                           Yes                                Yes                     Yes                                No      Bachelor              Health-related fields  Science and engineering-related fields   \n",
       "38316   E11467032   32  Female      Yes  Under-represented minorities  Not in the US             No                          None                  None             20 or less   $23,000.00               Yes           No                No           Yes                       Somewhat related                  Mechanical engineers                                    Engineers  4 year college or medical institution  5000-24999 employees                  Basic research       Research and Development               Applied research       Research and Development       No                     No               No                      Yes                    Yes               Yes                No              Yes         Yes                      No                   Yes         No              No                      No                   No                         No            No           No                   Yes           Yes                         No               No    1 membership                        No                                   No                                 No                                       No                                No                             No                          No                                No                            No                                  No                2       Somewhat satisfied        Somewhat satisfied             Very satisfied     Somewhat satisfied       Very satisfied        Very satisfied   Somewhat dissatisfied        Somewhat satisfied                   Very satisfied                          No              Other                           No                          No                   No                               No                    No                       No                            No                                Yes                      No                                No        Master                  Other engineering                             Engineering   \n",
       "23094   E11139813   47  Female      Yes  Under-represented minorities  United States            Yes  Born in US or US territories  Two or more children  Greater than 40 hours   $43,000.00               Yes          Yes                No           Yes                            Not related  Other management related occupations      Non-science and engineering occupations                   Business or industry   1000-4999 employees  Accounting, finance, contracts  Management and Administration  Management and Administration  Management and Administration       No                     No              Yes                       No                     No                No                No               No          No                     Yes                   Yes         No              No                      No                   No                         No           Yes          Yes                    No            No                         No               No  No memberships                        No               Family-related reasons       No second most important reason                                    No                                No                            Yes                          No                                No                            No                                  No                4        Very dissatisfied        Somewhat satisfied          Very dissatisfied      Very dissatisfied       Very satisfied     Very dissatisfied       Very dissatisfied            Very satisfied                Very dissatisfied                          No              Other                           No                          No                   No                               No                    No                       No                            No                                 No                     Yes                                No        Master  Other non-science and engineering      Non-science and engineering fields   \n",
       "\n",
       "      REASON_EDUCATION_ADVANCE_OPPORTUNITIES REASON_EDUCATION_BEFORE_CAREER REASON_EDUCATION_CHANGE_CAREER REASON_EDUCATION_PERSONAL REASON_EDUCATION_CERIFICATION REASON_EDUCATION_BY_EMPLOYER REASON_EDUCATION_ADVANCE_SKILL_IN_FIELD REASON_EDUCATION_PAID_BY_EMPLOYER  AGE_BINS       SALARY_BINS  \n",
       "40597                                     No                             No                             No                        No                            No                           No                                      No                                No  (50, 60]  (100000, 200000]  \n",
       "19673                                     No                             No                             No                        No                            No                           No                                      No                                No  (50, 60]    (50000, 60000]  \n",
       "53410                                     No                             No                             No                        No                            No                           No                                      No                                No  (20, 30]    (40000, 50000]  \n",
       "38316                                    Yes                            Yes                            Yes                       Yes                            No                           No                                      No                               Yes  (30, 40]    (20000, 30000]  \n",
       "23094                                    Yes                             No                            Yes                        No                           Yes                           No                                     Yes                               Yes  (40, 50]    (40000, 50000]  "
      ]
     },
     "execution_count": 567,
     "metadata": {},
     "output_type": "execute_result"
    }
   ],
   "source": [
    "dataset.sample(5)"
   ]
  },
  {
   "cell_type": "code",
   "execution_count": 568,
   "metadata": {},
   "outputs": [],
   "source": [
    "exploreme = dataset"
   ]
  },
  {
   "cell_type": "code",
   "execution_count": 569,
   "metadata": {},
   "outputs": [],
   "source": [
    "modelme = dataset"
   ]
  },
  {
   "cell_type": "code",
   "execution_count": 628,
   "metadata": {},
   "outputs": [],
   "source": [
    "modelmetwo = dataset"
   ]
  },
  {
   "cell_type": "code",
   "execution_count": 570,
   "metadata": {},
   "outputs": [],
   "source": [
    "backupdata = dataset"
   ]
  },
  {
   "cell_type": "code",
   "execution_count": 571,
   "metadata": {},
   "outputs": [],
   "source": [
    "backmeup = dataset"
   ]
  },
  {
   "cell_type": "code",
   "execution_count": 572,
   "metadata": {},
   "outputs": [],
   "source": [
    "checkme = dataset "
   ]
  },
  {
   "cell_type": "code",
   "execution_count": 573,
   "metadata": {},
   "outputs": [],
   "source": [
    "modelme = modelme.drop('REFID', axis=1)"
   ]
  },
  {
   "cell_type": "code",
   "execution_count": 574,
   "metadata": {},
   "outputs": [],
   "source": [
    "modelme = modelme.drop('SALARY_BINS', axis=1)"
   ]
  },
  {
   "cell_type": "code",
   "execution_count": 575,
   "metadata": {},
   "outputs": [],
   "source": [
    "modelme = modelme.drop('AGE_BINS', axis=1)"
   ]
  },
  {
   "cell_type": "code",
   "execution_count": 576,
   "metadata": {},
   "outputs": [],
   "source": [
    "modelme = modelme.drop(' SALARY ', axis=1)"
   ]
  },
  {
   "cell_type": "code",
   "execution_count": 577,
   "metadata": {},
   "outputs": [],
   "source": [
    "modelme = modelme.drop('AGE', axis=1)"
   ]
  },
  {
   "cell_type": "code",
   "execution_count": 578,
   "metadata": {},
   "outputs": [],
   "source": [
    "X = modelme.drop('SATISFACTION_JOB', axis=1)"
   ]
  },
  {
   "cell_type": "code",
   "execution_count": 579,
   "metadata": {},
   "outputs": [],
   "source": [
    "yone = modelme['SATISFACTION_JOB']"
   ]
  },
  {
   "cell_type": "code",
   "execution_count": 580,
   "metadata": {},
   "outputs": [
    {
     "data": {
      "text/plain": [
       "array(['1', '2', '3', '4'], dtype=object)"
      ]
     },
     "execution_count": 580,
     "metadata": {},
     "output_type": "execute_result"
    }
   ],
   "source": [
    "yone.unique()"
   ]
  },
  {
   "cell_type": "code",
   "execution_count": 581,
   "metadata": {},
   "outputs": [],
   "source": [
    "y_colnameone = yone.replace(to_replace=1, value = \"Very satisfied\")"
   ]
  },
  {
   "cell_type": "code",
   "execution_count": 582,
   "metadata": {},
   "outputs": [],
   "source": [
    "y_colnametwo = y_colnameone.replace(to_replace=2, value = \"Somewhat satisfied\")"
   ]
  },
  {
   "cell_type": "code",
   "execution_count": 583,
   "metadata": {},
   "outputs": [],
   "source": [
    "y_colnamethree = y_colnametwo.replace(to_replace=3, value = \"Somewhat dissatisfied\")"
   ]
  },
  {
   "cell_type": "code",
   "execution_count": 584,
   "metadata": {},
   "outputs": [],
   "source": [
    "y_colnamefour = y_colnamethree.replace(to_replace=4, value = \"Very dissatisfied\")"
   ]
  },
  {
   "cell_type": "code",
   "execution_count": 585,
   "metadata": {},
   "outputs": [],
   "source": [
    "y_col = y_colnamefour"
   ]
  },
  {
   "cell_type": "code",
   "execution_count": 586,
   "metadata": {},
   "outputs": [],
   "source": [
    "X = X.apply(LabelEncoder().fit_transform)"
   ]
  },
  {
   "cell_type": "code",
   "execution_count": 587,
   "metadata": {},
   "outputs": [],
   "source": [
    "yone = yone.astype(str).astype(int)"
   ]
  },
  {
   "cell_type": "code",
   "execution_count": 588,
   "metadata": {},
   "outputs": [],
   "source": [
    "y = yone"
   ]
  },
  {
   "cell_type": "code",
   "execution_count": 589,
   "metadata": {},
   "outputs": [
    {
     "data": {
      "text/plain": [
       "array([1, 1, 2, ..., 2, 1, 2])"
      ]
     },
     "execution_count": 589,
     "metadata": {},
     "output_type": "execute_result"
    }
   ],
   "source": [
    "y.values"
   ]
  },
  {
   "cell_type": "code",
   "execution_count": 590,
   "metadata": {},
   "outputs": [
    {
     "data": {
      "text/plain": [
       "array([1, 1, 2, ..., 2, 1, 2])"
      ]
     },
     "execution_count": 590,
     "metadata": {},
     "output_type": "execute_result"
    }
   ],
   "source": [
    "y.to_numpy()"
   ]
  },
  {
   "cell_type": "code",
   "execution_count": 591,
   "metadata": {},
   "outputs": [
    {
     "data": {
      "text/plain": [
       "(62373, 86)"
      ]
     },
     "execution_count": 591,
     "metadata": {},
     "output_type": "execute_result"
    }
   ],
   "source": [
    "X.shape"
   ]
  },
  {
   "cell_type": "code",
   "execution_count": 592,
   "metadata": {},
   "outputs": [
    {
     "data": {
      "text/plain": [
       "(62373,)"
      ]
     },
     "execution_count": 592,
     "metadata": {},
     "output_type": "execute_result"
    }
   ],
   "source": [
    "y.shape"
   ]
  },
  {
   "cell_type": "code",
   "execution_count": 593,
   "metadata": {},
   "outputs": [],
   "source": [
    "y_colnameone = yone.replace(to_replace=1, value = \"Very satisfied\")"
   ]
  },
  {
   "cell_type": "code",
   "execution_count": 594,
   "metadata": {},
   "outputs": [],
   "source": [
    "y_colnametwo = y_colnameone.replace(to_replace=2, value = \"Somewhat satisfied\")"
   ]
  },
  {
   "cell_type": "code",
   "execution_count": 595,
   "metadata": {},
   "outputs": [],
   "source": [
    "y_colnamethree = y_colnametwo.replace(to_replace=3, value = \"Somewhat dissatisfied\")"
   ]
  },
  {
   "cell_type": "code",
   "execution_count": 596,
   "metadata": {},
   "outputs": [],
   "source": [
    "#y_colnamethree"
   ]
  },
  {
   "cell_type": "code",
   "execution_count": 597,
   "metadata": {},
   "outputs": [],
   "source": [
    "y_colnamefour = y_colnamethree.replace(to_replace=4, value = \"Very dissatisfied\")"
   ]
  },
  {
   "cell_type": "code",
   "execution_count": 598,
   "metadata": {},
   "outputs": [],
   "source": [
    "#y_colnamefour"
   ]
  },
  {
   "cell_type": "code",
   "execution_count": 599,
   "metadata": {},
   "outputs": [],
   "source": [
    "y_colnames = y_colnamefour"
   ]
  },
  {
   "cell_type": "code",
   "execution_count": 600,
   "metadata": {},
   "outputs": [],
   "source": [
    "#y_colnames\n"
   ]
  },
  {
   "cell_type": "code",
   "execution_count": 601,
   "metadata": {},
   "outputs": [],
   "source": [
    "X_colnames = X.columns"
   ]
  },
  {
   "cell_type": "code",
   "execution_count": 602,
   "metadata": {},
   "outputs": [],
   "source": [
    "modelme_columns = modelme.columns"
   ]
  },
  {
   "cell_type": "code",
   "execution_count": 603,
   "metadata": {},
   "outputs": [],
   "source": [
    "#y_colnames\n",
    "#X_colnames"
   ]
  },
  {
   "cell_type": "code",
   "execution_count": 604,
   "metadata": {},
   "outputs": [
    {
     "data": {
      "text/plain": [
       "(62373, 86)"
      ]
     },
     "execution_count": 604,
     "metadata": {},
     "output_type": "execute_result"
    }
   ],
   "source": [
    "X.shape"
   ]
  },
  {
   "cell_type": "code",
   "execution_count": 605,
   "metadata": {},
   "outputs": [
    {
     "data": {
      "text/plain": [
       "(62373,)"
      ]
     },
     "execution_count": 605,
     "metadata": {},
     "output_type": "execute_result"
    }
   ],
   "source": [
    "y.shape"
   ]
  },
  {
   "cell_type": "code",
   "execution_count": 606,
   "metadata": {},
   "outputs": [],
   "source": [
    "X_backup = X"
   ]
  },
  {
   "cell_type": "code",
   "execution_count": 607,
   "metadata": {},
   "outputs": [],
   "source": [
    "y_backup = y"
   ]
  },
  {
   "cell_type": "code",
   "execution_count": 608,
   "metadata": {},
   "outputs": [],
   "source": [
    "X_backupone = X"
   ]
  },
  {
   "cell_type": "code",
   "execution_count": 609,
   "metadata": {},
   "outputs": [],
   "source": [
    "y_backupone = y"
   ]
  },
  {
   "cell_type": "code",
   "execution_count": 610,
   "metadata": {},
   "outputs": [],
   "source": [
    "X_backuptwo = X"
   ]
  },
  {
   "cell_type": "code",
   "execution_count": 611,
   "metadata": {},
   "outputs": [],
   "source": [
    "y_backuptwo = y"
   ]
  },
  {
   "cell_type": "code",
   "execution_count": 612,
   "metadata": {},
   "outputs": [],
   "source": [
    "X_train, X_test, y_train, y_test = train_test_split(X, y, test_size = 0.2)"
   ]
  },
  {
   "cell_type": "code",
   "execution_count": 613,
   "metadata": {},
   "outputs": [],
   "source": [
    "dtree_score1 =[];dtree_score2 =[];dtree_score3 =[];dtree_score4 =[]"
   ]
  },
  {
   "cell_type": "code",
   "execution_count": 614,
   "metadata": {},
   "outputs": [],
   "source": [
    "dtree = DecisionTreeClassifier(random_state = 1111, max_depth = 4);dtree.fit(X_train, y_train)\n",
    "dtree_score1.append(dtree.score(X_test, y_test))"
   ]
  },
  {
   "cell_type": "code",
   "execution_count": 615,
   "metadata": {},
   "outputs": [],
   "source": [
    "dtree = DecisionTreeClassifier(random_state = 1111, max_depth = 8);dtree.fit(X_train, y_train)\n",
    "dtree_score2.append(dtree.score(X_test, y_test))"
   ]
  },
  {
   "cell_type": "code",
   "execution_count": 616,
   "metadata": {},
   "outputs": [],
   "source": [
    "dtree = DecisionTreeClassifier(random_state = 1111, max_depth = 12);dtree.fit(X_train, y_train)\n",
    "dtree_score3.append(dtree.score(X_test, y_test))"
   ]
  },
  {
   "cell_type": "code",
   "execution_count": 617,
   "metadata": {},
   "outputs": [],
   "source": [
    "dtree = DecisionTreeClassifier(random_state = 1111, max_depth = 16);dtree.fit(X_train, y_train)\n",
    "dtree_score4.append(dtree.score(X_test, y_test))"
   ]
  },
  {
   "cell_type": "code",
   "execution_count": 618,
   "metadata": {},
   "outputs": [
    {
     "data": {
      "text/plain": [
       "Text(0, 0.5, 'Test Accuracy')"
      ]
     },
     "execution_count": 618,
     "metadata": {},
     "output_type": "execute_result"
    },
    {
     "data": {
      "image/png": "[encoded data removed]",
      "text/plain": [
       "<Figure size 432x288 with 1 Axes>"
      ]
     },
     "metadata": {
      "needs_background": "light"
     },
     "output_type": "display_data"
    }
   ],
   "source": [
    "sns.barplot(data=[dtree_score1, dtree_score2, dtree_score3, dtree_score4])\n",
    "plt.xticks([0,1,2,3], ['Very satisfied', 'Somewhat satisfied', 'Somewhat dissatisfied', 'Very dissatisfied'])\n",
    "plt.ylabel('Test Accuracy')"
   ]
  },
  {
   "cell_type": "code",
   "execution_count": 619,
   "metadata": {},
   "outputs": [
    {
     "data": {
      "text/plain": [
       "Text(0, 0.5, 'Test Accuracy')"
      ]
     },
     "execution_count": 619,
     "metadata": {},
     "output_type": "execute_result"
    },
    {
     "data": {
      "image/png": "[encoded data removed]",
      "text/plain": [
       "<Figure size 432x288 with 1 Axes>"
      ]
     },
     "metadata": {
      "needs_background": "light"
     },
     "output_type": "display_data"
    }
   ],
   "source": [
    "sns.boxplot(data=[dtree_score1, dtree_score2, dtree_score3, dtree_score4])\n",
    "plt.xticks([0,1,2,3], ['Very satisfied', 'Somewhat satisfied', 'Somewhat dissatisfied', 'Very dissatisfied'])\n",
    "plt.ylabel('Test Accuracy')"
   ]
  },
  {
   "cell_type": "code",
   "execution_count": 620,
   "metadata": {},
   "outputs": [
    {
     "data": {
      "text/plain": [
       "Text(0, 0.5, 'Test Accuracy')"
      ]
     },
     "execution_count": 620,
     "metadata": {},
     "output_type": "execute_result"
    },
    {
     "data": {
      "image/png": "[encoded data removed]",
      "text/plain": [
       "<Figure size 432x288 with 1 Axes>"
      ]
     },
     "metadata": {
      "needs_background": "light"
     },
     "output_type": "display_data"
    }
   ],
   "source": [
    "sns.stripplot(data=[dtree_score1, dtree_score2, dtree_score3, dtree_score4])\n",
    "plt.xticks([0,1,2,3], ['Very satisfied', 'Somewhat satisfied', 'Somewhat dissatisfied', 'Very dissatisfied'])\n",
    "plt.ylabel('Test Accuracy')"
   ]
  },
  {
   "cell_type": "code",
   "execution_count": 621,
   "metadata": {},
   "outputs": [
    {
     "name": "stdout",
     "output_type": "stream",
     "text": [
      "\n",
      "<class 'pandas.core.frame.DataFrame'>\n",
      "RangeIndex: 62373 entries, 0 to 62372\n",
      "Data columns (total 87 columns):\n",
      "GENDER                                     62373 non-null object\n",
      "MINORITY                                   62373 non-null object\n",
      "RACE                                       62373 non-null object\n",
      "BIRTH_PLACE                                62373 non-null object\n",
      "US_CITIZENSHIP                             62373 non-null object\n",
      "US_CITIZEN_TYPE                            62373 non-null object\n",
      "TOTAL_CHILDREN                             62373 non-null object\n",
      "HOURS_WORKED                               62373 non-null object\n",
      "HAVE_HEALTH_CARE                           62373 non-null object\n",
      "HAVE_PENSION                               62373 non-null object\n",
      "HAVE_PROFIT_SHARE                          62373 non-null object\n",
      "HAVE_VACATION                              62373 non-null object\n",
      "PRINCIPAL_POSITION_RELATED_HIGH_DEGREE     62373 non-null object\n",
      "PRINCIPAL_POSITION                         62373 non-null object\n",
      "PRINCIPAL_MAJOR_GROUP                      62373 non-null object\n",
      "EMPLOYER_SECTOR                            62373 non-null object\n",
      "EMPLOYER_SIZE                              62373 non-null object\n",
      "WORK_ACTIVITY                              62373 non-null object\n",
      "WORK_ACTIVITY_SUM                          62373 non-null object\n",
      "WORK_ACTIVITY_SECOND                       62373 non-null object\n",
      "WORK_ACTIVITY_SCEOND_SUM                   62373 non-null object\n",
      "COMPUTER                                   62373 non-null object\n",
      "DEVELOPMENT_AND_DESIGN                     62373 non-null object\n",
      "MANAGEMENT_SALES                           62373 non-null object\n",
      "RESEARCH_AND_DEVELOPMENT                   62373 non-null object\n",
      "RESEARCH_DEVE_TEACHING                     62373 non-null object\n",
      "ACTIVITY_RESEARCH                          62373 non-null object\n",
      "ACTIVITY_TEACHING                          62373 non-null object\n",
      "WORK_DEVELOPMENT                           62373 non-null object\n",
      "WORK_DESIGN                                62373 non-null object\n",
      "WORK_EMPLOYEE_RELATIONS                    62373 non-null object\n",
      "WORK_MANAGEMENT_ADMIN                      62373 non-null object\n",
      "WORK_OTHER                                 62373 non-null object\n",
      "WORK_PRODUCTION                            62373 non-null object\n",
      "WORK_QUALITY_MANAGEMENT                    62373 non-null object\n",
      "WORK_SALES_MARKETING                       62373 non-null object\n",
      "WORK_PROFESSIONAL_SERVICES                 62373 non-null object\n",
      "WORK_TEACHING                              62373 non-null object\n",
      "WORK_FINANCE                               62373 non-null object\n",
      "WORK_APPLIED_RESEARCH                      62373 non-null object\n",
      "WORK_RESEARCH                              62373 non-null object\n",
      "WORK_COMPUTER_APPLICATIONS                 62373 non-null object\n",
      "SUPERVISORY_WORK                           62373 non-null object\n",
      "MEMEBERSHIP                                62373 non-null object\n",
      "ATTENED_PROFESSIONAL_MEET                  62373 non-null object\n",
      "WORK_OUTSIDE_DEGREE_FOR_FIRST_REASON       62373 non-null object\n",
      "WORK_OUTSIDE_DEGREE_FOR_SECOND_REASON      62373 non-null object\n",
      "WORK_OUTSIDE_DEGREE_FOR_CAREER_CHANGE      62373 non-null object\n",
      "WORK_OUTSIDE_DEGREE_FOR_WORK_COND          62373 non-null object\n",
      "WORK_OUTSIDE_DEGREE_FOR_FAMILY             62373 non-null object\n",
      "WORK_OUTSIDE_DEGREE_FOR_LOC                62373 non-null object\n",
      "WORK_OUTSIDE_DEGREE_FOR_NOT_AVAIL          62373 non-null object\n",
      "WORK_OUTSIDE_DEGREE_FOR_OTHER              62373 non-null object\n",
      "WORK_OUTSIDE_DEGREE_FOR_PAY_PROMOTE        62373 non-null object\n",
      "SATISFACTION_JOB                           62373 non-null object\n",
      "SATISFACTION_JOB_ADVANCE                   62373 non-null object\n",
      "SATISFACTION_JOB_BENEFITS                  62373 non-null object\n",
      "SATISFACTION_JOB_CHALLENGE                 62373 non-null object\n",
      "SATISFACTION_JOB_INDEP                     62373 non-null object\n",
      "SATISFACTION_JOB_LOC                       62373 non-null object\n",
      "SATISFACTION_JOB_RESP                      62373 non-null object\n",
      "SATISFACTION_JOB_SALARY                    62373 non-null object\n",
      "SATISFACTION_JOB_SECURITY                  62373 non-null object\n",
      "SATISFACTION_JOB_CONTRIB_SOCIETY           62373 non-null object\n",
      "ATTEND_TRAINING_WORK_RELATE                62373 non-null object\n",
      "ATTEND_TRAINING                            62373 non-null object\n",
      "ATTEND_TRAINING_CHANGE_FIELD               62373 non-null object\n",
      "ATTEND_TRAINING_BY_EMPLOYER                62373 non-null object\n",
      "ATTEND_TRAINING_CERT                       62373 non-null object\n",
      "ATTEND_TRAINING_INCREASE_ADV_CUR           62373 non-null object\n",
      "ATTEND_TRAINING_OTHER                      62373 non-null object\n",
      "ATTEND_TRAINING_PERSONAL                   62373 non-null object\n",
      "ATTEND_TRAINING_ACQUIRE_SKILL              62373 non-null object\n",
      "JOB_REQUIRED_TECH_NATURAL_SCIENCES         62373 non-null object\n",
      "JOB_REQUIRED_TECH_OTHER                    62373 non-null object\n",
      "JOB_REQUIRED_TECH_SOCIAL_SCIENCES          62373 non-null object\n",
      "RECENT_DEGREE                              62373 non-null object\n",
      "FIELD_MAJOR_RECENT_DEGREE                  62373 non-null object\n",
      "FIELD_MAJOR_GROUP_RECENT_DEGREE            62373 non-null object\n",
      "REASON_EDUCATION_ADVANCE_OPPORTUNITIES     62373 non-null object\n",
      "REASON_EDUCATION_BEFORE_CAREER             62373 non-null object\n",
      "REASON_EDUCATION_CHANGE_CAREER             62373 non-null object\n",
      "REASON_EDUCATION_PERSONAL                  62373 non-null object\n",
      "REASON_EDUCATION_CERIFICATION              62373 non-null object\n",
      "REASON_EDUCATION_BY_EMPLOYER               62373 non-null object\n",
      "REASON_EDUCATION_ADVANCE_SKILL_IN_FIELD    62373 non-null object\n",
      "REASON_EDUCATION_PAID_BY_EMPLOYER          62373 non-null object\n",
      "dtypes: object(87)\n",
      "memory usage: 41.4+ MB\n",
      "None\n"
     ]
    }
   ],
   "source": [
    "print(); print(modelme[modelme_columns].info())"
   ]
  },
  {
   "cell_type": "code",
   "execution_count": 622,
   "metadata": {},
   "outputs": [
    {
     "data": {
      "text/html": [
       "<div>\n",
       "<style scoped>\n",
       "    .dataframe tbody tr th:only-of-type {\n",
       "        vertical-align: middle;\n",
       "    }\n",
       "\n",
       "    .dataframe tbody tr th {\n",
       "        vertical-align: top;\n",
       "    }\n",
       "\n",
       "    .dataframe thead th {\n",
       "        text-align: right;\n",
       "    }\n",
       "</style>\n",
       "<table border=\"1\" class=\"dataframe\">\n",
       "  <thead>\n",
       "    <tr style=\"text-align: right;\">\n",
       "      <th></th>\n",
       "      <th>GENDER</th>\n",
       "      <th>MINORITY</th>\n",
       "      <th>RACE</th>\n",
       "      <th>BIRTH_PLACE</th>\n",
       "      <th>US_CITIZENSHIP</th>\n",
       "      <th>US_CITIZEN_TYPE</th>\n",
       "      <th>TOTAL_CHILDREN</th>\n",
       "      <th>HOURS_WORKED</th>\n",
       "      <th>HAVE_HEALTH_CARE</th>\n",
       "      <th>HAVE_PENSION</th>\n",
       "      <th>HAVE_PROFIT_SHARE</th>\n",
       "      <th>HAVE_VACATION</th>\n",
       "      <th>PRINCIPAL_POSITION_RELATED_HIGH_DEGREE</th>\n",
       "      <th>PRINCIPAL_POSITION</th>\n",
       "      <th>PRINCIPAL_MAJOR_GROUP</th>\n",
       "      <th>EMPLOYER_SECTOR</th>\n",
       "      <th>EMPLOYER_SIZE</th>\n",
       "      <th>WORK_ACTIVITY</th>\n",
       "      <th>WORK_ACTIVITY_SUM</th>\n",
       "      <th>WORK_ACTIVITY_SECOND</th>\n",
       "      <th>WORK_ACTIVITY_SCEOND_SUM</th>\n",
       "      <th>COMPUTER</th>\n",
       "      <th>DEVELOPMENT_AND_DESIGN</th>\n",
       "      <th>MANAGEMENT_SALES</th>\n",
       "      <th>RESEARCH_AND_DEVELOPMENT</th>\n",
       "      <th>RESEARCH_DEVE_TEACHING</th>\n",
       "      <th>ACTIVITY_RESEARCH</th>\n",
       "      <th>ACTIVITY_TEACHING</th>\n",
       "      <th>WORK_DEVELOPMENT</th>\n",
       "      <th>WORK_DESIGN</th>\n",
       "      <th>WORK_EMPLOYEE_RELATIONS</th>\n",
       "      <th>WORK_MANAGEMENT_ADMIN</th>\n",
       "      <th>WORK_OTHER</th>\n",
       "      <th>WORK_PRODUCTION</th>\n",
       "      <th>WORK_QUALITY_MANAGEMENT</th>\n",
       "      <th>WORK_SALES_MARKETING</th>\n",
       "      <th>WORK_PROFESSIONAL_SERVICES</th>\n",
       "      <th>WORK_TEACHING</th>\n",
       "      <th>WORK_FINANCE</th>\n",
       "      <th>WORK_APPLIED_RESEARCH</th>\n",
       "      <th>WORK_RESEARCH</th>\n",
       "      <th>WORK_COMPUTER_APPLICATIONS</th>\n",
       "      <th>SUPERVISORY_WORK</th>\n",
       "      <th>MEMEBERSHIP</th>\n",
       "      <th>ATTENED_PROFESSIONAL_MEET</th>\n",
       "      <th>WORK_OUTSIDE_DEGREE_FOR_FIRST_REASON</th>\n",
       "      <th>WORK_OUTSIDE_DEGREE_FOR_SECOND_REASON</th>\n",
       "      <th>WORK_OUTSIDE_DEGREE_FOR_CAREER_CHANGE</th>\n",
       "      <th>WORK_OUTSIDE_DEGREE_FOR_WORK_COND</th>\n",
       "      <th>WORK_OUTSIDE_DEGREE_FOR_FAMILY</th>\n",
       "      <th>WORK_OUTSIDE_DEGREE_FOR_LOC</th>\n",
       "      <th>WORK_OUTSIDE_DEGREE_FOR_NOT_AVAIL</th>\n",
       "      <th>WORK_OUTSIDE_DEGREE_FOR_OTHER</th>\n",
       "      <th>WORK_OUTSIDE_DEGREE_FOR_PAY_PROMOTE</th>\n",
       "      <th>SATISFACTION_JOB</th>\n",
       "      <th>SATISFACTION_JOB_ADVANCE</th>\n",
       "      <th>SATISFACTION_JOB_BENEFITS</th>\n",
       "      <th>SATISFACTION_JOB_CHALLENGE</th>\n",
       "      <th>SATISFACTION_JOB_INDEP</th>\n",
       "      <th>SATISFACTION_JOB_LOC</th>\n",
       "      <th>SATISFACTION_JOB_RESP</th>\n",
       "      <th>SATISFACTION_JOB_SALARY</th>\n",
       "      <th>SATISFACTION_JOB_SECURITY</th>\n",
       "      <th>SATISFACTION_JOB_CONTRIB_SOCIETY</th>\n",
       "      <th>ATTEND_TRAINING_WORK_RELATE</th>\n",
       "      <th>ATTEND_TRAINING</th>\n",
       "      <th>ATTEND_TRAINING_CHANGE_FIELD</th>\n",
       "      <th>ATTEND_TRAINING_BY_EMPLOYER</th>\n",
       "      <th>ATTEND_TRAINING_CERT</th>\n",
       "      <th>ATTEND_TRAINING_INCREASE_ADV_CUR</th>\n",
       "      <th>ATTEND_TRAINING_OTHER</th>\n",
       "      <th>ATTEND_TRAINING_PERSONAL</th>\n",
       "      <th>ATTEND_TRAINING_ACQUIRE_SKILL</th>\n",
       "      <th>JOB_REQUIRED_TECH_NATURAL_SCIENCES</th>\n",
       "      <th>JOB_REQUIRED_TECH_OTHER</th>\n",
       "      <th>JOB_REQUIRED_TECH_SOCIAL_SCIENCES</th>\n",
       "      <th>RECENT_DEGREE</th>\n",
       "      <th>FIELD_MAJOR_RECENT_DEGREE</th>\n",
       "      <th>FIELD_MAJOR_GROUP_RECENT_DEGREE</th>\n",
       "      <th>REASON_EDUCATION_ADVANCE_OPPORTUNITIES</th>\n",
       "      <th>REASON_EDUCATION_BEFORE_CAREER</th>\n",
       "      <th>REASON_EDUCATION_CHANGE_CAREER</th>\n",
       "      <th>REASON_EDUCATION_PERSONAL</th>\n",
       "      <th>REASON_EDUCATION_CERIFICATION</th>\n",
       "      <th>REASON_EDUCATION_BY_EMPLOYER</th>\n",
       "      <th>REASON_EDUCATION_ADVANCE_SKILL_IN_FIELD</th>\n",
       "      <th>REASON_EDUCATION_PAID_BY_EMPLOYER</th>\n",
       "    </tr>\n",
       "  </thead>\n",
       "  <tbody>\n",
       "    <tr>\n",
       "      <th>count</th>\n",
       "      <td>62373</td>\n",
       "      <td>62373</td>\n",
       "      <td>62373</td>\n",
       "      <td>62373</td>\n",
       "      <td>62373</td>\n",
       "      <td>62373</td>\n",
       "      <td>62373</td>\n",
       "      <td>62373</td>\n",
       "      <td>62373</td>\n",
       "      <td>62373</td>\n",
       "      <td>62373</td>\n",
       "      <td>62373</td>\n",
       "      <td>62373</td>\n",
       "      <td>62373</td>\n",
       "      <td>62373</td>\n",
       "      <td>62373</td>\n",
       "      <td>62373</td>\n",
       "      <td>62373</td>\n",
       "      <td>62373</td>\n",
       "      <td>62373</td>\n",
       "      <td>62373</td>\n",
       "      <td>62373</td>\n",
       "      <td>62373</td>\n",
       "      <td>62373</td>\n",
       "      <td>62373</td>\n",
       "      <td>62373</td>\n",
       "      <td>62373</td>\n",
       "      <td>62373</td>\n",
       "      <td>62373</td>\n",
       "      <td>62373</td>\n",
       "      <td>62373</td>\n",
       "      <td>62373</td>\n",
       "      <td>62373</td>\n",
       "      <td>62373</td>\n",
       "      <td>62373</td>\n",
       "      <td>62373</td>\n",
       "      <td>62373</td>\n",
       "      <td>62373</td>\n",
       "      <td>62373</td>\n",
       "      <td>62373</td>\n",
       "      <td>62373</td>\n",
       "      <td>62373</td>\n",
       "      <td>62373</td>\n",
       "      <td>62373</td>\n",
       "      <td>62373</td>\n",
       "      <td>62373</td>\n",
       "      <td>62373</td>\n",
       "      <td>62373</td>\n",
       "      <td>62373</td>\n",
       "      <td>62373</td>\n",
       "      <td>62373</td>\n",
       "      <td>62373</td>\n",
       "      <td>62373</td>\n",
       "      <td>62373</td>\n",
       "      <td>62373</td>\n",
       "      <td>62373</td>\n",
       "      <td>62373</td>\n",
       "      <td>62373</td>\n",
       "      <td>62373</td>\n",
       "      <td>62373</td>\n",
       "      <td>62373</td>\n",
       "      <td>62373</td>\n",
       "      <td>62373</td>\n",
       "      <td>62373</td>\n",
       "      <td>62373</td>\n",
       "      <td>62373</td>\n",
       "      <td>62373</td>\n",
       "      <td>62373</td>\n",
       "      <td>62373</td>\n",
       "      <td>62373</td>\n",
       "      <td>62373</td>\n",
       "      <td>62373</td>\n",
       "      <td>62373</td>\n",
       "      <td>62373</td>\n",
       "      <td>62373</td>\n",
       "      <td>62373</td>\n",
       "      <td>62373</td>\n",
       "      <td>62373</td>\n",
       "      <td>62373</td>\n",
       "      <td>62373</td>\n",
       "      <td>62373</td>\n",
       "      <td>62373</td>\n",
       "      <td>62373</td>\n",
       "      <td>62373</td>\n",
       "      <td>62373</td>\n",
       "      <td>62373</td>\n",
       "      <td>62373</td>\n",
       "    </tr>\n",
       "    <tr>\n",
       "      <th>unique</th>\n",
       "      <td>2</td>\n",
       "      <td>2</td>\n",
       "      <td>3</td>\n",
       "      <td>2</td>\n",
       "      <td>2</td>\n",
       "      <td>4</td>\n",
       "      <td>3</td>\n",
       "      <td>4</td>\n",
       "      <td>2</td>\n",
       "      <td>2</td>\n",
       "      <td>2</td>\n",
       "      <td>2</td>\n",
       "      <td>3</td>\n",
       "      <td>26</td>\n",
       "      <td>7</td>\n",
       "      <td>5</td>\n",
       "      <td>8</td>\n",
       "      <td>14</td>\n",
       "      <td>5</td>\n",
       "      <td>15</td>\n",
       "      <td>6</td>\n",
       "      <td>2</td>\n",
       "      <td>2</td>\n",
       "      <td>2</td>\n",
       "      <td>2</td>\n",
       "      <td>2</td>\n",
       "      <td>2</td>\n",
       "      <td>2</td>\n",
       "      <td>2</td>\n",
       "      <td>2</td>\n",
       "      <td>2</td>\n",
       "      <td>2</td>\n",
       "      <td>2</td>\n",
       "      <td>2</td>\n",
       "      <td>2</td>\n",
       "      <td>2</td>\n",
       "      <td>2</td>\n",
       "      <td>2</td>\n",
       "      <td>2</td>\n",
       "      <td>2</td>\n",
       "      <td>2</td>\n",
       "      <td>2</td>\n",
       "      <td>2</td>\n",
       "      <td>5</td>\n",
       "      <td>2</td>\n",
       "      <td>8</td>\n",
       "      <td>9</td>\n",
       "      <td>2</td>\n",
       "      <td>2</td>\n",
       "      <td>2</td>\n",
       "      <td>2</td>\n",
       "      <td>2</td>\n",
       "      <td>2</td>\n",
       "      <td>2</td>\n",
       "      <td>4</td>\n",
       "      <td>4</td>\n",
       "      <td>4</td>\n",
       "      <td>4</td>\n",
       "      <td>4</td>\n",
       "      <td>4</td>\n",
       "      <td>4</td>\n",
       "      <td>4</td>\n",
       "      <td>4</td>\n",
       "      <td>4</td>\n",
       "      <td>2</td>\n",
       "      <td>8</td>\n",
       "      <td>2</td>\n",
       "      <td>2</td>\n",
       "      <td>2</td>\n",
       "      <td>2</td>\n",
       "      <td>2</td>\n",
       "      <td>2</td>\n",
       "      <td>2</td>\n",
       "      <td>2</td>\n",
       "      <td>2</td>\n",
       "      <td>2</td>\n",
       "      <td>5</td>\n",
       "      <td>20</td>\n",
       "      <td>7</td>\n",
       "      <td>2</td>\n",
       "      <td>2</td>\n",
       "      <td>2</td>\n",
       "      <td>2</td>\n",
       "      <td>2</td>\n",
       "      <td>2</td>\n",
       "      <td>2</td>\n",
       "      <td>2</td>\n",
       "    </tr>\n",
       "    <tr>\n",
       "      <th>top</th>\n",
       "      <td>Male</td>\n",
       "      <td>No</td>\n",
       "      <td>White</td>\n",
       "      <td>United States</td>\n",
       "      <td>Yes</td>\n",
       "      <td>Born in US or US territories</td>\n",
       "      <td>None</td>\n",
       "      <td>Greater than 40 hours</td>\n",
       "      <td>Yes</td>\n",
       "      <td>Yes</td>\n",
       "      <td>No</td>\n",
       "      <td>Yes</td>\n",
       "      <td>Closely related</td>\n",
       "      <td>Other Non-science and engineering occupations</td>\n",
       "      <td>Non-science and engineering occupations</td>\n",
       "      <td>Business or industry</td>\n",
       "      <td>25000+ employees</td>\n",
       "      <td>Professional services</td>\n",
       "      <td>Management and Administration</td>\n",
       "      <td>No Secondary Activity</td>\n",
       "      <td>Management and Administration</td>\n",
       "      <td>No</td>\n",
       "      <td>No</td>\n",
       "      <td>Yes</td>\n",
       "      <td>No</td>\n",
       "      <td>Yes</td>\n",
       "      <td>No</td>\n",
       "      <td>No</td>\n",
       "      <td>No</td>\n",
       "      <td>No</td>\n",
       "      <td>No</td>\n",
       "      <td>Yes</td>\n",
       "      <td>No</td>\n",
       "      <td>No</td>\n",
       "      <td>No</td>\n",
       "      <td>No</td>\n",
       "      <td>No</td>\n",
       "      <td>No</td>\n",
       "      <td>No</td>\n",
       "      <td>No</td>\n",
       "      <td>No</td>\n",
       "      <td>No</td>\n",
       "      <td>No</td>\n",
       "      <td>No memberships</td>\n",
       "      <td>No</td>\n",
       "      <td>No</td>\n",
       "      <td>No</td>\n",
       "      <td>No</td>\n",
       "      <td>No</td>\n",
       "      <td>No</td>\n",
       "      <td>No</td>\n",
       "      <td>No</td>\n",
       "      <td>No</td>\n",
       "      <td>No</td>\n",
       "      <td>2</td>\n",
       "      <td>Somewhat satisfied</td>\n",
       "      <td>Somewhat satisfied</td>\n",
       "      <td>Very satisfied</td>\n",
       "      <td>Very satisfied</td>\n",
       "      <td>Very satisfied</td>\n",
       "      <td>Very satisfied</td>\n",
       "      <td>Somewhat satisfied</td>\n",
       "      <td>Very satisfied</td>\n",
       "      <td>Very satisfied</td>\n",
       "      <td>Yes</td>\n",
       "      <td>Other</td>\n",
       "      <td>No</td>\n",
       "      <td>No</td>\n",
       "      <td>No</td>\n",
       "      <td>No</td>\n",
       "      <td>No</td>\n",
       "      <td>No</td>\n",
       "      <td>Yes</td>\n",
       "      <td>Yes</td>\n",
       "      <td>No</td>\n",
       "      <td>No</td>\n",
       "      <td>Bachelor</td>\n",
       "      <td>Health-related fields</td>\n",
       "      <td>Engineering</td>\n",
       "      <td>No</td>\n",
       "      <td>No</td>\n",
       "      <td>No</td>\n",
       "      <td>No</td>\n",
       "      <td>No</td>\n",
       "      <td>No</td>\n",
       "      <td>No</td>\n",
       "      <td>No</td>\n",
       "    </tr>\n",
       "    <tr>\n",
       "      <th>freq</th>\n",
       "      <td>35049</td>\n",
       "      <td>47995</td>\n",
       "      <td>37217</td>\n",
       "      <td>46337</td>\n",
       "      <td>55204</td>\n",
       "      <td>46325</td>\n",
       "      <td>36547</td>\n",
       "      <td>26154</td>\n",
       "      <td>52134</td>\n",
       "      <td>44592</td>\n",
       "      <td>46023</td>\n",
       "      <td>51518</td>\n",
       "      <td>38718</td>\n",
       "      <td>12235</td>\n",
       "      <td>22457</td>\n",
       "      <td>41223</td>\n",
       "      <td>13344</td>\n",
       "      <td>10563</td>\n",
       "      <td>19565</td>\n",
       "      <td>11159</td>\n",
       "      <td>22111</td>\n",
       "      <td>54600</td>\n",
       "      <td>48679</td>\n",
       "      <td>32817</td>\n",
       "      <td>37733</td>\n",
       "      <td>32707</td>\n",
       "      <td>48707</td>\n",
       "      <td>51813</td>\n",
       "      <td>41149</td>\n",
       "      <td>43231</td>\n",
       "      <td>48097</td>\n",
       "      <td>34614</td>\n",
       "      <td>54612</td>\n",
       "      <td>51003</td>\n",
       "      <td>45057</td>\n",
       "      <td>45208</td>\n",
       "      <td>43017</td>\n",
       "      <td>42703</td>\n",
       "      <td>46275</td>\n",
       "      <td>38551</td>\n",
       "      <td>44412</td>\n",
       "      <td>47181</td>\n",
       "      <td>39934</td>\n",
       "      <td>32195</td>\n",
       "      <td>37916</td>\n",
       "      <td>53496</td>\n",
       "      <td>53496</td>\n",
       "      <td>58706</td>\n",
       "      <td>57993</td>\n",
       "      <td>60246</td>\n",
       "      <td>58057</td>\n",
       "      <td>58781</td>\n",
       "      <td>61318</td>\n",
       "      <td>57214</td>\n",
       "      <td>28714</td>\n",
       "      <td>27013</td>\n",
       "      <td>26071</td>\n",
       "      <td>27433</td>\n",
       "      <td>36197</td>\n",
       "      <td>34729</td>\n",
       "      <td>29078</td>\n",
       "      <td>30824</td>\n",
       "      <td>27467</td>\n",
       "      <td>30314</td>\n",
       "      <td>38629</td>\n",
       "      <td>23744</td>\n",
       "      <td>58969</td>\n",
       "      <td>39112</td>\n",
       "      <td>45145</td>\n",
       "      <td>45429</td>\n",
       "      <td>61895</td>\n",
       "      <td>50324</td>\n",
       "      <td>36370</td>\n",
       "      <td>34929</td>\n",
       "      <td>42634</td>\n",
       "      <td>49260</td>\n",
       "      <td>33341</td>\n",
       "      <td>8007</td>\n",
       "      <td>13517</td>\n",
       "      <td>57360</td>\n",
       "      <td>58211</td>\n",
       "      <td>60313</td>\n",
       "      <td>59416</td>\n",
       "      <td>60388</td>\n",
       "      <td>59357</td>\n",
       "      <td>56897</td>\n",
       "      <td>58977</td>\n",
       "    </tr>\n",
       "  </tbody>\n",
       "</table>\n",
       "</div>"
      ],
      "text/plain": [
       "       GENDER MINORITY   RACE    BIRTH_PLACE US_CITIZENSHIP               US_CITIZEN_TYPE TOTAL_CHILDREN           HOURS_WORKED HAVE_HEALTH_CARE HAVE_PENSION HAVE_PROFIT_SHARE HAVE_VACATION PRINCIPAL_POSITION_RELATED_HIGH_DEGREE                             PRINCIPAL_POSITION                    PRINCIPAL_MAJOR_GROUP       EMPLOYER_SECTOR     EMPLOYER_SIZE          WORK_ACTIVITY              WORK_ACTIVITY_SUM   WORK_ACTIVITY_SECOND       WORK_ACTIVITY_SCEOND_SUM COMPUTER DEVELOPMENT_AND_DESIGN MANAGEMENT_SALES RESEARCH_AND_DEVELOPMENT RESEARCH_DEVE_TEACHING ACTIVITY_RESEARCH ACTIVITY_TEACHING WORK_DEVELOPMENT WORK_DESIGN WORK_EMPLOYEE_RELATIONS WORK_MANAGEMENT_ADMIN WORK_OTHER WORK_PRODUCTION WORK_QUALITY_MANAGEMENT WORK_SALES_MARKETING WORK_PROFESSIONAL_SERVICES WORK_TEACHING WORK_FINANCE WORK_APPLIED_RESEARCH WORK_RESEARCH WORK_COMPUTER_APPLICATIONS SUPERVISORY_WORK     MEMEBERSHIP ATTENED_PROFESSIONAL_MEET WORK_OUTSIDE_DEGREE_FOR_FIRST_REASON WORK_OUTSIDE_DEGREE_FOR_SECOND_REASON WORK_OUTSIDE_DEGREE_FOR_CAREER_CHANGE WORK_OUTSIDE_DEGREE_FOR_WORK_COND WORK_OUTSIDE_DEGREE_FOR_FAMILY WORK_OUTSIDE_DEGREE_FOR_LOC WORK_OUTSIDE_DEGREE_FOR_NOT_AVAIL WORK_OUTSIDE_DEGREE_FOR_OTHER WORK_OUTSIDE_DEGREE_FOR_PAY_PROMOTE SATISFACTION_JOB SATISFACTION_JOB_ADVANCE SATISFACTION_JOB_BENEFITS SATISFACTION_JOB_CHALLENGE SATISFACTION_JOB_INDEP SATISFACTION_JOB_LOC SATISFACTION_JOB_RESP SATISFACTION_JOB_SALARY SATISFACTION_JOB_SECURITY SATISFACTION_JOB_CONTRIB_SOCIETY ATTEND_TRAINING_WORK_RELATE ATTEND_TRAINING ATTEND_TRAINING_CHANGE_FIELD ATTEND_TRAINING_BY_EMPLOYER ATTEND_TRAINING_CERT ATTEND_TRAINING_INCREASE_ADV_CUR ATTEND_TRAINING_OTHER ATTEND_TRAINING_PERSONAL ATTEND_TRAINING_ACQUIRE_SKILL JOB_REQUIRED_TECH_NATURAL_SCIENCES JOB_REQUIRED_TECH_OTHER JOB_REQUIRED_TECH_SOCIAL_SCIENCES RECENT_DEGREE FIELD_MAJOR_RECENT_DEGREE FIELD_MAJOR_GROUP_RECENT_DEGREE REASON_EDUCATION_ADVANCE_OPPORTUNITIES REASON_EDUCATION_BEFORE_CAREER REASON_EDUCATION_CHANGE_CAREER REASON_EDUCATION_PERSONAL  \\\n",
       "count   62373    62373  62373          62373          62373                         62373          62373                  62373            62373        62373             62373         62373                                  62373                                          62373                                    62373                 62373             62373                  62373                          62373                  62373                          62373    62373                  62373            62373                    62373                  62373             62373             62373            62373       62373                   62373                 62373      62373           62373                   62373                62373                      62373         62373        62373                 62373         62373                      62373            62373           62373                     62373                                62373                                 62373                                 62373                             62373                          62373                       62373                             62373                         62373                               62373            62373                    62373                     62373                      62373                  62373                62373                 62373                   62373                     62373                            62373                       62373           62373                        62373                       62373                62373                            62373                 62373                    62373                         62373                              62373                   62373                             62373         62373                     62373                           62373                                  62373                          62373                          62373                     62373   \n",
       "unique      2        2      3              2              2                             4              3                      4                2            2                 2             2                                      3                                             26                                        7                     5                 8                     14                              5                     15                              6        2                      2                2                        2                      2                 2                 2                2           2                       2                     2          2               2                       2                    2                          2             2            2                     2             2                          2                2               5                         2                                    8                                     9                                     2                                 2                              2                           2                                 2                             2                                   2                4                        4                         4                          4                      4                    4                     4                       4                         4                                4                           2               8                            2                           2                    2                                2                     2                        2                             2                                  2                       2                                 2             5                        20                               7                                      2                              2                              2                         2   \n",
       "top      Male       No  White  United States            Yes  Born in US or US territories           None  Greater than 40 hours              Yes          Yes                No           Yes                        Closely related  Other Non-science and engineering occupations  Non-science and engineering occupations  Business or industry  25000+ employees  Professional services  Management and Administration  No Secondary Activity  Management and Administration       No                     No              Yes                       No                    Yes                No                No               No          No                      No                   Yes         No              No                      No                   No                         No            No           No                    No            No                         No               No  No memberships                        No                                   No                                 No                                       No                                No                             No                          No                                No                            No                                  No                2       Somewhat satisfied        Somewhat satisfied             Very satisfied         Very satisfied       Very satisfied        Very satisfied      Somewhat satisfied            Very satisfied                   Very satisfied                         Yes           Other                           No                          No                   No                               No                    No                       No                           Yes                                Yes                      No                                No      Bachelor     Health-related fields                     Engineering                                     No                             No                             No                        No   \n",
       "freq    35049    47995  37217          46337          55204                         46325          36547                  26154            52134        44592             46023         51518                                  38718                                          12235                                    22457                 41223             13344                  10563                          19565                  11159                          22111    54600                  48679            32817                    37733                  32707             48707             51813            41149       43231                   48097                 34614      54612           51003                   45057                45208                      43017         42703        46275                 38551         44412                      47181            39934           32195                     37916                                53496                                 53496                                 58706                             57993                          60246                       58057                             58781                         61318                               57214            28714                    27013                     26071                      27433                  36197                34729                 29078                   30824                     27467                            30314                       38629           23744                        58969                       39112                45145                            45429                 61895                    50324                         36370                              34929                   42634                             49260         33341                      8007                           13517                                  57360                          58211                          60313                     59416   \n",
       "\n",
       "       REASON_EDUCATION_CERIFICATION REASON_EDUCATION_BY_EMPLOYER REASON_EDUCATION_ADVANCE_SKILL_IN_FIELD REASON_EDUCATION_PAID_BY_EMPLOYER  \n",
       "count                          62373                        62373                                   62373                             62373  \n",
       "unique                             2                            2                                       2                                 2  \n",
       "top                               No                           No                                      No                                No  \n",
       "freq                           60388                        59357                                   56897                             58977  "
      ]
     },
     "execution_count": 622,
     "metadata": {},
     "output_type": "execute_result"
    }
   ],
   "source": [
    "modelme[modelme_columns].describe()"
   ]
  },
  {
   "cell_type": "code",
   "execution_count": 623,
   "metadata": {},
   "outputs": [],
   "source": [
    "#AGE === MEAN 40 YEARS OLD  25% = 29, 50% = 36, 75% = 50, MAX = 75, MIN = 23, STD = 12.5"
   ]
  },
  {
   "cell_type": "markdown",
   "metadata": {},
   "source": [
    "In this dataset we have:\n",
    "    \n",
    "    Mostly Male, \n",
    "    \n",
    "    Mostly White, \n",
    "    \n",
    "    Born in the US and have US Citizenship, \n",
    "    \n",
    "    No Children, \n",
    "    \n",
    "    Works Greater than 40 hours, \n",
    "    \n",
    "    Have Health Care, \n",
    "    \n",
    "    Have_Pension, \n",
    "    \n",
    "    No Profit Share, \n",
    "    \n",
    "    Have Vacation, \n",
    "    \n",
    "    Works Closely Related Degree, \n",
    "    \n",
    "    Principal Postion is Other non-science and engineering occupations, \n",
    "    \n",
    "    Major Group of Principal Position is Non-Science and engineering occupations,\n",
    "    \n",
    "    Employer Sector is Business or Industry, \n",
    "    \n",
    "    Employer size is 25000+ employees, \n",
    "    \n",
    "    Work Activity is Professional Services, \n",
    "    \n",
    "    Work Activity Summary is Management and Administration, \n",
    "    \n",
    "    No to Computer, \n",
    "    \n",
    "    No to Development and Design, \n",
    "    \n",
    "    Yes to Management Sales, \n",
    "    \n",
    "    No to Research and Development, \n",
    "    \n",
    "    Yes to Research, Development and Teaching, \n",
    "    \n",
    "    Yes to Management Admin, \n",
    "    \n",
    "    No memberships,\n",
    "    \n",
    "    No to working outside of degree, \n",
    "    \n",
    "    Employees are Somewhat Satisfaction to Job,\n",
    "    \n",
    "    Job Advancement is Somewhat Satisfaction,\n",
    "    \n",
    "    Job Benefits is Somewhat Satisfaction,\n",
    "    \n",
    "    Job Challenges is Very Satisfied, \n",
    "    \n",
    "    Job Independce is Very Satisfied, \n",
    "    \n",
    "    Job Locations is Very Satisfied,\n",
    "    \n",
    "    Job Salary is Somewhat Satisfaction, \n",
    "    \n",
    "    Job Security is Very Satisfied, \n",
    "    \n",
    "    Contribute to Society is Very Satisfied,\n",
    "    \n",
    "    Willing Attend work training, \n",
    "    \n",
    "    Willing Attend other training, \n",
    "    \n",
    "    Willing to obtain new skills, \n",
    "    \n",
    "    Job require natural sciences, \n",
    "    \n",
    "    Recent degree Bachelor,\n",
    "    \n",
    "    Major degree in Health Care, \n",
    "    \n",
    "    Marjor degree in group is Engineering \n",
    "    "
   ]
  },
  {
   "cell_type": "markdown",
   "metadata": {},
   "source": [
    "In statistical analysis of binary classification, the F1 score (also F-score or F-measure) is a measure of a test's accuracy. It considers both the precision p and the recall r of the test to compute the score: p is the number of correct positive results divided by the number of all positive results returned by the classifier, and r is the number of correct positive results divided by the number of all relevant samples (all samples that should have been identified as positive).The F1 score is the harmonic mean of the precision and recall, where an F1 score reaches its best value at 1 (perfect precision and recall). The F1 score is also known as the Sørensen–Dice coefficient or Dice similarity coefficient (DSC).\n",
    "\n",
    "\n",
    "The F-score is also used for evaluating classification problems with more than two classes (Multiclass classification). In this setup, the final score is obtained by micro-averaging (biased by class frequency) or macro-averaging (taking all classes as equally important). For macro-averaging, two different formulas have been used by applicants: the F-score of (arithmetic) class-wise precision and recall means or the arithmetic mean of class-wise F-scores, where the latter exhibits more desirable properties.\n"
   ]
  },
  {
   "cell_type": "code",
   "execution_count": 624,
   "metadata": {},
   "outputs": [
    {
     "name": "stdout",
     "output_type": "stream",
     "text": [
      "F-score: 57.92\t for feature GENDER \n",
      "F-score: 172.67\t for feature MINORITY \n",
      "F-score: 390.90\t for feature RACE \n",
      "F-score: 125.89\t for feature BIRTH_PLACE \n",
      "F-score: 64.19\t for feature US_CITIZENSHIP \n",
      "F-score: 116.95\t for feature US_CITIZEN_TYPE \n",
      "F-score: 148.63\t for feature TOTAL_CHILDREN \n",
      "F-score: 112.31\t for feature HOURS_WORKED \n",
      "F-score: 150.93\t for feature HAVE_HEALTH_CARE \n",
      "F-score: 339.16\t for feature HAVE_PENSION \n",
      "F-score: 336.00\t for feature HAVE_PROFIT_SHARE \n",
      "F-score: 99.11\t for feature HAVE_VACATION \n",
      "F-score: 1276.67\t for feature PRINCIPAL_POSITION_RELATED_HIGH_DEGREE \n",
      "F-score: 53.05\t for feature PRINCIPAL_POSITION \n",
      "F-score: 34.51\t for feature PRINCIPAL_MAJOR_GROUP \n",
      "F-score: 1.65\t for feature EMPLOYER_SECTOR \n",
      "F-score: 14.66\t for feature EMPLOYER_SIZE \n",
      "F-score: 46.33\t for feature WORK_ACTIVITY \n",
      "F-score: 61.30\t for feature WORK_ACTIVITY_SUM \n",
      "F-score: 22.10\t for feature WORK_ACTIVITY_SECOND \n",
      "F-score: 23.34\t for feature WORK_ACTIVITY_SCEOND_SUM \n",
      "F-score: 14.90\t for feature COMPUTER \n",
      "F-score: 27.80\t for feature DEVELOPMENT_AND_DESIGN \n",
      "F-score: 19.63\t for feature MANAGEMENT_SALES \n",
      "F-score: 101.25\t for feature RESEARCH_AND_DEVELOPMENT \n",
      "F-score: 177.71\t for feature RESEARCH_DEVE_TEACHING \n",
      "F-score: 61.35\t for feature ACTIVITY_RESEARCH \n",
      "F-score: 47.48\t for feature ACTIVITY_TEACHING \n",
      "F-score: 49.25\t for feature WORK_DEVELOPMENT \n",
      "F-score: 83.61\t for feature WORK_DESIGN \n",
      "F-score: 110.65\t for feature WORK_EMPLOYEE_RELATIONS \n",
      "F-score: 215.29\t for feature WORK_MANAGEMENT_ADMIN \n",
      "F-score: 80.08\t for feature WORK_OTHER \n",
      "F-score: 36.46\t for feature WORK_PRODUCTION \n",
      "F-score: 1.45\t for feature WORK_QUALITY_MANAGEMENT \n",
      "F-score: 51.40\t for feature WORK_SALES_MARKETING \n",
      "F-score: 173.71\t for feature WORK_PROFESSIONAL_SERVICES \n",
      "F-score: 169.10\t for feature WORK_TEACHING \n",
      "F-score: 29.98\t for feature WORK_FINANCE \n",
      "F-score: 200.63\t for feature WORK_APPLIED_RESEARCH \n",
      "F-score: 79.14\t for feature WORK_RESEARCH \n",
      "F-score: 27.39\t for feature WORK_COMPUTER_APPLICATIONS \n",
      "F-score: 349.02\t for feature SUPERVISORY_WORK \n",
      "F-score: 360.20\t for feature MEMEBERSHIP \n",
      "F-score: 867.20\t for feature ATTENED_PROFESSIONAL_MEET \n",
      "F-score: 278.64\t for feature WORK_OUTSIDE_DEGREE_FOR_FIRST_REASON \n",
      "F-score: 71.57\t for feature WORK_OUTSIDE_DEGREE_FOR_SECOND_REASON \n",
      "F-score: 38.32\t for feature WORK_OUTSIDE_DEGREE_FOR_CAREER_CHANGE \n",
      "F-score: 143.29\t for feature WORK_OUTSIDE_DEGREE_FOR_WORK_COND \n",
      "F-score: 223.14\t for feature WORK_OUTSIDE_DEGREE_FOR_FAMILY \n",
      "F-score: 417.85\t for feature WORK_OUTSIDE_DEGREE_FOR_LOC \n",
      "F-score: 2651.63\t for feature WORK_OUTSIDE_DEGREE_FOR_NOT_AVAIL \n",
      "F-score: 407.73\t for feature WORK_OUTSIDE_DEGREE_FOR_OTHER \n",
      "F-score: 417.01\t for feature WORK_OUTSIDE_DEGREE_FOR_PAY_PROMOTE \n",
      "F-score: 5266.17\t for feature SATISFACTION_JOB \n",
      "F-score: 4564.87\t for feature SATISFACTION_JOB_ADVANCE \n",
      "F-score: 13098.47\t for feature SATISFACTION_JOB_BENEFITS \n",
      "F-score: 13108.33\t for feature SATISFACTION_JOB_CHALLENGE \n",
      "F-score: 4367.07\t for feature SATISFACTION_JOB_INDEP \n",
      "F-score: 18129.35\t for feature SATISFACTION_JOB_LOC \n",
      "F-score: 6045.12\t for feature SATISFACTION_JOB_RESP \n",
      "F-score: 6575.28\t for feature SATISFACTION_JOB_SALARY \n",
      "F-score: 9443.84\t for feature SATISFACTION_JOB_SECURITY \n",
      "F-score: 739.77\t for feature SATISFACTION_JOB_CONTRIB_SOCIETY \n",
      "F-score: 118.78\t for feature ATTEND_TRAINING_WORK_RELATE \n",
      "F-score: 98.47\t for feature ATTEND_TRAINING \n",
      "F-score: 78.91\t for feature ATTEND_TRAINING_CHANGE_FIELD \n",
      "F-score: 379.81\t for feature ATTEND_TRAINING_BY_EMPLOYER \n",
      "F-score: 217.26\t for feature ATTEND_TRAINING_CERT \n",
      "F-score: 0.04\t for feature ATTEND_TRAINING_INCREASE_ADV_CUR \n",
      "F-score: 284.02\t for feature ATTEND_TRAINING_OTHER \n",
      "F-score: 989.20\t for feature ATTEND_TRAINING_PERSONAL \n",
      "F-score: 341.15\t for feature ATTEND_TRAINING_ACQUIRE_SKILL \n",
      "F-score: 224.75\t for feature JOB_REQUIRED_TECH_NATURAL_SCIENCES \n",
      "F-score: 17.71\t for feature JOB_REQUIRED_TECH_OTHER \n",
      "F-score: 235.32\t for feature JOB_REQUIRED_TECH_SOCIAL_SCIENCES \n",
      "F-score: 56.20\t for feature RECENT_DEGREE \n",
      "F-score: 12.56\t for feature FIELD_MAJOR_RECENT_DEGREE \n",
      "F-score: 47.09\t for feature FIELD_MAJOR_GROUP_RECENT_DEGREE \n",
      "F-score: 67.64\t for feature REASON_EDUCATION_ADVANCE_OPPORTUNITIES \n",
      "F-score: 282.16\t for feature REASON_EDUCATION_BEFORE_CAREER \n",
      "F-score: 0.07\t for feature REASON_EDUCATION_CHANGE_CAREER \n",
      "F-score: 30.09\t for feature REASON_EDUCATION_PERSONAL \n",
      "F-score: 9.29\t for feature REASON_EDUCATION_CERIFICATION \n",
      "F-score: 2.93\t for feature REASON_EDUCATION_BY_EMPLOYER \n",
      "F-score: 11.66\t for feature REASON_EDUCATION_ADVANCE_SKILL_IN_FIELD \n"
     ]
    }
   ],
   "source": [
    "from sklearn.feature_selection import SelectPercentile\n",
    "from sklearn.feature_selection import f_regression\n",
    "Selector_f = SelectPercentile(f_regression, percentile=25)\n",
    "Selector_f.fit(X,y)\n",
    "for n, s in zip(modelme, Selector_f.scores_):\n",
    "    print('F-score: %3.2f\\t for feature %s ' % (s,n))"
   ]
  },
  {
   "cell_type": "markdown",
   "metadata": {},
   "source": [
    "Using the level of association output (higher vlaues signal more assciation of the feature with the target varible). This helps choose the most important varibles for your machince learning model. "
   ]
  },
  {
   "cell_type": "markdown",
   "metadata": {},
   "source": [
    "# MODEL ONE"
   ]
  },
  {
   "cell_type": "code",
   "execution_count": 625,
   "metadata": {},
   "outputs": [],
   "source": [
    "from sklearn.model_selection import cross_val_score\n",
    "from sklearn.model_selection import KFold \n",
    "crossvalidation = KFold(n_splits=6,\n",
    "                       shuffle=True,\n",
    "                       random_state=1111)"
   ]
  },
  {
   "cell_type": "code",
   "execution_count": 626,
   "metadata": {},
   "outputs": [
    {
     "name": "stdout",
     "output_type": "stream",
     "text": [
      "Depth: 1 Accuracy: 0.658\n",
      "Depth: 2 Accuracy: 0.659\n",
      "Depth: 3 Accuracy: 0.660\n",
      "Depth: 4 Accuracy: 0.693\n",
      "Depth: 5 Accuracy: 0.701\n",
      "Depth: 6 Accuracy: 0.709\n",
      "Depth: 7 Accuracy: 0.714\n",
      "Depth: 8 Accuracy: 0.718\n",
      "Depth: 9 Accuracy: 0.716\n",
      "Depth: 10 Accuracy: 0.712\n",
      "Depth: 11 Accuracy: 0.707\n",
      "Depth: 12 Accuracy: 0.702\n",
      "Depth: 13 Accuracy: 0.693\n",
      "Depth: 14 Accuracy: 0.686\n",
      "Depth: 15 Accuracy: 0.676\n",
      "Depth: 16 Accuracy: 0.668\n",
      "Depth: 17 Accuracy: 0.661\n",
      "Depth: 18 Accuracy: 0.654\n",
      "Depth: 19 Accuracy: 0.647\n"
     ]
    }
   ],
   "source": [
    "import numpy as np \n",
    "from sklearn import tree\n",
    "for depth in range(1,20):\n",
    "    tree_classifier = tree.DecisionTreeClassifier(\n",
    "    max_depth=depth, random_state=1111)\n",
    "    if tree_classifier.fit(X,y).tree_.max_depth < depth:\n",
    "        break\n",
    "    score = np.mean(cross_val_score(tree_classifier, \n",
    "                                   X,y,\n",
    "                                   scoring = 'accuracy',\n",
    "                                   cv=crossvalidation))\n",
    "    print('Depth: %i Accuracy: %.3f' % (depth,score))"
   ]
  },
  {
   "cell_type": "markdown",
   "metadata": {},
   "source": [
    "Depth: 8 Accuracy: 0.718"
   ]
  },
  {
   "cell_type": "code",
   "execution_count": 627,
   "metadata": {},
   "outputs": [
    {
     "name": "stdout",
     "output_type": "stream",
     "text": [
      "Accuracy: 0.739\n"
     ]
    }
   ],
   "source": [
    "from sklearn.ensemble import BaggingClassifier\n",
    "from sklearn.tree import DecisionTreeClassifier\n",
    "from sklearn.model_selection import cross_val_score\n",
    "from sklearn.model_selection import KFold\n",
    "tree_classifier = DecisionTreeClassifier(random_state=1111)\n",
    "crossvalidation = KFold(n_splits=6, shuffle=True, random_state=1111)\n",
    "bagging = BaggingClassifier(tree_classifier, \n",
    "                           max_samples=0.8, \n",
    "                           max_features=0.8,\n",
    "                           n_estimators=500)\n",
    "scores = np.mean(cross_val_score(bagging, X, y,\n",
    "                                scoring='accuracy',\n",
    "                                cv=crossvalidation))\n",
    "print('Accuracy: %.3f' % scores)"
   ]
  },
  {
   "cell_type": "code",
   "execution_count": null,
   "metadata": {},
   "outputs": [],
   "source": []
  },
  {
   "cell_type": "code",
   "execution_count": null,
   "metadata": {},
   "outputs": [],
   "source": []
  },
  {
   "cell_type": "code",
   "execution_count": 640,
   "metadata": {},
   "outputs": [],
   "source": []
  },
  {
   "cell_type": "code",
   "execution_count": null,
   "metadata": {},
   "outputs": [],
   "source": []
  },
  {
   "cell_type": "code",
   "execution_count": null,
   "metadata": {},
   "outputs": [],
   "source": []
  },
  {
   "cell_type": "code",
   "execution_count": null,
   "metadata": {},
   "outputs": [],
   "source": []
  },
  {
   "cell_type": "code",
   "execution_count": null,
   "metadata": {},
   "outputs": [],
   "source": []
  },
  {
   "cell_type": "code",
   "execution_count": null,
   "metadata": {},
   "outputs": [],
   "source": []
  }
 ],
 "metadata": {
  "kernelspec": {
   "display_name": "Python 3",
   "language": "python",
   "name": "python3"
  },
  "language_info": {
   "codemirror_mode": {
    "name": "ipython",
    "version": 3
   },
   "file_extension": ".py",
   "mimetype": "text/x-python",
   "name": "python",
   "nbconvert_exporter": "python",
   "pygments_lexer": "ipython3",
   "version": "3.7.3"
  }
 },
 "nbformat": 4,
 "nbformat_minor": 2
}
