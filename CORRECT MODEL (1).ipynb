{
 "cells": [
  {
   "cell_type": "code",
   "execution_count": 65,
   "metadata": {},
   "outputs": [
    {
     "data": {
      "application/vnd.jupyter.widget-view+json": {
       "model_id": "1abbb1b28a93477f81bf14acd2a1b4be",
       "version_major": 2,
       "version_minor": 0
      },
      "text/plain": [
       "HBox(children=(IntProgress(value=0, max=50), HTML(value='')))"
      ]
     },
     "metadata": {},
     "output_type": "display_data"
    },
    {
     "name": "stdout",
     "output_type": "stream",
     "text": [
      "\n"
     ]
    }
   ],
   "source": [
    "import pandas as pd\n",
    "import numpy as np\n",
    "import csv\n",
    "from sklearn.tree import DecisionTreeClassifier # Import Decision Tree Classifier\n",
    "from sklearn.model_selection import train_test_split # Import train_test_split function\n",
    "from sklearn import metrics #Import scikit-learn metrics module for accuracy calculation\n",
    "import matplotlib.pyplot as plt\n",
    "import pydotplus\n",
    "import os\n",
    "from sklearn import tree\n",
    "from sklearn.preprocessing import StandardScaler\n",
    "import seaborn as sns\n",
    "from sklearn.preprocessing import LabelEncoder\n",
    "enc = LabelEncoder()\n",
    "from sklearn import preprocessing \n",
    "from sklearn.tree import export_graphviz\n",
    "from sklearn.externals.six import StringIO  \n",
    "from IPython.display import Image  \n",
    "import pydotplus\n",
    "import graphviz \n",
    "pd.set_option('display.width', 2000)\n",
    "pd.set_option('display.max_columns', 2000)\n",
    "import os\n",
    "from tqdm import tqdm_notebook as tqdm\n",
    "import time \n",
    "for i in tqdm(range(50)):\n",
    "    time.sleep(0.1)"
   ]
  },
  {
   "cell_type": "code",
   "execution_count": 66,
   "metadata": {},
   "outputs": [
    {
     "data": {
      "application/vnd.jupyter.widget-view+json": {
       "model_id": "9e8dd94fd50442ecb36239119ae8d211",
       "version_major": 2,
       "version_minor": 0
      },
      "text/plain": [
       "HBox(children=(IntProgress(value=0, max=50), HTML(value='')))"
      ]
     },
     "metadata": {},
     "output_type": "display_data"
    },
    {
     "name": "stdout",
     "output_type": "stream",
     "text": [
      "\n"
     ]
    }
   ],
   "source": [
    "data = pd.read_csv('alldata.csv')\n",
    "for i in tqdm(range(50)):\n",
    "    time.sleep(0.1)\n"
   ]
  },
  {
   "cell_type": "code",
   "execution_count": 67,
   "metadata": {},
   "outputs": [
    {
     "data": {
      "application/vnd.jupyter.widget-view+json": {
       "model_id": "49892a04f6564420aab07b8babc02ffd",
       "version_major": 2,
       "version_minor": 0
      },
      "text/plain": [
       "HBox(children=(IntProgress(value=0, max=50), HTML(value='')))"
      ]
     },
     "metadata": {},
     "output_type": "display_data"
    },
    {
     "name": "stdout",
     "output_type": "stream",
     "text": [
      "\n"
     ]
    }
   ],
   "source": [
    "dataset = data\n",
    "for i in tqdm(range(50)):\n",
    "    time.sleep(0.1)"
   ]
  },
  {
   "cell_type": "code",
   "execution_count": 68,
   "metadata": {},
   "outputs": [
    {
     "data": {
      "application/vnd.jupyter.widget-view+json": {
       "model_id": "b21750dd01a34dffa2eb51131b27a130",
       "version_major": 2,
       "version_minor": 0
      },
      "text/plain": [
       "HBox(children=(IntProgress(value=0, max=50), HTML(value='')))"
      ]
     },
     "metadata": {},
     "output_type": "display_data"
    },
    {
     "name": "stdout",
     "output_type": "stream",
     "text": [
      "\n"
     ]
    }
   ],
   "source": [
    "dataset['FIELD_MAJOR_RECENT_DEGREE'].fillna('None', inplace=True)\n",
    "for i in tqdm(range(50)):\n",
    "    time.sleep(0.1)"
   ]
  },
  {
   "cell_type": "code",
   "execution_count": 69,
   "metadata": {},
   "outputs": [
    {
     "data": {
      "application/vnd.jupyter.widget-view+json": {
       "model_id": "f4b09eb03b5d44da89fb8716fe7349ed",
       "version_major": 2,
       "version_minor": 0
      },
      "text/plain": [
       "HBox(children=(IntProgress(value=0, max=50), HTML(value='')))"
      ]
     },
     "metadata": {},
     "output_type": "display_data"
    },
    {
     "name": "stdout",
     "output_type": "stream",
     "text": [
      "\n"
     ]
    }
   ],
   "source": [
    "dataset['AGE'] = pd.to_numeric(data['AGE'])\n",
    "for i in tqdm(range(50)):\n",
    "    time.sleep(0.1)"
   ]
  },
  {
   "cell_type": "code",
   "execution_count": 70,
   "metadata": {},
   "outputs": [
    {
     "data": {
      "application/vnd.jupyter.widget-view+json": {
       "model_id": "e17e553aae914dce932cd7c044c40597",
       "version_major": 2,
       "version_minor": 0
      },
      "text/plain": [
       "HBox(children=(IntProgress(value=0, max=50), HTML(value='')))"
      ]
     },
     "metadata": {},
     "output_type": "display_data"
    },
    {
     "name": "stdout",
     "output_type": "stream",
     "text": [
      "\n"
     ]
    }
   ],
   "source": [
    "bins = [20, 30,  40,  50,  60,  70,  80]\n",
    "dataset['AGE_BINS'] = pd.cut(dataset['AGE'], bins)\n",
    "for i in tqdm(range(50)):\n",
    "    time.sleep(0.1)"
   ]
  },
  {
   "cell_type": "code",
   "execution_count": 71,
   "metadata": {},
   "outputs": [
    {
     "data": {
      "application/vnd.jupyter.widget-view+json": {
       "model_id": "0c0271cab8564a76bdaef8c8a379f966",
       "version_major": 2,
       "version_minor": 0
      },
      "text/plain": [
       "HBox(children=(IntProgress(value=0, max=50), HTML(value='')))"
      ]
     },
     "metadata": {},
     "output_type": "display_data"
    },
    {
     "name": "stdout",
     "output_type": "stream",
     "text": [
      "\n"
     ]
    }
   ],
   "source": [
    "dataset['SALARY_NEW'] = dataset[' SALARY '].str.replace('$', '')\n",
    "for i in tqdm(range(50)):\n",
    "    time.sleep(0.1)"
   ]
  },
  {
   "cell_type": "code",
   "execution_count": 72,
   "metadata": {},
   "outputs": [
    {
     "data": {
      "application/vnd.jupyter.widget-view+json": {
       "model_id": "10bb5f4223324d79bb4ea04fc8440084",
       "version_major": 2,
       "version_minor": 0
      },
      "text/plain": [
       "HBox(children=(IntProgress(value=0, max=50), HTML(value='')))"
      ]
     },
     "metadata": {},
     "output_type": "display_data"
    },
    {
     "name": "stdout",
     "output_type": "stream",
     "text": [
      "\n"
     ]
    }
   ],
   "source": [
    "dataset['SALARY_NEW'] = dataset['SALARY_NEW'].str.replace(',', '')\n",
    "for i in tqdm(range(50)):\n",
    "    time.sleep(0.1)"
   ]
  },
  {
   "cell_type": "code",
   "execution_count": 73,
   "metadata": {},
   "outputs": [
    {
     "data": {
      "application/vnd.jupyter.widget-view+json": {
       "model_id": "d592c4b16e644ff2b0955467ccd46642",
       "version_major": 2,
       "version_minor": 0
      },
      "text/plain": [
       "HBox(children=(IntProgress(value=0, max=50), HTML(value='')))"
      ]
     },
     "metadata": {},
     "output_type": "display_data"
    },
    {
     "name": "stdout",
     "output_type": "stream",
     "text": [
      "\n"
     ]
    }
   ],
   "source": [
    "dataset['SALARY'] = dataset['SALARY_NEW'].str.replace(' -   ', '')\n",
    "for i in tqdm(range(50)):\n",
    "    time.sleep(0.1)"
   ]
  },
  {
   "cell_type": "code",
   "execution_count": 74,
   "metadata": {},
   "outputs": [
    {
     "data": {
      "application/vnd.jupyter.widget-view+json": {
       "model_id": "d3f0b60a02f94f43aa1b6e495310bebb",
       "version_major": 2,
       "version_minor": 0
      },
      "text/plain": [
       "HBox(children=(IntProgress(value=0, max=50), HTML(value='')))"
      ]
     },
     "metadata": {},
     "output_type": "display_data"
    },
    {
     "name": "stdout",
     "output_type": "stream",
     "text": [
      "\n"
     ]
    }
   ],
   "source": [
    "dataset = dataset.drop('SALARY_NEW', axis=1)\n",
    "for i in tqdm(range(50)):\n",
    "    time.sleep(0.1)"
   ]
  },
  {
   "cell_type": "code",
   "execution_count": 75,
   "metadata": {},
   "outputs": [
    {
     "data": {
      "application/vnd.jupyter.widget-view+json": {
       "model_id": "f2aed37d184e4744b329e29d063cd0b6",
       "version_major": 2,
       "version_minor": 0
      },
      "text/plain": [
       "HBox(children=(IntProgress(value=0, max=50), HTML(value='')))"
      ]
     },
     "metadata": {},
     "output_type": "display_data"
    },
    {
     "name": "stdout",
     "output_type": "stream",
     "text": [
      "\n"
     ]
    }
   ],
   "source": [
    "dataset['SALARY'] = pd.to_numeric(dataset['SALARY'], errors='coerce')\n",
    "for i in tqdm(range(50)):\n",
    "    time.sleep(0.1)"
   ]
  },
  {
   "cell_type": "code",
   "execution_count": 76,
   "metadata": {},
   "outputs": [
    {
     "data": {
      "application/vnd.jupyter.widget-view+json": {
       "model_id": "0cd7fee15d684c6eab8baf3ba54bedec",
       "version_major": 2,
       "version_minor": 0
      },
      "text/plain": [
       "HBox(children=(IntProgress(value=0, max=50), HTML(value='')))"
      ]
     },
     "metadata": {},
     "output_type": "display_data"
    },
    {
     "name": "stdout",
     "output_type": "stream",
     "text": [
      "\n"
     ]
    }
   ],
   "source": [
    "bins = [0, 5000, 10000, 20000,  30000,  40000,  50000,  60000,  70000,  80000, 90000, 100000, 200000]\n",
    "dataset['SALARY_BINS'] = pd.cut(dataset['SALARY'], bins)\n",
    "for i in tqdm(range(50)):\n",
    "    time.sleep(0.1)"
   ]
  },
  {
   "cell_type": "code",
   "execution_count": 77,
   "metadata": {},
   "outputs": [
    {
     "data": {
      "application/vnd.jupyter.widget-view+json": {
       "model_id": "7adb8049a3f0441a89b15b85a756ab54",
       "version_major": 2,
       "version_minor": 0
      },
      "text/plain": [
       "HBox(children=(IntProgress(value=0, max=50), HTML(value='')))"
      ]
     },
     "metadata": {},
     "output_type": "display_data"
    },
    {
     "name": "stdout",
     "output_type": "stream",
     "text": [
      "\n"
     ]
    }
   ],
   "source": [
    "dataset = dataset.drop('SALARY', axis=1)\n",
    "for i in tqdm(range(50)):\n",
    "    time.sleep(0.1)"
   ]
  },
  {
   "cell_type": "code",
   "execution_count": 78,
   "metadata": {},
   "outputs": [
    {
     "data": {
      "application/vnd.jupyter.widget-view+json": {
       "model_id": "e29c3e5b48be45c19789890280a992bf",
       "version_major": 2,
       "version_minor": 0
      },
      "text/plain": [
       "HBox(children=(IntProgress(value=0, max=50), HTML(value='')))"
      ]
     },
     "metadata": {},
     "output_type": "display_data"
    },
    {
     "name": "stdout",
     "output_type": "stream",
     "text": [
      "\n"
     ]
    }
   ],
   "source": [
    "datasetbackup = dataset\n",
    "for i in tqdm(range(50)):\n",
    "    time.sleep(0.1)"
   ]
  },
  {
   "cell_type": "code",
   "execution_count": 79,
   "metadata": {},
   "outputs": [],
   "source": [
    "modelme = dataset"
   ]
  },
  {
   "cell_type": "code",
   "execution_count": 80,
   "metadata": {},
   "outputs": [],
   "source": [
    "modelme = modelme.drop('REFID', axis=1)\n",
    "modelme = modelme.drop('AGE', axis=1)"
   ]
  },
  {
   "cell_type": "code",
   "execution_count": 81,
   "metadata": {},
   "outputs": [],
   "source": [
    "modelme = modelme.drop('SALARY_BINS', axis=1)"
   ]
  },
  {
   "cell_type": "code",
   "execution_count": 82,
   "metadata": {},
   "outputs": [],
   "source": [
    "modelme = modelme.drop('AGE_BINS', axis=1)"
   ]
  },
  {
   "cell_type": "code",
   "execution_count": 83,
   "metadata": {},
   "outputs": [],
   "source": [
    "modelme = modelme.drop(' SALARY ', axis=1)"
   ]
  },
  {
   "cell_type": "code",
   "execution_count": 84,
   "metadata": {},
   "outputs": [],
   "source": [
    "X = modelme.drop('SATISFACTION_JOB', axis=1)"
   ]
  },
  {
   "cell_type": "code",
   "execution_count": 85,
   "metadata": {},
   "outputs": [],
   "source": [
    "y = modelme['SATISFACTION_JOB']"
   ]
  },
  {
   "cell_type": "code",
   "execution_count": 86,
   "metadata": {},
   "outputs": [],
   "source": [
    "X = pd.get_dummies(X, prefix_sep='_', drop_first=False)"
   ]
  },
  {
   "cell_type": "code",
   "execution_count": 87,
   "metadata": {},
   "outputs": [],
   "source": [
    "y = pd.get_dummies(y, prefix_sep='_', drop_first=False)"
   ]
  },
  {
   "cell_type": "code",
   "execution_count": 88,
   "metadata": {},
   "outputs": [
    {
     "data": {
      "text/plain": [
       "(62373, 315)"
      ]
     },
     "execution_count": 88,
     "metadata": {},
     "output_type": "execute_result"
    }
   ],
   "source": [
    "X.shape"
   ]
  },
  {
   "cell_type": "code",
   "execution_count": 89,
   "metadata": {},
   "outputs": [
    {
     "data": {
      "text/plain": [
       "(62373, 4)"
      ]
     },
     "execution_count": 89,
     "metadata": {},
     "output_type": "execute_result"
    }
   ],
   "source": [
    "y.shape"
   ]
  },
  {
   "cell_type": "code",
   "execution_count": 90,
   "metadata": {},
   "outputs": [
    {
     "name": "stderr",
     "output_type": "stream",
     "text": [
      "C:\\Users\\Naeemah\\Anaconda3\\lib\\site-packages\\sklearn\\ensemble\\forest.py:245: FutureWarning: The default value of n_estimators will change from 10 in version 0.20 to 100 in 0.22.\n",
      "  \"10 in version 0.20 to 100 in 0.22.\", FutureWarning)\n"
     ]
    },
    {
     "name": "stdout",
     "output_type": "stream",
     "text": [
      "[0.00407912 0.00424387 0.00300829 0.00308411 0.00274491 0.00317521\n",
      " 0.00412672 0.00287626 0.00273164 0.00168671 0.00178165 0.00066344\n",
      " 0.00282259 0.00226018 0.00173669 0.00465552 0.0037086  0.00392763\n",
      " 0.00185576 0.00222512 0.00448524 0.00424935 0.00232514 0.00257353\n",
      " 0.00341948 0.00335636 0.00357937 0.0036388  0.00231562 0.00248037\n",
      " 0.00404331 0.00124619 0.00324553 0.00093402 0.00054023 0.00074299\n",
      " 0.00089703 0.00199809 0.00026856 0.0013349  0.00218558 0.00116847\n",
      " 0.00114068 0.00302711 0.00151029 0.00068633 0.00190945 0.00054359\n",
      " 0.00055279 0.0002889  0.00013397 0.00033267 0.00025099 0.00018385\n",
      " 0.00044154 0.00059321 0.00212769 0.00131246 0.00101894 0.00130248\n",
      " 0.0020931  0.00221359 0.00332042 0.00115669 0.00310163 0.00122296\n",
      " 0.00178896 0.00197025 0.00370783 0.00260227 0.00020861 0.00245669\n",
      " 0.00355208 0.00336621 0.00158912 0.00289009 0.00372846 0.00235056\n",
      " 0.00351237 0.00142258 0.00110393 0.001605   0.0013845  0.00140377\n",
      " 0.0015965  0.00076196 0.00246705 0.00160044 0.00129529 0.002331\n",
      " 0.00120296 0.00172967 0.00157457 0.00144517 0.0029704  0.00287732\n",
      " 0.00248683 0.00153008 0.00158651 0.00120805 0.00187098 0.00166042\n",
      " 0.00114065 0.00164775 0.00111046 0.00321188 0.00290948 0.00125545\n",
      " 0.0013629  0.00140659 0.00151015 0.00184289 0.00133822 0.00107424\n",
      " 0.00335179 0.00260221 0.00244992 0.00261066 0.00140049 0.0016338\n",
      " 0.00173607 0.00220815 0.0023787  0.00306753 0.00291324 0.00258288\n",
      " 0.00240445 0.00248745 0.00258278 0.00240788 0.00225329 0.00168293\n",
      " 0.00195313 0.00346725 0.00345645 0.00301324 0.00315761 0.00331386\n",
      " 0.00321128 0.00369638 0.00371798 0.00252936 0.00253887 0.0030566\n",
      " 0.00294276 0.00325345 0.00357454 0.00340618 0.0033481  0.00307346\n",
      " 0.00332985 0.00323332 0.00302207 0.00310366 0.00320264 0.00349574\n",
      " 0.00330494 0.00312066 0.00331169 0.00285157 0.00297185 0.00358722\n",
      " 0.00379002 0.00397023 0.00311077 0.00187096 0.0014359  0.0040564\n",
      " 0.00346861 0.00398336 0.00080167 0.00054554 0.00105329 0.00041836\n",
      " 0.00140797 0.00040182 0.00097234 0.00063119 0.00050576 0.00036577\n",
      " 0.00037851 0.00063007 0.00162132 0.00135351 0.00012833 0.0009497\n",
      " 0.00069297 0.00103959 0.00107967 0.0011613  0.0012308  0.00079092\n",
      " 0.00075493 0.00130542 0.00107056 0.00149742 0.00212858 0.00050818\n",
      " 0.00051969 0.0011672  0.00117939 0.00839633 0.00682934 0.00983454\n",
      " 0.01582294 0.00460621 0.00544278 0.00338938 0.01297687 0.00904545\n",
      " 0.01533462 0.00910886 0.02223649 0.00453189 0.02009283 0.00370937\n",
      " 0.02469636 0.00309493 0.00418448 0.002332   0.02394986 0.00903311\n",
      " 0.01789077 0.00482122 0.04032404 0.01654116 0.01175109 0.01229846\n",
      " 0.02251561 0.00389755 0.00687197 0.0062099  0.0196866  0.00885623\n",
      " 0.01969064 0.00575598 0.01010081 0.00253167 0.00249508 0.00211719\n",
      " 0.00245307 0.00016933 0.00048983 0.00124705 0.00356228 0.00059612\n",
      " 0.00246807 0.00157516 0.00154614 0.00366075 0.00350757 0.00319148\n",
      " 0.00326714 0.00317914 0.00318122 0.00037809 0.00041403 0.00286899\n",
      " 0.00274024 0.00277679 0.00259669 0.00339774 0.00325879 0.00351929\n",
      " 0.00364105 0.00321714 0.00317678 0.00402112 0.00106153 0.00423876\n",
      " 0.00099641 0.00148286 0.00188349 0.00081622 0.00098716 0.00121082\n",
      " 0.00222361 0.00130923 0.00161557 0.00233586 0.00170474 0.00149844\n",
      " 0.00075154 0.00106968 0.0019957  0.00234718 0.00153374 0.00108213\n",
      " 0.00067258 0.00128572 0.00195426 0.00129035 0.00218017 0.00232702\n",
      " 0.00299491 0.00288775 0.00152273 0.00284338 0.00284141 0.00143914\n",
      " 0.00139252 0.00110282 0.0012747  0.00115911 0.00092193 0.00113287\n",
      " 0.00113093 0.00080703 0.00080797 0.00113034 0.00116958 0.00138066\n",
      " 0.00131508 0.0011553  0.00111477]\n"
     ]
    },
    {
     "data": {
      "image/png": "[encoded data removed]",
      "text/plain": [
       "<Figure size 432x288 with 1 Axes>"
      ]
     },
     "metadata": {
      "needs_background": "light"
     },
     "output_type": "display_data"
    },
    {
     "data": {
      "application/vnd.jupyter.widget-view+json": {
       "model_id": "eef44211871f44f8ab522c3fd21ff3d1",
       "version_major": 2,
       "version_minor": 0
      },
      "text/plain": [
       "HBox(children=(IntProgress(value=0, max=50), HTML(value='')))"
      ]
     },
     "metadata": {},
     "output_type": "display_data"
    },
    {
     "name": "stdout",
     "output_type": "stream",
     "text": [
      "\n"
     ]
    }
   ],
   "source": [
    "from sklearn.ensemble import ExtraTreesClassifier\n",
    "import matplotlib.pyplot as plt\n",
    "model = ExtraTreesClassifier()\n",
    "model.fit(X,y)\n",
    "print(model.feature_importances_) #use inbuilt class feature_importances of tree based classifiers\n",
    "#plot graph of feature importances for better visualization\n",
    "feat_importances = pd.Series(model.feature_importances_, index=X.columns)\n",
    "feat_importances.nlargest(20).plot(kind='barh')\n",
    "plt.show()\n",
    "for i in tqdm(range(50)):\n",
    "    time.sleep(0.1)"
   ]
  },
  {
   "cell_type": "raw",
   "metadata": {},
   "source": [
    "'SATISFACTION_JOB_ADVANCE_Somewhat dissatisfied',\n",
    "'SATISFACTION_JOB_ADVANCE_Very dissatisfied',\n",
    "'SATISFACTION_JOB_ADVANCE_Very satisfied',\n",
    "'SATISFACTION_JOB_BENEFITS_Very satisfied',\n",
    "'SATISFACTION_JOB_CHALLENGE_Somewhat dissatisfied',\n",
    "'SATISFACTION_JOB_CHALLENGE_Somewhat satisfied',\n",
    "'SATISFACTION_JOB_CHALLENGE_Very dissatisfied',\n",
    "'SATISFACTION_JOB_CHALLENGE_Very satisfied',\n",
    "'SATISFACTION_JOB_INDEP_Somewhat satisfied',\n",
    "'SATISFACTION_JOB_INDEP_Very satisfied',\n",
    "'SATISFACTION_JOB_LOC_Very satisfied',\n",
    "'SATISFACTION_JOB_RESP_Somewhat satisfied',\n",
    "'SATISFACTION_JOB_RESP_Very satisfied',\n",
    "'SATISFACTION_JOB_SALARY_Somewhat dissatisfied',\n",
    "'SATISFACTION_JOB_SALARY_Somewhat satisfied',\n",
    "'SATISFACTION_JOB_SALARY_Very dissatisfied',\n",
    "'SATISFACTION_JOB_SALARY_Very satisfied',\n",
    "'SATISFACTION_JOB_SECURITY_Very satisfied',\n",
    "'SATISFACTION_JOB_CONTRIB_SOCIETY_Somewhat satisfied',\n",
    "'SATISFACTION_JOB_CONTRIB_SOCIETY_Very satisfied'"
   ]
  },
  {
   "cell_type": "code",
   "execution_count": 91,
   "metadata": {},
   "outputs": [],
   "source": [
    "Xnew = X[['SATISFACTION_JOB_ADVANCE_Somewhat dissatisfied',\n",
    "'SATISFACTION_JOB_ADVANCE_Very dissatisfied',\n",
    "'SATISFACTION_JOB_ADVANCE_Very satisfied',\n",
    "'SATISFACTION_JOB_BENEFITS_Very satisfied',\n",
    "'SATISFACTION_JOB_CHALLENGE_Somewhat dissatisfied',\n",
    "'SATISFACTION_JOB_CHALLENGE_Somewhat satisfied',\n",
    "'SATISFACTION_JOB_CHALLENGE_Very dissatisfied',\n",
    "'SATISFACTION_JOB_CHALLENGE_Very satisfied',\n",
    "'SATISFACTION_JOB_INDEP_Somewhat satisfied',\n",
    "'SATISFACTION_JOB_INDEP_Very satisfied',\n",
    "'SATISFACTION_JOB_LOC_Very satisfied',\n",
    "'SATISFACTION_JOB_RESP_Somewhat satisfied',\n",
    "'SATISFACTION_JOB_RESP_Very satisfied',\n",
    "'SATISFACTION_JOB_SALARY_Somewhat dissatisfied',\n",
    "'SATISFACTION_JOB_SALARY_Somewhat satisfied',\n",
    "'SATISFACTION_JOB_SALARY_Very dissatisfied',\n",
    "'SATISFACTION_JOB_SALARY_Very satisfied',\n",
    "'SATISFACTION_JOB_SECURITY_Very satisfied',\n",
    "'SATISFACTION_JOB_CONTRIB_SOCIETY_Somewhat satisfied',\n",
    "'SATISFACTION_JOB_CONTRIB_SOCIETY_Very satisfied']]"
   ]
  },
  {
   "cell_type": "code",
   "execution_count": 92,
   "metadata": {},
   "outputs": [],
   "source": [
    "X_train, X_test, y_train, y_test = train_test_split(Xnew, y, test_size = 0.2)"
   ]
  },
  {
   "cell_type": "code",
   "execution_count": 93,
   "metadata": {},
   "outputs": [],
   "source": [
    "dtree_score1 =[];dtree_score2 =[];dtree_score3 =[];dtree_score4 =[]"
   ]
  },
  {
   "cell_type": "code",
   "execution_count": 94,
   "metadata": {},
   "outputs": [],
   "source": [
    "dtree = DecisionTreeClassifier(random_state = 1111, max_depth = 4);dtree.fit(X_train, y_train)\n",
    "dtree_score1.append(dtree.score(X_test, y_test))"
   ]
  },
  {
   "cell_type": "code",
   "execution_count": 95,
   "metadata": {},
   "outputs": [],
   "source": [
    "dtree = DecisionTreeClassifier(random_state = 1111, max_depth = 8);dtree.fit(X_train, y_train)\n",
    "dtree_score2.append(dtree.score(X_test, y_test))"
   ]
  },
  {
   "cell_type": "code",
   "execution_count": 96,
   "metadata": {},
   "outputs": [],
   "source": [
    "dtree = DecisionTreeClassifier(random_state = 1111, max_depth = 12);dtree.fit(X_train, y_train)\n",
    "dtree_score3.append(dtree.score(X_test, y_test))"
   ]
  },
  {
   "cell_type": "code",
   "execution_count": 97,
   "metadata": {},
   "outputs": [],
   "source": [
    "dtree = DecisionTreeClassifier(random_state = 1111, max_depth = 16);dtree.fit(X_train, y_train)\n",
    "dtree_score4.append(dtree.score(X_test, y_test))"
   ]
  },
  {
   "cell_type": "code",
   "execution_count": 98,
   "metadata": {},
   "outputs": [
    {
     "data": {
      "application/vnd.jupyter.widget-view+json": {
       "model_id": "02dd8c7ce5df480ca3185fe10e1b48c2",
       "version_major": 2,
       "version_minor": 0
      },
      "text/plain": [
       "HBox(children=(IntProgress(value=0, max=50), HTML(value='')))"
      ]
     },
     "metadata": {},
     "output_type": "display_data"
    },
    {
     "name": "stdout",
     "output_type": "stream",
     "text": [
      "\n"
     ]
    },
    {
     "data": {
      "image/png": "[encoded data removed]",
      "text/plain": [
       "<Figure size 432x288 with 1 Axes>"
      ]
     },
     "metadata": {
      "needs_background": "light"
     },
     "output_type": "display_data"
    }
   ],
   "source": [
    "sns.barplot(data=[dtree_score1, dtree_score2, dtree_score3, dtree_score4])\n",
    "plt.xticks([0,1,2,3], ['Very satisfied', 'Somewhat satisfied', 'Somewhat dissatisfied', 'Very dissatisfied'])\n",
    "plt.ylabel('Test Accuracy')\n",
    "for i in tqdm(range(50)):\n",
    "    time.sleep(0.1)"
   ]
  },
  {
   "cell_type": "code",
   "execution_count": 99,
   "metadata": {},
   "outputs": [
    {
     "data": {
      "text/plain": [
       "Text(0, 0.5, 'Test Accuracy')"
      ]
     },
     "execution_count": 99,
     "metadata": {},
     "output_type": "execute_result"
    },
    {
     "data": {
      "image/png": "[encoded data removed]",
      "text/plain": [
       "<Figure size 432x288 with 1 Axes>"
      ]
     },
     "metadata": {
      "needs_background": "light"
     },
     "output_type": "display_data"
    }
   ],
   "source": [
    "sns.boxplot(data=[dtree_score1, dtree_score2, dtree_score3, dtree_score4])\n",
    "plt.xticks([0,1,2,3], ['Very satisfied', 'Somewhat satisfied', 'Somewhat dissatisfied', 'Very dissatisfied'])\n",
    "plt.ylabel('Test Accuracy')"
   ]
  },
  {
   "cell_type": "code",
   "execution_count": 100,
   "metadata": {},
   "outputs": [
    {
     "data": {
      "text/plain": [
       "Text(0, 0.5, 'Test Accuracy')"
      ]
     },
     "execution_count": 100,
     "metadata": {},
     "output_type": "execute_result"
    },
    {
     "data": {
      "image/png": "[encoded data removed]",
      "text/plain": [
       "<Figure size 432x288 with 1 Axes>"
      ]
     },
     "metadata": {
      "needs_background": "light"
     },
     "output_type": "display_data"
    }
   ],
   "source": [
    "sns.stripplot(data=[dtree_score1, dtree_score2, dtree_score3, dtree_score4])\n",
    "plt.xticks([0,1,2,3], ['Very satisfied', 'Somewhat satisfied', 'Somewhat dissatisfied', 'Very dissatisfied'])\n",
    "plt.ylabel('Test Accuracy')"
   ]
  },
  {
   "cell_type": "code",
   "execution_count": 101,
   "metadata": {},
   "outputs": [],
   "source": [
    "Xnew_col = Xnew.columns"
   ]
  },
  {
   "cell_type": "code",
   "execution_count": 102,
   "metadata": {},
   "outputs": [
    {
     "name": "stdout",
     "output_type": "stream",
     "text": [
      "\n",
      "<class 'pandas.core.frame.DataFrame'>\n",
      "RangeIndex: 62373 entries, 0 to 62372\n",
      "Data columns (total 20 columns):\n",
      "SATISFACTION_JOB_ADVANCE_Somewhat dissatisfied         62373 non-null uint8\n",
      "SATISFACTION_JOB_ADVANCE_Very dissatisfied             62373 non-null uint8\n",
      "SATISFACTION_JOB_ADVANCE_Very satisfied                62373 non-null uint8\n",
      "SATISFACTION_JOB_BENEFITS_Very satisfied               62373 non-null uint8\n",
      "SATISFACTION_JOB_CHALLENGE_Somewhat dissatisfied       62373 non-null uint8\n",
      "SATISFACTION_JOB_CHALLENGE_Somewhat satisfied          62373 non-null uint8\n",
      "SATISFACTION_JOB_CHALLENGE_Very dissatisfied           62373 non-null uint8\n",
      "SATISFACTION_JOB_CHALLENGE_Very satisfied              62373 non-null uint8\n",
      "SATISFACTION_JOB_INDEP_Somewhat satisfied              62373 non-null uint8\n",
      "SATISFACTION_JOB_INDEP_Very satisfied                  62373 non-null uint8\n",
      "SATISFACTION_JOB_LOC_Very satisfied                    62373 non-null uint8\n",
      "SATISFACTION_JOB_RESP_Somewhat satisfied               62373 non-null uint8\n",
      "SATISFACTION_JOB_RESP_Very satisfied                   62373 non-null uint8\n",
      "SATISFACTION_JOB_SALARY_Somewhat dissatisfied          62373 non-null uint8\n",
      "SATISFACTION_JOB_SALARY_Somewhat satisfied             62373 non-null uint8\n",
      "SATISFACTION_JOB_SALARY_Very dissatisfied              62373 non-null uint8\n",
      "SATISFACTION_JOB_SALARY_Very satisfied                 62373 non-null uint8\n",
      "SATISFACTION_JOB_SECURITY_Very satisfied               62373 non-null uint8\n",
      "SATISFACTION_JOB_CONTRIB_SOCIETY_Somewhat satisfied    62373 non-null uint8\n",
      "SATISFACTION_JOB_CONTRIB_SOCIETY_Very satisfied        62373 non-null uint8\n",
      "dtypes: uint8(20)\n",
      "memory usage: 1.2 MB\n",
      "None\n"
     ]
    }
   ],
   "source": [
    "print(); print(Xnew[Xnew_col].info())"
   ]
  },
  {
   "cell_type": "code",
   "execution_count": 103,
   "metadata": {},
   "outputs": [
    {
     "data": {
      "text/html": [
       "<div>\n",
       "<style scoped>\n",
       "    .dataframe tbody tr th:only-of-type {\n",
       "        vertical-align: middle;\n",
       "    }\n",
       "\n",
       "    .dataframe tbody tr th {\n",
       "        vertical-align: top;\n",
       "    }\n",
       "\n",
       "    .dataframe thead th {\n",
       "        text-align: right;\n",
       "    }\n",
       "</style>\n",
       "<table border=\"1\" class=\"dataframe\">\n",
       "  <thead>\n",
       "    <tr style=\"text-align: right;\">\n",
       "      <th></th>\n",
       "      <th>SATISFACTION_JOB_ADVANCE_Somewhat dissatisfied</th>\n",
       "      <th>SATISFACTION_JOB_ADVANCE_Very dissatisfied</th>\n",
       "      <th>SATISFACTION_JOB_ADVANCE_Very satisfied</th>\n",
       "      <th>SATISFACTION_JOB_BENEFITS_Very satisfied</th>\n",
       "      <th>SATISFACTION_JOB_CHALLENGE_Somewhat dissatisfied</th>\n",
       "      <th>SATISFACTION_JOB_CHALLENGE_Somewhat satisfied</th>\n",
       "      <th>SATISFACTION_JOB_CHALLENGE_Very dissatisfied</th>\n",
       "      <th>SATISFACTION_JOB_CHALLENGE_Very satisfied</th>\n",
       "      <th>SATISFACTION_JOB_INDEP_Somewhat satisfied</th>\n",
       "      <th>SATISFACTION_JOB_INDEP_Very satisfied</th>\n",
       "      <th>SATISFACTION_JOB_LOC_Very satisfied</th>\n",
       "      <th>SATISFACTION_JOB_RESP_Somewhat satisfied</th>\n",
       "      <th>SATISFACTION_JOB_RESP_Very satisfied</th>\n",
       "      <th>SATISFACTION_JOB_SALARY_Somewhat dissatisfied</th>\n",
       "      <th>SATISFACTION_JOB_SALARY_Somewhat satisfied</th>\n",
       "      <th>SATISFACTION_JOB_SALARY_Very dissatisfied</th>\n",
       "      <th>SATISFACTION_JOB_SALARY_Very satisfied</th>\n",
       "      <th>SATISFACTION_JOB_SECURITY_Very satisfied</th>\n",
       "      <th>SATISFACTION_JOB_CONTRIB_SOCIETY_Somewhat satisfied</th>\n",
       "      <th>SATISFACTION_JOB_CONTRIB_SOCIETY_Very satisfied</th>\n",
       "    </tr>\n",
       "  </thead>\n",
       "  <tbody>\n",
       "    <tr>\n",
       "      <th>count</th>\n",
       "      <td>62373.000000</td>\n",
       "      <td>62373.000000</td>\n",
       "      <td>62373.000000</td>\n",
       "      <td>62373.000000</td>\n",
       "      <td>62373.000000</td>\n",
       "      <td>62373.000000</td>\n",
       "      <td>62373.000000</td>\n",
       "      <td>62373.000000</td>\n",
       "      <td>62373.000000</td>\n",
       "      <td>62373.000000</td>\n",
       "      <td>62373.000000</td>\n",
       "      <td>62373.000000</td>\n",
       "      <td>62373.000000</td>\n",
       "      <td>62373.000000</td>\n",
       "      <td>62373.000000</td>\n",
       "      <td>62373.000000</td>\n",
       "      <td>62373.000000</td>\n",
       "      <td>62373.000000</td>\n",
       "      <td>62373.000000</td>\n",
       "      <td>62373.000000</td>\n",
       "    </tr>\n",
       "    <tr>\n",
       "      <th>mean</th>\n",
       "      <td>0.220753</td>\n",
       "      <td>0.103426</td>\n",
       "      <td>0.242733</td>\n",
       "      <td>0.369423</td>\n",
       "      <td>0.117487</td>\n",
       "      <td>0.391483</td>\n",
       "      <td>0.051208</td>\n",
       "      <td>0.439822</td>\n",
       "      <td>0.327866</td>\n",
       "      <td>0.580331</td>\n",
       "      <td>0.556795</td>\n",
       "      <td>0.415148</td>\n",
       "      <td>0.466195</td>\n",
       "      <td>0.154169</td>\n",
       "      <td>0.494188</td>\n",
       "      <td>0.074888</td>\n",
       "      <td>0.276754</td>\n",
       "      <td>0.440367</td>\n",
       "      <td>0.376942</td>\n",
       "      <td>0.486012</td>\n",
       "    </tr>\n",
       "    <tr>\n",
       "      <th>std</th>\n",
       "      <td>0.414757</td>\n",
       "      <td>0.304517</td>\n",
       "      <td>0.428739</td>\n",
       "      <td>0.482652</td>\n",
       "      <td>0.322002</td>\n",
       "      <td>0.488086</td>\n",
       "      <td>0.220424</td>\n",
       "      <td>0.496369</td>\n",
       "      <td>0.469440</td>\n",
       "      <td>0.493509</td>\n",
       "      <td>0.496768</td>\n",
       "      <td>0.492751</td>\n",
       "      <td>0.498860</td>\n",
       "      <td>0.361114</td>\n",
       "      <td>0.499970</td>\n",
       "      <td>0.263213</td>\n",
       "      <td>0.447398</td>\n",
       "      <td>0.496435</td>\n",
       "      <td>0.484624</td>\n",
       "      <td>0.499808</td>\n",
       "    </tr>\n",
       "    <tr>\n",
       "      <th>min</th>\n",
       "      <td>0.000000</td>\n",
       "      <td>0.000000</td>\n",
       "      <td>0.000000</td>\n",
       "      <td>0.000000</td>\n",
       "      <td>0.000000</td>\n",
       "      <td>0.000000</td>\n",
       "      <td>0.000000</td>\n",
       "      <td>0.000000</td>\n",
       "      <td>0.000000</td>\n",
       "      <td>0.000000</td>\n",
       "      <td>0.000000</td>\n",
       "      <td>0.000000</td>\n",
       "      <td>0.000000</td>\n",
       "      <td>0.000000</td>\n",
       "      <td>0.000000</td>\n",
       "      <td>0.000000</td>\n",
       "      <td>0.000000</td>\n",
       "      <td>0.000000</td>\n",
       "      <td>0.000000</td>\n",
       "      <td>0.000000</td>\n",
       "    </tr>\n",
       "    <tr>\n",
       "      <th>25%</th>\n",
       "      <td>0.000000</td>\n",
       "      <td>0.000000</td>\n",
       "      <td>0.000000</td>\n",
       "      <td>0.000000</td>\n",
       "      <td>0.000000</td>\n",
       "      <td>0.000000</td>\n",
       "      <td>0.000000</td>\n",
       "      <td>0.000000</td>\n",
       "      <td>0.000000</td>\n",
       "      <td>0.000000</td>\n",
       "      <td>0.000000</td>\n",
       "      <td>0.000000</td>\n",
       "      <td>0.000000</td>\n",
       "      <td>0.000000</td>\n",
       "      <td>0.000000</td>\n",
       "      <td>0.000000</td>\n",
       "      <td>0.000000</td>\n",
       "      <td>0.000000</td>\n",
       "      <td>0.000000</td>\n",
       "      <td>0.000000</td>\n",
       "    </tr>\n",
       "    <tr>\n",
       "      <th>50%</th>\n",
       "      <td>0.000000</td>\n",
       "      <td>0.000000</td>\n",
       "      <td>0.000000</td>\n",
       "      <td>0.000000</td>\n",
       "      <td>0.000000</td>\n",
       "      <td>0.000000</td>\n",
       "      <td>0.000000</td>\n",
       "      <td>0.000000</td>\n",
       "      <td>0.000000</td>\n",
       "      <td>1.000000</td>\n",
       "      <td>1.000000</td>\n",
       "      <td>0.000000</td>\n",
       "      <td>0.000000</td>\n",
       "      <td>0.000000</td>\n",
       "      <td>0.000000</td>\n",
       "      <td>0.000000</td>\n",
       "      <td>0.000000</td>\n",
       "      <td>0.000000</td>\n",
       "      <td>0.000000</td>\n",
       "      <td>0.000000</td>\n",
       "    </tr>\n",
       "    <tr>\n",
       "      <th>75%</th>\n",
       "      <td>0.000000</td>\n",
       "      <td>0.000000</td>\n",
       "      <td>0.000000</td>\n",
       "      <td>1.000000</td>\n",
       "      <td>0.000000</td>\n",
       "      <td>1.000000</td>\n",
       "      <td>0.000000</td>\n",
       "      <td>1.000000</td>\n",
       "      <td>1.000000</td>\n",
       "      <td>1.000000</td>\n",
       "      <td>1.000000</td>\n",
       "      <td>1.000000</td>\n",
       "      <td>1.000000</td>\n",
       "      <td>0.000000</td>\n",
       "      <td>1.000000</td>\n",
       "      <td>0.000000</td>\n",
       "      <td>1.000000</td>\n",
       "      <td>1.000000</td>\n",
       "      <td>1.000000</td>\n",
       "      <td>1.000000</td>\n",
       "    </tr>\n",
       "    <tr>\n",
       "      <th>max</th>\n",
       "      <td>1.000000</td>\n",
       "      <td>1.000000</td>\n",
       "      <td>1.000000</td>\n",
       "      <td>1.000000</td>\n",
       "      <td>1.000000</td>\n",
       "      <td>1.000000</td>\n",
       "      <td>1.000000</td>\n",
       "      <td>1.000000</td>\n",
       "      <td>1.000000</td>\n",
       "      <td>1.000000</td>\n",
       "      <td>1.000000</td>\n",
       "      <td>1.000000</td>\n",
       "      <td>1.000000</td>\n",
       "      <td>1.000000</td>\n",
       "      <td>1.000000</td>\n",
       "      <td>1.000000</td>\n",
       "      <td>1.000000</td>\n",
       "      <td>1.000000</td>\n",
       "      <td>1.000000</td>\n",
       "      <td>1.000000</td>\n",
       "    </tr>\n",
       "  </tbody>\n",
       "</table>\n",
       "</div>"
      ],
      "text/plain": [
       "       SATISFACTION_JOB_ADVANCE_Somewhat dissatisfied  SATISFACTION_JOB_ADVANCE_Very dissatisfied  SATISFACTION_JOB_ADVANCE_Very satisfied  SATISFACTION_JOB_BENEFITS_Very satisfied  SATISFACTION_JOB_CHALLENGE_Somewhat dissatisfied  SATISFACTION_JOB_CHALLENGE_Somewhat satisfied  SATISFACTION_JOB_CHALLENGE_Very dissatisfied  SATISFACTION_JOB_CHALLENGE_Very satisfied  SATISFACTION_JOB_INDEP_Somewhat satisfied  SATISFACTION_JOB_INDEP_Very satisfied  SATISFACTION_JOB_LOC_Very satisfied  SATISFACTION_JOB_RESP_Somewhat satisfied  SATISFACTION_JOB_RESP_Very satisfied  SATISFACTION_JOB_SALARY_Somewhat dissatisfied  SATISFACTION_JOB_SALARY_Somewhat satisfied  SATISFACTION_JOB_SALARY_Very dissatisfied  SATISFACTION_JOB_SALARY_Very satisfied  SATISFACTION_JOB_SECURITY_Very satisfied  SATISFACTION_JOB_CONTRIB_SOCIETY_Somewhat satisfied  SATISFACTION_JOB_CONTRIB_SOCIETY_Very satisfied\n",
       "count                                    62373.000000                                62373.000000                             62373.000000                              62373.000000                                      62373.000000                                   62373.000000                                  62373.000000                               62373.000000                               62373.000000                           62373.000000                         62373.000000                              62373.000000                          62373.000000                                   62373.000000                                62373.000000                               62373.000000                            62373.000000                              62373.000000                                       62373.000000                                       62373.000000\n",
       "mean                                         0.220753                                    0.103426                                 0.242733                                  0.369423                                          0.117487                                       0.391483                                      0.051208                                   0.439822                                   0.327866                               0.580331                             0.556795                                  0.415148                              0.466195                                       0.154169                                    0.494188                                   0.074888                                0.276754                                  0.440367                                           0.376942                                           0.486012\n",
       "std                                          0.414757                                    0.304517                                 0.428739                                  0.482652                                          0.322002                                       0.488086                                      0.220424                                   0.496369                                   0.469440                               0.493509                             0.496768                                  0.492751                              0.498860                                       0.361114                                    0.499970                                   0.263213                                0.447398                                  0.496435                                           0.484624                                           0.499808\n",
       "min                                          0.000000                                    0.000000                                 0.000000                                  0.000000                                          0.000000                                       0.000000                                      0.000000                                   0.000000                                   0.000000                               0.000000                             0.000000                                  0.000000                              0.000000                                       0.000000                                    0.000000                                   0.000000                                0.000000                                  0.000000                                           0.000000                                           0.000000\n",
       "25%                                          0.000000                                    0.000000                                 0.000000                                  0.000000                                          0.000000                                       0.000000                                      0.000000                                   0.000000                                   0.000000                               0.000000                             0.000000                                  0.000000                              0.000000                                       0.000000                                    0.000000                                   0.000000                                0.000000                                  0.000000                                           0.000000                                           0.000000\n",
       "50%                                          0.000000                                    0.000000                                 0.000000                                  0.000000                                          0.000000                                       0.000000                                      0.000000                                   0.000000                                   0.000000                               1.000000                             1.000000                                  0.000000                              0.000000                                       0.000000                                    0.000000                                   0.000000                                0.000000                                  0.000000                                           0.000000                                           0.000000\n",
       "75%                                          0.000000                                    0.000000                                 0.000000                                  1.000000                                          0.000000                                       1.000000                                      0.000000                                   1.000000                                   1.000000                               1.000000                             1.000000                                  1.000000                              1.000000                                       0.000000                                    1.000000                                   0.000000                                1.000000                                  1.000000                                           1.000000                                           1.000000\n",
       "max                                          1.000000                                    1.000000                                 1.000000                                  1.000000                                          1.000000                                       1.000000                                      1.000000                                   1.000000                                   1.000000                               1.000000                             1.000000                                  1.000000                              1.000000                                       1.000000                                    1.000000                                   1.000000                                1.000000                                  1.000000                                           1.000000                                           1.000000"
      ]
     },
     "execution_count": 103,
     "metadata": {},
     "output_type": "execute_result"
    }
   ],
   "source": [
    "Xnew[Xnew_col].describe()"
   ]
  },
  {
   "cell_type": "code",
   "execution_count": 104,
   "metadata": {},
   "outputs": [
    {
     "data": {
      "text/plain": [
       "(62373, 20)"
      ]
     },
     "execution_count": 104,
     "metadata": {},
     "output_type": "execute_result"
    }
   ],
   "source": [
    "Xnew.shape"
   ]
  },
  {
   "cell_type": "code",
   "execution_count": 105,
   "metadata": {},
   "outputs": [
    {
     "data": {
      "text/plain": [
       "(62373, 4)"
      ]
     },
     "execution_count": 105,
     "metadata": {},
     "output_type": "execute_result"
    }
   ],
   "source": [
    "y.shape"
   ]
  },
  {
   "cell_type": "code",
   "execution_count": 106,
   "metadata": {},
   "outputs": [],
   "source": [
    "y_predict = dtree.predict(X_test)"
   ]
  },
  {
   "cell_type": "code",
   "execution_count": 107,
   "metadata": {},
   "outputs": [
    {
     "data": {
      "text/plain": [
       "array([[0, 0, 0, 1],\n",
       "       [0, 0, 0, 1],\n",
       "       [0, 0, 0, 1],\n",
       "       ...,\n",
       "       [0, 0, 0, 1],\n",
       "       [1, 0, 0, 0],\n",
       "       [0, 1, 0, 0]], dtype=uint8)"
      ]
     },
     "execution_count": 107,
     "metadata": {},
     "output_type": "execute_result"
    }
   ],
   "source": [
    "y_predict"
   ]
  },
  {
   "cell_type": "code",
   "execution_count": 108,
   "metadata": {},
   "outputs": [],
   "source": [
    "y_trainpredict = dtree.predict(X_train)"
   ]
  },
  {
   "cell_type": "code",
   "execution_count": 109,
   "metadata": {},
   "outputs": [
    {
     "data": {
      "text/plain": [
       "array([[0, 1, 0, 0],\n",
       "       [0, 0, 0, 0],\n",
       "       [0, 1, 0, 0],\n",
       "       ...,\n",
       "       [0, 0, 0, 1],\n",
       "       [0, 1, 0, 0],\n",
       "       [0, 0, 0, 1]], dtype=uint8)"
      ]
     },
     "execution_count": 109,
     "metadata": {},
     "output_type": "execute_result"
    }
   ],
   "source": [
    "y_trainpredict"
   ]
  },
  {
   "cell_type": "code",
   "execution_count": 110,
   "metadata": {},
   "outputs": [
    {
     "data": {
      "text/plain": [
       "[array([[1.        , 0.        ],\n",
       "        [0.99697885, 0.00302115],\n",
       "        [1.        , 0.        ],\n",
       "        ...,\n",
       "        [1.        , 0.        ],\n",
       "        [0.2       , 0.8       ],\n",
       "        [1.        , 0.        ]]), array([[0.75      , 0.25      ],\n",
       "        [0.85800604, 0.14199396],\n",
       "        [0.65384615, 0.34615385],\n",
       "        ...,\n",
       "        [0.78378378, 0.21621622],\n",
       "        [0.8       , 0.2       ],\n",
       "        [0.        , 1.        ]]), array([[1., 0.],\n",
       "        [1., 0.],\n",
       "        [1., 0.],\n",
       "        ...,\n",
       "        [1., 0.],\n",
       "        [1., 0.],\n",
       "        [1., 0.]]), array([[0.25      , 0.75      ],\n",
       "        [0.14501511, 0.85498489],\n",
       "        [0.34615385, 0.65384615],\n",
       "        ...,\n",
       "        [0.21621622, 0.78378378],\n",
       "        [1.        , 0.        ],\n",
       "        [1.        , 0.        ]])]"
      ]
     },
     "execution_count": 110,
     "metadata": {},
     "output_type": "execute_result"
    }
   ],
   "source": [
    "dtree.predict_proba(X_test)"
   ]
  },
  {
   "cell_type": "code",
   "execution_count": 111,
   "metadata": {},
   "outputs": [
    {
     "data": {
      "text/plain": [
       "{'class_weight': None,\n",
       " 'criterion': 'gini',\n",
       " 'max_depth': 16,\n",
       " 'max_features': None,\n",
       " 'max_leaf_nodes': None,\n",
       " 'min_impurity_decrease': 0.0,\n",
       " 'min_impurity_split': None,\n",
       " 'min_samples_leaf': 1,\n",
       " 'min_samples_split': 2,\n",
       " 'min_weight_fraction_leaf': 0.0,\n",
       " 'presort': False,\n",
       " 'random_state': 1111,\n",
       " 'splitter': 'best'}"
      ]
     },
     "execution_count": 111,
     "metadata": {},
     "output_type": "execute_result"
    }
   ],
   "source": [
    "dtree.get_params()"
   ]
  },
  {
   "cell_type": "raw",
   "metadata": {},
   "source": [
    "from sklearn.metrics import accuracy_score, precision_score, recall_score\n",
    "accuracy_score(y_train, y_predict)"
   ]
  },
  {
   "cell_type": "raw",
   "metadata": {},
   "source": [
    "precision_score(y_train, y_predict,  average=None)"
   ]
  },
  {
   "cell_type": "raw",
   "metadata": {},
   "source": [
    "recall_score(y_train, y_predict,  average=None)"
   ]
  },
  {
   "cell_type": "raw",
   "metadata": {},
   "source": [
    "print(\"Training: {0:.2f}\".format(accuracy_score(y_train, y_trainpredict)))"
   ]
  },
  {
   "cell_type": "raw",
   "metadata": {},
   "source": [
    "print(\"Testing: {0:.2f}\".format(accuracy_score(y_test, y_predict)))"
   ]
  },
  {
   "cell_type": "raw",
   "metadata": {},
   "source": [
    "dtree.score(X_test, y_test)"
   ]
  },
  {
   "cell_type": "code",
   "execution_count": 112,
   "metadata": {},
   "outputs": [],
   "source": [
    "X1_train, X1_test, y1_train, y1_test = train_test_split(Xnew, y, test_size = 0.2, random_state=1111)"
   ]
  },
  {
   "cell_type": "code",
   "execution_count": 113,
   "metadata": {},
   "outputs": [],
   "source": [
    "from sklearn.preprocessing import StandardScaler\n",
    "from sklearn.ensemble import RandomForestClassifier\n",
    "from sklearn.metrics import confusion_matrix\n"
   ]
  },
  {
   "cell_type": "code",
   "execution_count": 114,
   "metadata": {},
   "outputs": [],
   "source": [
    "scaler = StandardScaler()\n",
    "X1_train = scaler.fit_transform(X1_train)\n",
    "X1_test = scaler.transform(X1_test)"
   ]
  },
  {
   "cell_type": "code",
   "execution_count": 115,
   "metadata": {},
   "outputs": [
    {
     "name": "stderr",
     "output_type": "stream",
     "text": [
      "C:\\Users\\Naeemah\\Anaconda3\\lib\\site-packages\\sklearn\\ensemble\\forest.py:245: FutureWarning: The default value of n_estimators will change from 10 in version 0.20 to 100 in 0.22.\n",
      "  \"10 in version 0.20 to 100 in 0.22.\", FutureWarning)\n"
     ]
    },
    {
     "data": {
      "text/plain": [
       "RandomForestClassifier(bootstrap=True, class_weight=None, criterion='gini',\n",
       "                       max_depth=None, max_features='auto', max_leaf_nodes=None,\n",
       "                       min_impurity_decrease=0.0, min_impurity_split=None,\n",
       "                       min_samples_leaf=1, min_samples_split=2,\n",
       "                       min_weight_fraction_leaf=0.0, n_estimators=10,\n",
       "                       n_jobs=None, oob_score=False, random_state=1111,\n",
       "                       verbose=0, warm_start=False)"
      ]
     },
     "execution_count": 115,
     "metadata": {},
     "output_type": "execute_result"
    }
   ],
   "source": [
    "classifier = RandomForestClassifier(random_state = 1111, )\n",
    "classifier.fit(X1_train, y1_train)"
   ]
  },
  {
   "cell_type": "code",
   "execution_count": 116,
   "metadata": {},
   "outputs": [
    {
     "data": {
      "application/vnd.jupyter.widget-view+json": {
       "model_id": "cae7df444536458baf93384c22350a02",
       "version_major": 2,
       "version_minor": 0
      },
      "text/plain": [
       "HBox(children=(IntProgress(value=0, max=50), HTML(value='')))"
      ]
     },
     "metadata": {},
     "output_type": "display_data"
    },
    {
     "name": "stdout",
     "output_type": "stream",
     "text": [
      "\n"
     ]
    }
   ],
   "source": [
    "classifier.score(X1_test, y1_test)\n",
    "for i in tqdm(range(50)):\n",
    "    time.sleep(0.1)"
   ]
  },
  {
   "cell_type": "code",
   "execution_count": 117,
   "metadata": {},
   "outputs": [
    {
     "data": {
      "application/vnd.jupyter.widget-view+json": {
       "model_id": "72baf9fdfab54338b384a2b3f6c50ce4",
       "version_major": 2,
       "version_minor": 0
      },
      "text/plain": [
       "HBox(children=(IntProgress(value=0, max=50), HTML(value='')))"
      ]
     },
     "metadata": {},
     "output_type": "display_data"
    },
    {
     "name": "stdout",
     "output_type": "stream",
     "text": [
      "\n"
     ]
    }
   ],
   "source": [
    "y1_pred = classifier.predict(X1_test)\n",
    "for i in tqdm(range(50)):\n",
    "    time.sleep(0.1)"
   ]
  },
  {
   "cell_type": "code",
   "execution_count": 118,
   "metadata": {},
   "outputs": [
    {
     "name": "stdout",
     "output_type": "stream",
     "text": [
      "Accuracy: 0.7064529058116232\n"
     ]
    },
    {
     "data": {
      "application/vnd.jupyter.widget-view+json": {
       "model_id": "9c7f6d0dfee34adba9f03af3d4a23634",
       "version_major": 2,
       "version_minor": 0
      },
      "text/plain": [
       "HBox(children=(IntProgress(value=0, max=50), HTML(value='')))"
      ]
     },
     "metadata": {},
     "output_type": "display_data"
    },
    {
     "name": "stdout",
     "output_type": "stream",
     "text": [
      "\n"
     ]
    }
   ],
   "source": [
    "from sklearn import metrics\n",
    "print(\"Accuracy:\",metrics.accuracy_score(y1_test, y1_pred))\n",
    "for i in tqdm(range(50)):\n",
    "    time.sleep(0.1)"
   ]
  },
  {
   "cell_type": "code",
   "execution_count": 119,
   "metadata": {},
   "outputs": [
    {
     "data": {
      "application/vnd.jupyter.widget-view+json": {
       "model_id": "2a57a4e708b74f56ba0190b145430fa3",
       "version_major": 2,
       "version_minor": 0
      },
      "text/plain": [
       "HBox(children=(IntProgress(value=0, max=50), HTML(value='')))"
      ]
     },
     "metadata": {},
     "output_type": "display_data"
    },
    {
     "name": "stdout",
     "output_type": "stream",
     "text": [
      "\n"
     ]
    }
   ],
   "source": [
    "from sklearn.model_selection import RandomizedSearchCV\n",
    "# Number of trees in random forest\n",
    "n_estimators = [int(x) for x in np.linspace(start = 200, stop = 2000, num = 10)]\n",
    "# Number of features to consider at every split\n",
    "max_features = ['auto', 'sqrt']\n",
    "# Maximum number of levels in tree\n",
    "max_depth = [int(x) for x in np.linspace(10, 110, num = 11)]\n",
    "max_depth.append(None)\n",
    "# Minimum number of samples required to split a node\n",
    "min_samples_split = [2, 5, 10]\n",
    "# Minimum number of samples required at each leaf node\n",
    "min_samples_leaf = [1, 2, 4]\n",
    "# Method of selecting samples for training each tree\n",
    "bootstrap = [True, False]\n",
    "for i in tqdm(range(50)):\n",
    "    time.sleep(0.1)"
   ]
  },
  {
   "cell_type": "code",
   "execution_count": 120,
   "metadata": {},
   "outputs": [
    {
     "data": {
      "application/vnd.jupyter.widget-view+json": {
       "model_id": "66e36cc03094475880d5de8609640cc2",
       "version_major": 2,
       "version_minor": 0
      },
      "text/plain": [
       "HBox(children=(IntProgress(value=0, max=50), HTML(value='')))"
      ]
     },
     "metadata": {},
     "output_type": "display_data"
    },
    {
     "name": "stdout",
     "output_type": "stream",
     "text": [
      "\n"
     ]
    }
   ],
   "source": [
    "# Create the random grid\n",
    "random_grid = {'n_estimators': n_estimators,\n",
    "               'max_features': max_features,\n",
    "               'max_depth': max_depth,\n",
    "               'min_samples_split': min_samples_split,\n",
    "               'min_samples_leaf': min_samples_leaf,\n",
    "               'bootstrap': bootstrap}\n",
    "for i in tqdm(range(50)):\n",
    "    time.sleep(0.1)"
   ]
  },
  {
   "cell_type": "code",
   "execution_count": 121,
   "metadata": {},
   "outputs": [
    {
     "name": "stdout",
     "output_type": "stream",
     "text": [
      "{'n_estimators': [200, 400, 600, 800, 1000, 1200, 1400, 1600, 1800, 2000], 'max_features': ['auto', 'sqrt'], 'max_depth': [10, 20, 30, 40, 50, 60, 70, 80, 90, 100, 110, None], 'min_samples_split': [2, 5, 10], 'min_samples_leaf': [1, 2, 4], 'bootstrap': [True, False]}\n"
     ]
    },
    {
     "data": {
      "application/vnd.jupyter.widget-view+json": {
       "model_id": "3bb64f2b00fd4096820568e671a87881",
       "version_major": 2,
       "version_minor": 0
      },
      "text/plain": [
       "HBox(children=(IntProgress(value=0, max=50), HTML(value='')))"
      ]
     },
     "metadata": {},
     "output_type": "display_data"
    },
    {
     "name": "stdout",
     "output_type": "stream",
     "text": [
      "\n"
     ]
    }
   ],
   "source": [
    "print(random_grid)\n",
    "for i in tqdm(range(50)):\n",
    "    time.sleep(0.1)"
   ]
  },
  {
   "cell_type": "code",
   "execution_count": 122,
   "metadata": {},
   "outputs": [
    {
     "name": "stdout",
     "output_type": "stream",
     "text": [
      "Fitting 3 folds for each of 100 candidates, totalling 300 fits\n"
     ]
    },
    {
     "name": "stderr",
     "output_type": "stream",
     "text": [
      "[Parallel(n_jobs=-1)]: Using backend LokyBackend with 4 concurrent workers.\n",
      "[Parallel(n_jobs=-1)]: Done  33 tasks      | elapsed: 20.5min\n",
      "[Parallel(n_jobs=-1)]: Done 154 tasks      | elapsed: 91.9min\n",
      "[Parallel(n_jobs=-1)]: Done 300 out of 300 | elapsed: 175.8min finished\n"
     ]
    },
    {
     "data": {
      "application/vnd.jupyter.widget-view+json": {
       "model_id": "36f68e8e3d08468fbf69596a11f5a143",
       "version_major": 2,
       "version_minor": 0
      },
      "text/plain": [
       "HBox(children=(IntProgress(value=0, max=50), HTML(value='')))"
      ]
     },
     "metadata": {},
     "output_type": "display_data"
    },
    {
     "name": "stdout",
     "output_type": "stream",
     "text": [
      "\n"
     ]
    }
   ],
   "source": [
    "# Use the random grid to search for best hyperparameters\n",
    "# First create the base model to tune\n",
    "rf = RandomForestClassifier()\n",
    "# Random search of parameters, using 3 fold cross validation, \n",
    "# search across 100 different combinations, and use all available cores\n",
    "rf_random = RandomizedSearchCV(estimator = rf, param_distributions = random_grid, n_iter = 100, cv = 3, verbose=2, random_state=42, n_jobs = -1)\n",
    "# Fit the random search model\n",
    "rf_random.fit(X1_train, y1_train)\n",
    "for i in tqdm(range(50)):\n",
    "    time.sleep(0.1)"
   ]
  },
  {
   "cell_type": "code",
   "execution_count": 123,
   "metadata": {},
   "outputs": [
    {
     "data": {
      "application/vnd.jupyter.widget-view+json": {
       "model_id": "e63953ac0f644854ba07e890d39c29dc",
       "version_major": 2,
       "version_minor": 0
      },
      "text/plain": [
       "HBox(children=(IntProgress(value=0, max=50), HTML(value='')))"
      ]
     },
     "metadata": {},
     "output_type": "display_data"
    },
    {
     "name": "stdout",
     "output_type": "stream",
     "text": [
      "\n"
     ]
    }
   ],
   "source": [
    "rf_random.best_params_\n",
    "for i in tqdm(range(50)):\n",
    "    time.sleep(0.1)"
   ]
  },
  {
   "cell_type": "code",
   "execution_count": 124,
   "metadata": {},
   "outputs": [
    {
     "name": "stdout",
     "output_type": "stream",
     "text": [
      "{'n_estimators': 2000, 'min_samples_split': 10, 'min_samples_leaf': 2, 'max_features': 'auto', 'max_depth': 40, 'bootstrap': True}\n"
     ]
    },
    {
     "data": {
      "application/vnd.jupyter.widget-view+json": {
       "model_id": "46a3b361a50447728089490e29c5b05c",
       "version_major": 2,
       "version_minor": 0
      },
      "text/plain": [
       "HBox(children=(IntProgress(value=0, max=50), HTML(value='')))"
      ]
     },
     "metadata": {},
     "output_type": "display_data"
    },
    {
     "name": "stdout",
     "output_type": "stream",
     "text": [
      "\n"
     ]
    }
   ],
   "source": [
    "print(rf_random.best_params_)\n",
    "for i in tqdm(range(50)):\n",
    "    time.sleep(0.1)"
   ]
  },
  {
   "cell_type": "code",
   "execution_count": null,
   "metadata": {},
   "outputs": [],
   "source": []
  },
  {
   "cell_type": "code",
   "execution_count": null,
   "metadata": {},
   "outputs": [],
   "source": []
  }
 ],
 "metadata": {
  "kernelspec": {
   "display_name": "Python 3",
   "language": "python",
   "name": "python3"
  },
  "language_info": {
   "codemirror_mode": {
    "name": "ipython",
    "version": 3
   },
   "file_extension": ".py",
   "mimetype": "text/x-python",
   "name": "python",
   "nbconvert_exporter": "python",
   "pygments_lexer": "ipython3",
   "version": "3.7.3"
  }
 },
 "nbformat": 4,
 "nbformat_minor": 2
}
